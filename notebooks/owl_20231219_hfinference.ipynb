{
 "cells": [
  {
   "attachments": {},
   "cell_type": "markdown",
   "metadata": {},
   "source": [
    "# [Amazon Reviews]\n",
    "\n",
    "Process amazon reviews datasets"
   ]
  },
  {
   "attachments": {},
   "cell_type": "markdown",
   "metadata": {},
   "source": [
    "# Setup"
   ]
  },
  {
   "attachments": {},
   "cell_type": "markdown",
   "metadata": {},
   "source": [
    "## Library import\n",
    "We import all the required Python libraries"
   ]
  },
  {
   "cell_type": "code",
   "execution_count": 2,
   "metadata": {},
   "outputs": [],
   "source": [
    "%load_ext autoreload\n",
    "%autoreload 2\n",
    "%matplotlib inline"
   ]
  },
  {
   "cell_type": "code",
   "execution_count": 3,
   "metadata": {
    "ExecuteTime": {
     "end_time": "2019-06-16T14:44:50.874881Z",
     "start_time": "2019-06-16T14:44:38.616867Z"
    }
   },
   "outputs": [],
   "source": [
    "import os,sys\n",
    "import joblib\n",
    "from os import path\n",
    "\n",
    "# Data manipulation\n",
    "import pandas as pd\n",
    "import numpy as np\n",
    "\n",
    "# Options for pandas\n",
    "pd.options.display.max_columns = 50\n",
    "pd.options.display.max_rows = 30\n",
    "\n",
    "\n",
    "# Visualizations\n",
    "import matplotlib.pyplot as plt\n",
    "import seaborn as sns"
   ]
  },
  {
   "attachments": {},
   "cell_type": "markdown",
   "metadata": {},
   "source": [
    "## Local library import\n",
    "We import all the required local libraries libraries"
   ]
  },
  {
   "cell_type": "code",
   "execution_count": 5,
   "metadata": {
    "ExecuteTime": {
     "end_time": "2019-06-16T14:44:51.041573Z",
     "start_time": "2019-06-16T14:44:50.878543Z"
    }
   },
   "outputs": [],
   "source": [
    "# Include local library paths\n",
    "import sys\n",
    "# add project folders so local libraries can be imported\n",
    "sys.path.insert(1, os.path.join(os.getcwd()  , '..'))\n",
    "sys.path.insert(1, os.path.join(os.getcwd()  , '../src'))"
   ]
  },
  {
   "cell_type": "code",
   "execution_count": 6,
   "metadata": {},
   "outputs": [],
   "source": [
    "# notebook misc functions\n",
    "# def pretty_print(df):\n",
    "#     return display( HTML( df.to_html().replace(\"\\\\n\",\"<br>\") ) )\n",
    "\n",
    "def displayAll(df):\n",
    "    with pd.option_context('display.max_rows', None, 'display.max_columns', None, 'display.max_colwidth', None):\t\n",
    "        display(df)  \n",
    "\n",
    "# import textwrap\n",
    "import pprint\n",
    "def wrap_print(txt):\n",
    "    # print(textwrap.wrap(txt))\n",
    "    print(pprint.pprint(txt, width=160))"
   ]
  },
  {
   "attachments": {},
   "cell_type": "markdown",
   "metadata": {},
   "source": [
    "# Parameter and functions definition\n",
    "We set all relevant parameters for our notebook. By convention, parameters are uppercase, while all the \n",
    "other variables follow Python's guidelines."
   ]
  },
  {
   "cell_type": "code",
   "execution_count": 7,
   "metadata": {},
   "outputs": [],
   "source": [
    "from tqdm import tqdm\n",
    "from time import sleep\n",
    "import traceback\n",
    "import requests\n",
    "from scipy import stats"
   ]
  },
  {
   "cell_type": "code",
   "execution_count": 8,
   "metadata": {},
   "outputs": [],
   "source": [
    "def load_df(fpath, sep='\\t', print_log=True, index_col=0, **kwargs):\n",
    "    if not index_col is None:\n",
    "        df = pd.read_csv(fpath, sep=sep, index_col=[index_col], **kwargs)\n",
    "    else:\n",
    "        df = pd.read_csv(fpath, sep=sep, **kwargs)\n",
    "    if print_log:\n",
    "        print(df.shape)\n",
    "        print(df.columns)\n",
    "        display(df.head())\n",
    "    return df"
   ]
  },
  {
   "cell_type": "code",
   "execution_count": 9,
   "metadata": {},
   "outputs": [],
   "source": [
    "def truncate_txt(txt, max_seq):\n",
    "    ws = txt.split()\n",
    "    t = ' '.join( ws[:max_seq]) if len(ws) > max_seq else txt\n",
    "    return t\n",
    "\n",
    "def hf_infer(query, txt, max_seq=480, debug=False):\n",
    "    try:\n",
    "\n",
    "        output = query({\n",
    "            # \"inputs\": [truncate_txt(t, max_seq) for t in txt] if isinstance(txt, list) else truncate_txt(txt, max_seq) ,\n",
    "            \"inputs\": txt ,\n",
    "            # \"parameters\": {\"truncation\": True}\n",
    "            })\n",
    "        if debug:\n",
    "            print(f\"{txt[:-50]}-->  {output}\")\n",
    "        return output\n",
    "    except Exception as err:\n",
    "        print(f\"Problem--> {err}\")\n",
    "        traceback.print_exc() \n",
    "    pass\n",
    "\n",
    "def hf_infer_batch(df:pd.DataFrame, query, input_col_name, output_col_name, max_seq=480, chunks=None):\n",
    "    chunks = chunks if chunks else max(int(len(df)/10), 1)\n",
    "    rs_df = []\n",
    "    i = 0\n",
    "    for dftmp in tqdm(np.array_split(df, chunks), total=chunks):        \n",
    "        try:\n",
    "            dftmp[output_col_name] = hf_infer(query, txt=dftmp[input_col_name].values.tolist(), max_seq=max_seq, debug=i<3)\n",
    "            i+=1\n",
    "        except Exception as err:\n",
    "            print(f\"Problem--> {err}\")\n",
    "            # sleep(0.5)\n",
    "            pass\n",
    "        rs_df.append(dftmp)\n",
    "    \n",
    "    return rs_df\n",
    "\n",
    "    "
   ]
  },
  {
   "attachments": {},
   "cell_type": "markdown",
   "metadata": {},
   "source": [
    "\n",
    "# Data import and pre-processing\n",
    "Read Amazon reviews, combine meta-info and generate combined file"
   ]
  },
  {
   "cell_type": "code",
   "execution_count": 10,
   "metadata": {},
   "outputs": [],
   "source": [
    "import json\n",
    "import pandas as pd\n",
    "import gzip\n",
    "\n",
    "def parse(path):\n",
    "  g = gzip.open(path, 'rb')\n",
    "  for l in g:\n",
    "    yield json.loads(l)\n",
    "\n",
    "def getDF(path):\n",
    "  i = 0\n",
    "  df = {}\n",
    "  for d in parse(path):\n",
    "    df[i] = d\n",
    "    i += 1\n",
    "  return pd.DataFrame.from_dict(df, orient='index')\n"
   ]
  },
  {
   "attachments": {},
   "cell_type": "markdown",
   "metadata": {},
   "source": [
    "# Adding meta-features"
   ]
  },
  {
   "cell_type": "code",
   "execution_count": 9,
   "metadata": {},
   "outputs": [
    {
     "name": "stdout",
     "output_type": "stream",
     "text": [
      "(1930, 4)\n",
      "Index(['text', 'source', 'class', 'tokeep'], dtype='object')\n"
     ]
    },
    {
     "data": {
      "text/html": [
       "<div>\n",
       "<style scoped>\n",
       "    .dataframe tbody tr th:only-of-type {\n",
       "        vertical-align: middle;\n",
       "    }\n",
       "\n",
       "    .dataframe tbody tr th {\n",
       "        vertical-align: top;\n",
       "    }\n",
       "\n",
       "    .dataframe thead th {\n",
       "        text-align: right;\n",
       "    }\n",
       "</style>\n",
       "<table border=\"1\" class=\"dataframe\">\n",
       "  <thead>\n",
       "    <tr style=\"text-align: right;\">\n",
       "      <th></th>\n",
       "      <th>text</th>\n",
       "      <th>source</th>\n",
       "      <th>class</th>\n",
       "      <th>tokeep</th>\n",
       "    </tr>\n",
       "  </thead>\n",
       "  <tbody>\n",
       "    <tr>\n",
       "      <th>0</th>\n",
       "      <td>i have been dealing with these for quite some ...</td>\n",
       "      <td>Quora</td>\n",
       "      <td>panic</td>\n",
       "      <td>1</td>\n",
       "    </tr>\n",
       "    <tr>\n",
       "      <th>1</th>\n",
       "      <td>i was walking to school, but was running late ...</td>\n",
       "      <td>Quora</td>\n",
       "      <td>panic</td>\n",
       "      <td>1</td>\n",
       "    </tr>\n",
       "    <tr>\n",
       "      <th>2</th>\n",
       "      <td>for me, panic attacks come two ways: randomly ...</td>\n",
       "      <td>Quora</td>\n",
       "      <td>panic</td>\n",
       "      <td>1</td>\n",
       "    </tr>\n",
       "    <tr>\n",
       "      <th>3</th>\n",
       "      <td>i’m driving home, riding a tingly high from sa...</td>\n",
       "      <td>Quora</td>\n",
       "      <td>panic</td>\n",
       "      <td>1</td>\n",
       "    </tr>\n",
       "    <tr>\n",
       "      <th>4</th>\n",
       "      <td>it feels like your body turns into a black hol...</td>\n",
       "      <td>Quora</td>\n",
       "      <td>panic</td>\n",
       "      <td>1</td>\n",
       "    </tr>\n",
       "  </tbody>\n",
       "</table>\n",
       "</div>"
      ],
      "text/plain": [
       "                                                text source  class  tokeep\n",
       "0  i have been dealing with these for quite some ...  Quora  panic       1\n",
       "1  i was walking to school, but was running late ...  Quora  panic       1\n",
       "2  for me, panic attacks come two ways: randomly ...  Quora  panic       1\n",
       "3  i’m driving home, riding a tingly high from sa...  Quora  panic       1\n",
       "4  it feels like your body turns into a black hol...  Quora  panic       1"
      ]
     },
     "metadata": {},
     "output_type": "display_data"
    }
   ],
   "source": [
    "df = load_df(\"../out/paanx_preprocessed.tsv\")"
   ]
  },
  {
   "attachments": {},
   "cell_type": "markdown",
   "metadata": {},
   "source": [
    "### Process with Mental Roberta (stressed?)"
   ]
  },
  {
   "cell_type": "code",
   "execution_count": 10,
   "metadata": {},
   "outputs": [],
   "source": [
    "import requests\n",
    "\n",
    "API_URL = \"https://api-inference.huggingface.co/models/mental/mental-roberta-base\"\n",
    "headers = {\"Authorization\": \"Bearer hf_...\"} \n",
    "\n",
    "def query(payload):\n",
    "\tresponse = requests.post(API_URL, headers=headers, json=payload)\n",
    "\treturn response.json()\n",
    "\t"
   ]
  },
  {
   "cell_type": "code",
   "execution_count": 11,
   "metadata": {},
   "outputs": [],
   "source": [
    "API_URL = \"https://api-inference.huggingface.co/models/mental/mental-roberta-base\"\n",
    "headers = {\"Authorization\": \"Bearer hf_...\"} \n"
   ]
  },
  {
   "cell_type": "code",
   "execution_count": 106,
   "metadata": {},
   "outputs": [
    {
     "data": {
      "text/html": [
       "<div>\n",
       "<style scoped>\n",
       "    .dataframe tbody tr th:only-of-type {\n",
       "        vertical-align: middle;\n",
       "    }\n",
       "\n",
       "    .dataframe tbody tr th {\n",
       "        vertical-align: top;\n",
       "    }\n",
       "\n",
       "    .dataframe thead th {\n",
       "        text-align: right;\n",
       "    }\n",
       "</style>\n",
       "<table border=\"1\" class=\"dataframe\">\n",
       "  <thead>\n",
       "    <tr style=\"text-align: right;\">\n",
       "      <th></th>\n",
       "      <th>text</th>\n",
       "      <th>source</th>\n",
       "      <th>class</th>\n",
       "      <th>tokeep</th>\n",
       "      <th>instruction</th>\n",
       "    </tr>\n",
       "  </thead>\n",
       "  <tbody>\n",
       "    <tr>\n",
       "      <th>0</th>\n",
       "      <td>i have been dealing with these for quite some ...</td>\n",
       "      <td>Quora</td>\n",
       "      <td>panic</td>\n",
       "      <td>1</td>\n",
       "      <td>Post: i have been dealing with these for quite...</td>\n",
       "    </tr>\n",
       "    <tr>\n",
       "      <th>1</th>\n",
       "      <td>i was walking to school, but was running late ...</td>\n",
       "      <td>Quora</td>\n",
       "      <td>panic</td>\n",
       "      <td>1</td>\n",
       "      <td>Post: i was walking to school, but was running...</td>\n",
       "    </tr>\n",
       "    <tr>\n",
       "      <th>2</th>\n",
       "      <td>for me, panic attacks come two ways: randomly ...</td>\n",
       "      <td>Quora</td>\n",
       "      <td>panic</td>\n",
       "      <td>1</td>\n",
       "      <td>Post: for me, panic attacks come two ways: ran...</td>\n",
       "    </tr>\n",
       "    <tr>\n",
       "      <th>3</th>\n",
       "      <td>i’m driving home, riding a tingly high from sa...</td>\n",
       "      <td>Quora</td>\n",
       "      <td>panic</td>\n",
       "      <td>1</td>\n",
       "      <td>Post: i’m driving home, riding a tingly high f...</td>\n",
       "    </tr>\n",
       "    <tr>\n",
       "      <th>4</th>\n",
       "      <td>it feels like your body turns into a black hol...</td>\n",
       "      <td>Quora</td>\n",
       "      <td>panic</td>\n",
       "      <td>1</td>\n",
       "      <td>Post: it feels like your body turns into a bla...</td>\n",
       "    </tr>\n",
       "  </tbody>\n",
       "</table>\n",
       "</div>"
      ],
      "text/plain": [
       "                                                text source  class  tokeep  \\\n",
       "0  i have been dealing with these for quite some ...  Quora  panic       1   \n",
       "1  i was walking to school, but was running late ...  Quora  panic       1   \n",
       "2  for me, panic attacks come two ways: randomly ...  Quora  panic       1   \n",
       "3  i’m driving home, riding a tingly high from sa...  Quora  panic       1   \n",
       "4  it feels like your body turns into a black hol...  Quora  panic       1   \n",
       "\n",
       "                                         instruction  \n",
       "0  Post: i have been dealing with these for quite...  \n",
       "1  Post: i was walking to school, but was running...  \n",
       "2  Post: for me, panic attacks come two ways: ran...  \n",
       "3  Post: i’m driving home, riding a tingly high f...  \n",
       "4  Post: it feels like your body turns into a bla...  "
      ]
     },
     "execution_count": 106,
     "metadata": {},
     "output_type": "execute_result"
    }
   ],
   "source": [
    "df[\"instruction\"] =  df.text.map(\n",
    "    lambda v: f\"Post: {v[:350]}\\n\\nConsider this post on social media to answer the question: The poster of this post experiencing <mask>.\")\n",
    "df.head()"
   ]
  },
  {
   "cell_type": "code",
   "execution_count": 150,
   "metadata": {},
   "outputs": [
    {
     "name": "stdout",
     "output_type": "stream",
     "text": [
      "Post: i have been dealing with these for quite some time now, so i'll drop my two cents. i shall break this into bullet points. if you're reading this, please read with all your heart. and please share this with anybody who might need it!firstly, the difference between panic attacks and anxiety attacks— anxiety is something that intensifies over time and\n",
      "\n",
      "Consider this post on social media to answer the question: The poster of this post experiencing <mask>.\n"
     ]
    }
   ],
   "source": [
    "print(df.iloc[0].instruction)"
   ]
  },
  {
   "cell_type": "code",
   "execution_count": 119,
   "metadata": {},
   "outputs": [
    {
     "name": "stderr",
     "output_type": "stream",
     "text": [
      " 79%|███████▊  | 1517/1930 [13:49<03:57,  1.74it/s]Traceback (most recent call last):\n",
      "  File \"/home/owlmx/miniconda3/envs/misinfofastcatch/lib/python3.8/site-packages/requests/models.py\", line 910, in json\n",
      "    return complexjson.loads(self.text, **kwargs)\n",
      "  File \"/home/owlmx/miniconda3/envs/misinfofastcatch/lib/python3.8/json/__init__.py\", line 357, in loads\n",
      "    return _default_decoder.decode(s)\n",
      "  File \"/home/owlmx/miniconda3/envs/misinfofastcatch/lib/python3.8/json/decoder.py\", line 337, in decode\n",
      "    obj, end = self.raw_decode(s, idx=_w(s, 0).end())\n",
      "  File \"/home/owlmx/miniconda3/envs/misinfofastcatch/lib/python3.8/json/decoder.py\", line 355, in raw_decode\n",
      "    raise JSONDecodeError(\"Expecting value\", s, err.value) from None\n",
      "json.decoder.JSONDecodeError: Expecting value: line 1 column 1 (char 0)\n",
      "\n",
      "During handling of the above exception, another exception occurred:\n",
      "\n",
      "Traceback (most recent call last):\n",
      "  File \"/tmp/ipykernel_91763/3335944442.py\", line 9, in hf_infer\n",
      "    output = query({\n",
      "  File \"/tmp/ipykernel_91763/2017396249.py\", line 9, in query\n",
      "    return response.json()\n",
      "  File \"/home/owlmx/miniconda3/envs/misinfofastcatch/lib/python3.8/site-packages/requests/models.py\", line 917, in json\n",
      "    raise RequestsJSONDecodeError(e.msg, e.doc, e.pos)\n",
      "requests.exceptions.JSONDecodeError: [Errno Expecting value] <html>\n",
      "<head><title>502 Bad Gateway</title></head>\n",
      "<body>\n",
      "<center><h1>502 Bad Gateway</h1></center>\n",
      "</body>\n",
      "</html>\n",
      ": 0\n",
      " 79%|███████▊  | 1518/1930 [13:49<03:39,  1.88it/s]"
     ]
    },
    {
     "name": "stdout",
     "output_type": "stream",
     "text": [
      "Problem--> [Errno Expecting value] <html>\n",
      "<head><title>502 Bad Gateway</title></head>\n",
      "<body>\n",
      "<center><h1>502 Bad Gateway</h1></center>\n",
      "</body>\n",
      "</html>\n",
      ": 0\n"
     ]
    },
    {
     "name": "stderr",
     "output_type": "stream",
     "text": [
      "100%|██████████| 1930/1930 [17:24<00:00,  1.85it/s]\n"
     ]
    },
    {
     "data": {
      "text/html": [
       "<div>\n",
       "<style scoped>\n",
       "    .dataframe tbody tr th:only-of-type {\n",
       "        vertical-align: middle;\n",
       "    }\n",
       "\n",
       "    .dataframe tbody tr th {\n",
       "        vertical-align: top;\n",
       "    }\n",
       "\n",
       "    .dataframe thead th {\n",
       "        text-align: right;\n",
       "    }\n",
       "</style>\n",
       "<table border=\"1\" class=\"dataframe\">\n",
       "  <thead>\n",
       "    <tr style=\"text-align: right;\">\n",
       "      <th></th>\n",
       "      <th>text</th>\n",
       "      <th>source</th>\n",
       "      <th>class</th>\n",
       "      <th>tokeep</th>\n",
       "      <th>instruction</th>\n",
       "      <th>mentalrobertaeval</th>\n",
       "    </tr>\n",
       "  </thead>\n",
       "  <tbody>\n",
       "    <tr>\n",
       "      <th>0</th>\n",
       "      <td>i have been dealing with these for quite some ...</td>\n",
       "      <td>Quora</td>\n",
       "      <td>panic</td>\n",
       "      <td>1</td>\n",
       "      <td>Post: i have been dealing with these for quite...</td>\n",
       "      <td>{}</td>\n",
       "    </tr>\n",
       "    <tr>\n",
       "      <th>1</th>\n",
       "      <td>i was walking to school, but was running late ...</td>\n",
       "      <td>Quora</td>\n",
       "      <td>panic</td>\n",
       "      <td>1</td>\n",
       "      <td>Post: i was walking to school, but was running...</td>\n",
       "      <td>{}</td>\n",
       "    </tr>\n",
       "    <tr>\n",
       "      <th>2</th>\n",
       "      <td>for me, panic attacks come two ways: randomly ...</td>\n",
       "      <td>Quora</td>\n",
       "      <td>panic</td>\n",
       "      <td>1</td>\n",
       "      <td>Post: for me, panic attacks come two ways: ran...</td>\n",
       "      <td>{}</td>\n",
       "    </tr>\n",
       "    <tr>\n",
       "      <th>3</th>\n",
       "      <td>i’m driving home, riding a tingly high from sa...</td>\n",
       "      <td>Quora</td>\n",
       "      <td>panic</td>\n",
       "      <td>1</td>\n",
       "      <td>Post: i’m driving home, riding a tingly high f...</td>\n",
       "      <td>{}</td>\n",
       "    </tr>\n",
       "    <tr>\n",
       "      <th>4</th>\n",
       "      <td>it feels like your body turns into a black hol...</td>\n",
       "      <td>Quora</td>\n",
       "      <td>panic</td>\n",
       "      <td>1</td>\n",
       "      <td>Post: it feels like your body turns into a bla...</td>\n",
       "      <td>{}</td>\n",
       "    </tr>\n",
       "    <tr>\n",
       "      <th>...</th>\n",
       "      <td>...</td>\n",
       "      <td>...</td>\n",
       "      <td>...</td>\n",
       "      <td>...</td>\n",
       "      <td>...</td>\n",
       "      <td>...</td>\n",
       "    </tr>\n",
       "    <tr>\n",
       "      <th>1925</th>\n",
       "      <td>i decided not to take the prescription medicat...</td>\n",
       "      <td>Reddit</td>\n",
       "      <td>anxiety</td>\n",
       "      <td>1</td>\n",
       "      <td>Post: i decided not to take the prescription m...</td>\n",
       "      <td>{'score': 0.3258158266544342, 'token': 6943, '...</td>\n",
       "    </tr>\n",
       "    <tr>\n",
       "      <th>1926</th>\n",
       "      <td>speaking to your doctor will help but the most...</td>\n",
       "      <td>Reddit</td>\n",
       "      <td>anxiety</td>\n",
       "      <td>1</td>\n",
       "      <td>Post: speaking to your doctor will help but th...</td>\n",
       "      <td>{'score': 0.3044068217277527, 'token': 6882, '...</td>\n",
       "    </tr>\n",
       "    <tr>\n",
       "      <th>1927</th>\n",
       "      <td>lorazepam. i only take it as needed (sparingly...</td>\n",
       "      <td>Reddit</td>\n",
       "      <td>anxiety</td>\n",
       "      <td>1</td>\n",
       "      <td>Post: lorazepam. i only take it as needed (spa...</td>\n",
       "      <td>{'score': 0.2606504261493683, 'token': 6882, '...</td>\n",
       "    </tr>\n",
       "    <tr>\n",
       "      <th>1928</th>\n",
       "      <td>hi there. block your social media for a days a...</td>\n",
       "      <td>Reddit</td>\n",
       "      <td>anxiety</td>\n",
       "      <td>1</td>\n",
       "      <td>Post: hi there. block your social media for a ...</td>\n",
       "      <td>{'score': 0.8879285454750061, 'token': 6882, '...</td>\n",
       "    </tr>\n",
       "    <tr>\n",
       "      <th>1929</th>\n",
       "      <td>i don't believe medication fixes the core prob...</td>\n",
       "      <td>Reddit</td>\n",
       "      <td>anxiety</td>\n",
       "      <td>1</td>\n",
       "      <td>Post: i don't believe medication fixes the cor...</td>\n",
       "      <td>{'score': 0.4191024601459503, 'token': 6943, '...</td>\n",
       "    </tr>\n",
       "  </tbody>\n",
       "</table>\n",
       "<p>1930 rows × 6 columns</p>\n",
       "</div>"
      ],
      "text/plain": [
       "                                                   text  source    class  \\\n",
       "0     i have been dealing with these for quite some ...   Quora    panic   \n",
       "1     i was walking to school, but was running late ...   Quora    panic   \n",
       "2     for me, panic attacks come two ways: randomly ...   Quora    panic   \n",
       "3     i’m driving home, riding a tingly high from sa...   Quora    panic   \n",
       "4     it feels like your body turns into a black hol...   Quora    panic   \n",
       "...                                                 ...     ...      ...   \n",
       "1925  i decided not to take the prescription medicat...  Reddit  anxiety   \n",
       "1926  speaking to your doctor will help but the most...  Reddit  anxiety   \n",
       "1927  lorazepam. i only take it as needed (sparingly...  Reddit  anxiety   \n",
       "1928  hi there. block your social media for a days a...  Reddit  anxiety   \n",
       "1929  i don't believe medication fixes the core prob...  Reddit  anxiety   \n",
       "\n",
       "      tokeep                                        instruction  \\\n",
       "0          1  Post: i have been dealing with these for quite...   \n",
       "1          1  Post: i was walking to school, but was running...   \n",
       "2          1  Post: for me, panic attacks come two ways: ran...   \n",
       "3          1  Post: i’m driving home, riding a tingly high f...   \n",
       "4          1  Post: it feels like your body turns into a bla...   \n",
       "...      ...                                                ...   \n",
       "1925       1  Post: i decided not to take the prescription m...   \n",
       "1926       1  Post: speaking to your doctor will help but th...   \n",
       "1927       1  Post: lorazepam. i only take it as needed (spa...   \n",
       "1928       1  Post: hi there. block your social media for a ...   \n",
       "1929       1  Post: i don't believe medication fixes the cor...   \n",
       "\n",
       "                                      mentalrobertaeval  \n",
       "0                                                    {}  \n",
       "1                                                    {}  \n",
       "2                                                    {}  \n",
       "3                                                    {}  \n",
       "4                                                    {}  \n",
       "...                                                 ...  \n",
       "1925  {'score': 0.3258158266544342, 'token': 6943, '...  \n",
       "1926  {'score': 0.3044068217277527, 'token': 6882, '...  \n",
       "1927  {'score': 0.2606504261493683, 'token': 6882, '...  \n",
       "1928  {'score': 0.8879285454750061, 'token': 6882, '...  \n",
       "1929  {'score': 0.4191024601459503, 'token': 6943, '...  \n",
       "\n",
       "[1930 rows x 6 columns]"
      ]
     },
     "metadata": {},
     "output_type": "display_data"
    }
   ],
   "source": [
    "\n",
    "dftmp = df.copy()\n",
    "tgtcol = \"mentalrobertaeval\"\n",
    "dftmp[tgtcol] = None\n",
    "for i, row in tqdm(enumerate(dftmp.iterrows()), total=len(dftmp)):\n",
    "    rs = hf_infer(query, row[1][\"instruction\"], max_seq=250)\n",
    "    dftmp.at[row[0], tgtcol] = rs\n",
    "\n",
    "dftmp[tgtcol] = dftmp[tgtcol].map(lambda v: v[0] if isinstance(v, list) else {})\n",
    "\n",
    "\n",
    "display(dftmp)"
   ]
  },
  {
   "cell_type": "code",
   "execution_count": 121,
   "metadata": {},
   "outputs": [
    {
     "data": {
      "text/plain": [
       "{}                                                                                                                                                                                                                                                                                                                                                                                                                                                                                                                                                                           57\n",
       "{'score': 0.29403504729270935, 'token': 6882, 'token_str': ' anxiety', 'sequence': 'Post: follow the 3-3-3 rule start by looking around you and naming three things you can see. then listen. what three sounds do you hear? next, move three parts of your body, such as your fingers, toes, or clench and release your shoulders. normally, the rule of threes contains the following: you can survive three minutes without breathable air (unconscio\n",
       "\n",
       "Consider this post on social media to answer the question: The poster of this post experiencing anxiety.'}          2\n",
       "{'score': 0.9316505789756775, 'token': 6882, 'token_str': ' anxiety', 'sequence': 'Post: i don't try. this has been happening with me, very frequently, since last few days. everytime i feel anxious, i've realized that the more i try to run away from it, the more it catches me. the more important thing to do is to be okay with it! yes, i am feeling anxious. yes, i am nervous, worried and restless. but that's okay, this will pass. stay s\n",
       "\n",
       "Consider this post on social media to answer the question: The poster of this post experiencing anxiety.'}           2\n",
       "{'score': 0.23142898082733154, 'token': 6882, 'token_str': ' anxiety', 'sequence': 'Post: thwack. they’re sudden. they hit you. i rarely get them now. used to happen a lot more. when you start taking better care of yourself; physically, mentally, emotionally and spiritually. the thwacks; the attacks, happen less. but once in a while, once every couple years, they sneak up on me. one came recently, i’ll share it with you, all guts and bl\n",
       "\n",
       "Consider this post on social media to answer the question: The poster of this post experiencing anxiety.'}          2\n",
       "{'score': 0.9550936818122864, 'token': 6882, 'token_str': ' anxiety', 'sequence': 'Post: i can help you beat anxiety with vedic astrology.. i have proven it with known people.. you can provide me with your dob, time of birth and location of birth.. i will let you know how to deal with it.\n",
       "\n",
       "Consider this post on social media to answer the question: The poster of this post experiencing anxiety.'}                                                                                                                                                                 1\n",
       "                                                                                                                                                                                                                                                                                                                                                                                                                                                                                                                                                                             ..\n",
       "{'score': 0.2727852165699005, 'token': 6882, 'token_str': ' anxiety', 'sequence': 'Post: due to poor lifestyle poor quality external and internal environment…\n",
       "\n",
       "increasing stress tension worry anger like factors which are very common these days.\n",
       "\n",
       "Consider this post on social media to answer the question: The poster of this post experiencing anxiety.'}                                                                                                                                                                                                              1\n",
       "{'score': 0.1174677386879921, 'token': 6882, 'token_str': ' anxiety', 'sequence': 'Post: i have a couple of different theories. one is due to lack of exercise. as a child i exercised nearly all day! walking to the river with my cousins (4ks) swimmmng all day and walking home. riding push bikes when we got home until after dark and finally falling into bed only to wake at dawn and repeat. there was nothing to watch on tv. nothing! the v\n",
       "\n",
       "Consider this post on social media to answer the question: The poster of this post experiencing anxiety.'}           1\n",
       "{'score': 0.9467998743057251, 'token': 6882, 'token_str': ' anxiety', 'sequence': 'Post: everyone feels anxious thought their lives, from a job interview, going to a new school for the first time, or even meeting new people. however, the people who have an anxiety disorder have intense and consent fears from a lot of things such as, what other people might think of them, attending class, interacting with people. people who have anxiety\n",
       "\n",
       "Consider this post on social media to answer the question: The poster of this post experiencing anxiety.'}           1\n",
       "{'score': 0.5109003186225891, 'token': 6882, 'token_str': ' anxiety', 'sequence': 'Post: imagine… you feel like you are shaking even when you are not. you worry excessively over even little things that you know you shouldn’t be worried about, but you just can’t stop it. you tend to obsess over the things that you are worried about. those thoughts tend to fill up your free time when you aren’t busy thinking about something else. there i\n",
       "\n",
       "Consider this post on social media to answer the question: The poster of this post experiencing anxiety.'}           1\n",
       "{'score': 0.4191024601459503, 'token': 6943, 'token_str': ' depression', 'sequence': 'Post: i don't believe medication fixes the core problem. i found that a change in lifestyle, a little more of a routine, attempting some new hobbies and a bunch of reading and listening to audiobooks helped me a lot more. this meant a significant pay cut, but i have learned to live with far less money, and am stoked.\n",
       "\n",
       "i have also been diving into literat\n",
       "\n",
       "Consider this post on social media to answer the question: The poster of this post experiencing depression.'}     1\n",
       "Name: mentalrobertaeval, Length: 1871, dtype: int64"
      ]
     },
     "execution_count": 121,
     "metadata": {},
     "output_type": "execute_result"
    }
   ],
   "source": [
    "dftmp.mentalrobertaeval.value_counts()"
   ]
  },
  {
   "cell_type": "code",
   "execution_count": 123,
   "metadata": {},
   "outputs": [],
   "source": [
    "dftmp = pd.concat([dftmp, pd.DataFrame.from_records( dftmp[tgtcol].values)[[\"score\", \"token_str\"]]], axis=1)\n",
    "dftmp.rename({\"score\": f\"{tgtcol}_score\", \"token_str\": f\"{tgtcol}_label\"}, axis=1, inplace=True)\n"
   ]
  },
  {
   "cell_type": "code",
   "execution_count": 126,
   "metadata": {},
   "outputs": [
    {
     "data": {
      "text/html": [
       "<div>\n",
       "<style scoped>\n",
       "    .dataframe tbody tr th:only-of-type {\n",
       "        vertical-align: middle;\n",
       "    }\n",
       "\n",
       "    .dataframe tbody tr th {\n",
       "        vertical-align: top;\n",
       "    }\n",
       "\n",
       "    .dataframe thead th {\n",
       "        text-align: right;\n",
       "    }\n",
       "</style>\n",
       "<table border=\"1\" class=\"dataframe\">\n",
       "  <thead>\n",
       "    <tr style=\"text-align: right;\">\n",
       "      <th></th>\n",
       "      <th>text</th>\n",
       "      <th>source</th>\n",
       "      <th>class</th>\n",
       "      <th>tokeep</th>\n",
       "      <th>instruction</th>\n",
       "      <th>mentalrobertaeval</th>\n",
       "      <th>mentalrobertaeval_score</th>\n",
       "      <th>mentalrobertaeval_label</th>\n",
       "    </tr>\n",
       "  </thead>\n",
       "  <tbody>\n",
       "    <tr>\n",
       "      <th>0</th>\n",
       "      <td>i have been dealing with these for quite some ...</td>\n",
       "      <td>Quora</td>\n",
       "      <td>panic</td>\n",
       "      <td>1</td>\n",
       "      <td>Post: i have been dealing with these for quite...</td>\n",
       "      <td>{}</td>\n",
       "      <td>NaN</td>\n",
       "      <td>NaN</td>\n",
       "    </tr>\n",
       "    <tr>\n",
       "      <th>1</th>\n",
       "      <td>i was walking to school, but was running late ...</td>\n",
       "      <td>Quora</td>\n",
       "      <td>panic</td>\n",
       "      <td>1</td>\n",
       "      <td>Post: i was walking to school, but was running...</td>\n",
       "      <td>{}</td>\n",
       "      <td>NaN</td>\n",
       "      <td>NaN</td>\n",
       "    </tr>\n",
       "    <tr>\n",
       "      <th>2</th>\n",
       "      <td>for me, panic attacks come two ways: randomly ...</td>\n",
       "      <td>Quora</td>\n",
       "      <td>panic</td>\n",
       "      <td>1</td>\n",
       "      <td>Post: for me, panic attacks come two ways: ran...</td>\n",
       "      <td>{}</td>\n",
       "      <td>NaN</td>\n",
       "      <td>NaN</td>\n",
       "    </tr>\n",
       "    <tr>\n",
       "      <th>3</th>\n",
       "      <td>i’m driving home, riding a tingly high from sa...</td>\n",
       "      <td>Quora</td>\n",
       "      <td>panic</td>\n",
       "      <td>1</td>\n",
       "      <td>Post: i’m driving home, riding a tingly high f...</td>\n",
       "      <td>{}</td>\n",
       "      <td>NaN</td>\n",
       "      <td>NaN</td>\n",
       "    </tr>\n",
       "    <tr>\n",
       "      <th>4</th>\n",
       "      <td>it feels like your body turns into a black hol...</td>\n",
       "      <td>Quora</td>\n",
       "      <td>panic</td>\n",
       "      <td>1</td>\n",
       "      <td>Post: it feels like your body turns into a bla...</td>\n",
       "      <td>{}</td>\n",
       "      <td>NaN</td>\n",
       "      <td>NaN</td>\n",
       "    </tr>\n",
       "    <tr>\n",
       "      <th>...</th>\n",
       "      <td>...</td>\n",
       "      <td>...</td>\n",
       "      <td>...</td>\n",
       "      <td>...</td>\n",
       "      <td>...</td>\n",
       "      <td>...</td>\n",
       "      <td>...</td>\n",
       "      <td>...</td>\n",
       "    </tr>\n",
       "    <tr>\n",
       "      <th>1925</th>\n",
       "      <td>i decided not to take the prescription medicat...</td>\n",
       "      <td>Reddit</td>\n",
       "      <td>anxiety</td>\n",
       "      <td>1</td>\n",
       "      <td>Post: i decided not to take the prescription m...</td>\n",
       "      <td>{'score': 0.3258158266544342, 'token': 6943, '...</td>\n",
       "      <td>0.325816</td>\n",
       "      <td>depression</td>\n",
       "    </tr>\n",
       "    <tr>\n",
       "      <th>1926</th>\n",
       "      <td>speaking to your doctor will help but the most...</td>\n",
       "      <td>Reddit</td>\n",
       "      <td>anxiety</td>\n",
       "      <td>1</td>\n",
       "      <td>Post: speaking to your doctor will help but th...</td>\n",
       "      <td>{'score': 0.3044068217277527, 'token': 6882, '...</td>\n",
       "      <td>0.304407</td>\n",
       "      <td>anxiety</td>\n",
       "    </tr>\n",
       "    <tr>\n",
       "      <th>1927</th>\n",
       "      <td>lorazepam. i only take it as needed (sparingly...</td>\n",
       "      <td>Reddit</td>\n",
       "      <td>anxiety</td>\n",
       "      <td>1</td>\n",
       "      <td>Post: lorazepam. i only take it as needed (spa...</td>\n",
       "      <td>{'score': 0.2606504261493683, 'token': 6882, '...</td>\n",
       "      <td>0.260650</td>\n",
       "      <td>anxiety</td>\n",
       "    </tr>\n",
       "    <tr>\n",
       "      <th>1928</th>\n",
       "      <td>hi there. block your social media for a days a...</td>\n",
       "      <td>Reddit</td>\n",
       "      <td>anxiety</td>\n",
       "      <td>1</td>\n",
       "      <td>Post: hi there. block your social media for a ...</td>\n",
       "      <td>{'score': 0.8879285454750061, 'token': 6882, '...</td>\n",
       "      <td>0.887929</td>\n",
       "      <td>anxiety</td>\n",
       "    </tr>\n",
       "    <tr>\n",
       "      <th>1929</th>\n",
       "      <td>i don't believe medication fixes the core prob...</td>\n",
       "      <td>Reddit</td>\n",
       "      <td>anxiety</td>\n",
       "      <td>1</td>\n",
       "      <td>Post: i don't believe medication fixes the cor...</td>\n",
       "      <td>{'score': 0.4191024601459503, 'token': 6943, '...</td>\n",
       "      <td>0.419102</td>\n",
       "      <td>depression</td>\n",
       "    </tr>\n",
       "  </tbody>\n",
       "</table>\n",
       "<p>1930 rows × 8 columns</p>\n",
       "</div>"
      ],
      "text/plain": [
       "                                                   text  source    class  \\\n",
       "0     i have been dealing with these for quite some ...   Quora    panic   \n",
       "1     i was walking to school, but was running late ...   Quora    panic   \n",
       "2     for me, panic attacks come two ways: randomly ...   Quora    panic   \n",
       "3     i’m driving home, riding a tingly high from sa...   Quora    panic   \n",
       "4     it feels like your body turns into a black hol...   Quora    panic   \n",
       "...                                                 ...     ...      ...   \n",
       "1925  i decided not to take the prescription medicat...  Reddit  anxiety   \n",
       "1926  speaking to your doctor will help but the most...  Reddit  anxiety   \n",
       "1927  lorazepam. i only take it as needed (sparingly...  Reddit  anxiety   \n",
       "1928  hi there. block your social media for a days a...  Reddit  anxiety   \n",
       "1929  i don't believe medication fixes the core prob...  Reddit  anxiety   \n",
       "\n",
       "      tokeep                                        instruction  \\\n",
       "0          1  Post: i have been dealing with these for quite...   \n",
       "1          1  Post: i was walking to school, but was running...   \n",
       "2          1  Post: for me, panic attacks come two ways: ran...   \n",
       "3          1  Post: i’m driving home, riding a tingly high f...   \n",
       "4          1  Post: it feels like your body turns into a bla...   \n",
       "...      ...                                                ...   \n",
       "1925       1  Post: i decided not to take the prescription m...   \n",
       "1926       1  Post: speaking to your doctor will help but th...   \n",
       "1927       1  Post: lorazepam. i only take it as needed (spa...   \n",
       "1928       1  Post: hi there. block your social media for a ...   \n",
       "1929       1  Post: i don't believe medication fixes the cor...   \n",
       "\n",
       "                                      mentalrobertaeval  \\\n",
       "0                                                    {}   \n",
       "1                                                    {}   \n",
       "2                                                    {}   \n",
       "3                                                    {}   \n",
       "4                                                    {}   \n",
       "...                                                 ...   \n",
       "1925  {'score': 0.3258158266544342, 'token': 6943, '...   \n",
       "1926  {'score': 0.3044068217277527, 'token': 6882, '...   \n",
       "1927  {'score': 0.2606504261493683, 'token': 6882, '...   \n",
       "1928  {'score': 0.8879285454750061, 'token': 6882, '...   \n",
       "1929  {'score': 0.4191024601459503, 'token': 6943, '...   \n",
       "\n",
       "      mentalrobertaeval_score mentalrobertaeval_label  \n",
       "0                         NaN                     NaN  \n",
       "1                         NaN                     NaN  \n",
       "2                         NaN                     NaN  \n",
       "3                         NaN                     NaN  \n",
       "4                         NaN                     NaN  \n",
       "...                       ...                     ...  \n",
       "1925                 0.325816              depression  \n",
       "1926                 0.304407                 anxiety  \n",
       "1927                 0.260650                 anxiety  \n",
       "1928                 0.887929                 anxiety  \n",
       "1929                 0.419102              depression  \n",
       "\n",
       "[1930 rows x 8 columns]"
      ]
     },
     "execution_count": 126,
     "metadata": {},
     "output_type": "execute_result"
    }
   ],
   "source": [
    "dftmp"
   ]
  },
  {
   "cell_type": "code",
   "execution_count": 127,
   "metadata": {},
   "outputs": [],
   "source": [
    "dftmp.to_csv(\"../out/hfinf_mentalroberta_experiencing.tsv\", sep=\"\\t\")"
   ]
  },
  {
   "cell_type": "code",
   "execution_count": 89,
   "metadata": {},
   "outputs": [
    {
     "data": {
      "text/html": [
       "<div>\n",
       "<style scoped>\n",
       "    .dataframe tbody tr th:only-of-type {\n",
       "        vertical-align: middle;\n",
       "    }\n",
       "\n",
       "    .dataframe tbody tr th {\n",
       "        vertical-align: top;\n",
       "    }\n",
       "\n",
       "    .dataframe thead th {\n",
       "        text-align: right;\n",
       "    }\n",
       "</style>\n",
       "<table border=\"1\" class=\"dataframe\">\n",
       "  <thead>\n",
       "    <tr style=\"text-align: right;\">\n",
       "      <th></th>\n",
       "      <th>text</th>\n",
       "      <th>source</th>\n",
       "      <th>class</th>\n",
       "      <th>tokeep</th>\n",
       "      <th>instruction</th>\n",
       "      <th>stress</th>\n",
       "    </tr>\n",
       "  </thead>\n",
       "  <tbody>\n",
       "    <tr>\n",
       "      <th>0</th>\n",
       "      <td>i have been dealing with these for quite some ...</td>\n",
       "      <td>Quora</td>\n",
       "      <td>panic</td>\n",
       "      <td>1</td>\n",
       "      <td>Post: i have been dealing with these for quite...</td>\n",
       "      <td>{'score': 0.5528748631477356, 'token': 117, 't...</td>\n",
       "    </tr>\n",
       "    <tr>\n",
       "      <th>1</th>\n",
       "      <td>i was walking to school, but was running late ...</td>\n",
       "      <td>Quora</td>\n",
       "      <td>panic</td>\n",
       "      <td>1</td>\n",
       "      <td>Post: i was walking to school, but was running...</td>\n",
       "      <td>{'score': 0.44880592823028564, 'token': 4420, ...</td>\n",
       "    </tr>\n",
       "    <tr>\n",
       "      <th>2</th>\n",
       "      <td>for me, panic attacks come two ways: randomly ...</td>\n",
       "      <td>Quora</td>\n",
       "      <td>panic</td>\n",
       "      <td>1</td>\n",
       "      <td>Post: for me, panic attacks come two ways: ran...</td>\n",
       "      <td>{'score': 0.47384822368621826, 'token': 117, '...</td>\n",
       "    </tr>\n",
       "    <tr>\n",
       "      <th>3</th>\n",
       "      <td>i’m driving home, riding a tingly high from sa...</td>\n",
       "      <td>Quora</td>\n",
       "      <td>panic</td>\n",
       "      <td>1</td>\n",
       "      <td>Post: i’m driving home, riding a tingly high f...</td>\n",
       "      <td>{'score': 0.4656566381454468, 'token': 117, 't...</td>\n",
       "    </tr>\n",
       "    <tr>\n",
       "      <th>4</th>\n",
       "      <td>it feels like your body turns into a black hol...</td>\n",
       "      <td>Quora</td>\n",
       "      <td>panic</td>\n",
       "      <td>1</td>\n",
       "      <td>Post: it feels like your body turns into a bla...</td>\n",
       "      <td>{'score': 0.4818416237831116, 'token': 117, 't...</td>\n",
       "    </tr>\n",
       "    <tr>\n",
       "      <th>...</th>\n",
       "      <td>...</td>\n",
       "      <td>...</td>\n",
       "      <td>...</td>\n",
       "      <td>...</td>\n",
       "      <td>...</td>\n",
       "      <td>...</td>\n",
       "    </tr>\n",
       "    <tr>\n",
       "      <th>1925</th>\n",
       "      <td>i decided not to take the prescription medicat...</td>\n",
       "      <td>Reddit</td>\n",
       "      <td>anxiety</td>\n",
       "      <td>1</td>\n",
       "      <td>Post: i decided not to take the prescription m...</td>\n",
       "      <td>{'score': 0.4514749050140381, 'token': 117, 't...</td>\n",
       "    </tr>\n",
       "    <tr>\n",
       "      <th>1926</th>\n",
       "      <td>speaking to your doctor will help but the most...</td>\n",
       "      <td>Reddit</td>\n",
       "      <td>anxiety</td>\n",
       "      <td>1</td>\n",
       "      <td>Post: speaking to your doctor will help but th...</td>\n",
       "      <td>{'score': 0.4376969039440155, 'token': 117, 't...</td>\n",
       "    </tr>\n",
       "    <tr>\n",
       "      <th>1927</th>\n",
       "      <td>lorazepam. i only take it as needed (sparingly...</td>\n",
       "      <td>Reddit</td>\n",
       "      <td>anxiety</td>\n",
       "      <td>1</td>\n",
       "      <td>Post: lorazepam. i only take it as needed (spa...</td>\n",
       "      <td>{'score': 0.43151605129241943, 'token': 117, '...</td>\n",
       "    </tr>\n",
       "    <tr>\n",
       "      <th>1928</th>\n",
       "      <td>hi there. block your social media for a days a...</td>\n",
       "      <td>Reddit</td>\n",
       "      <td>anxiety</td>\n",
       "      <td>1</td>\n",
       "      <td>Post: hi there. block your social media for a ...</td>\n",
       "      <td>{'score': 0.46455150842666626, 'token': 4420, ...</td>\n",
       "    </tr>\n",
       "    <tr>\n",
       "      <th>1929</th>\n",
       "      <td>i don't believe medication fixes the core prob...</td>\n",
       "      <td>Reddit</td>\n",
       "      <td>anxiety</td>\n",
       "      <td>1</td>\n",
       "      <td>Post: i don't believe medication fixes the cor...</td>\n",
       "      <td>{'score': 0.4798465371131897, 'token': 117, 't...</td>\n",
       "    </tr>\n",
       "  </tbody>\n",
       "</table>\n",
       "<p>1930 rows × 6 columns</p>\n",
       "</div>"
      ],
      "text/plain": [
       "                                                   text  source    class  \\\n",
       "0     i have been dealing with these for quite some ...   Quora    panic   \n",
       "1     i was walking to school, but was running late ...   Quora    panic   \n",
       "2     for me, panic attacks come two ways: randomly ...   Quora    panic   \n",
       "3     i’m driving home, riding a tingly high from sa...   Quora    panic   \n",
       "4     it feels like your body turns into a black hol...   Quora    panic   \n",
       "...                                                 ...     ...      ...   \n",
       "1925  i decided not to take the prescription medicat...  Reddit  anxiety   \n",
       "1926  speaking to your doctor will help but the most...  Reddit  anxiety   \n",
       "1927  lorazepam. i only take it as needed (sparingly...  Reddit  anxiety   \n",
       "1928  hi there. block your social media for a days a...  Reddit  anxiety   \n",
       "1929  i don't believe medication fixes the core prob...  Reddit  anxiety   \n",
       "\n",
       "      tokeep                                        instruction  \\\n",
       "0          1  Post: i have been dealing with these for quite...   \n",
       "1          1  Post: i was walking to school, but was running...   \n",
       "2          1  Post: for me, panic attacks come two ways: ran...   \n",
       "3          1  Post: i’m driving home, riding a tingly high f...   \n",
       "4          1  Post: it feels like your body turns into a bla...   \n",
       "...      ...                                                ...   \n",
       "1925       1  Post: i decided not to take the prescription m...   \n",
       "1926       1  Post: speaking to your doctor will help but th...   \n",
       "1927       1  Post: lorazepam. i only take it as needed (spa...   \n",
       "1928       1  Post: hi there. block your social media for a ...   \n",
       "1929       1  Post: i don't believe medication fixes the cor...   \n",
       "\n",
       "                                                 stress  \n",
       "0     {'score': 0.5528748631477356, 'token': 117, 't...  \n",
       "1     {'score': 0.44880592823028564, 'token': 4420, ...  \n",
       "2     {'score': 0.47384822368621826, 'token': 117, '...  \n",
       "3     {'score': 0.4656566381454468, 'token': 117, 't...  \n",
       "4     {'score': 0.4818416237831116, 'token': 117, 't...  \n",
       "...                                                 ...  \n",
       "1925  {'score': 0.4514749050140381, 'token': 117, 't...  \n",
       "1926  {'score': 0.4376969039440155, 'token': 117, 't...  \n",
       "1927  {'score': 0.43151605129241943, 'token': 117, '...  \n",
       "1928  {'score': 0.46455150842666626, 'token': 4420, ...  \n",
       "1929  {'score': 0.4798465371131897, 'token': 117, 't...  \n",
       "\n",
       "[1930 rows x 6 columns]"
      ]
     },
     "execution_count": 89,
     "metadata": {},
     "output_type": "execute_result"
    }
   ],
   "source": [
    "dftmp.stress = dftmp.stress.map(lambda v: v[0] if isinstance(v, list) else {}) #.iloc[10][0]\n",
    "dftmp"
   ]
  },
  {
   "cell_type": "code",
   "execution_count": 95,
   "metadata": {},
   "outputs": [
    {
     "data": {
      "text/html": [
       "<div>\n",
       "<style scoped>\n",
       "    .dataframe tbody tr th:only-of-type {\n",
       "        vertical-align: middle;\n",
       "    }\n",
       "\n",
       "    .dataframe tbody tr th {\n",
       "        vertical-align: top;\n",
       "    }\n",
       "\n",
       "    .dataframe thead th {\n",
       "        text-align: right;\n",
       "    }\n",
       "</style>\n",
       "<table border=\"1\" class=\"dataframe\">\n",
       "  <thead>\n",
       "    <tr style=\"text-align: right;\">\n",
       "      <th></th>\n",
       "      <th>text</th>\n",
       "      <th>source</th>\n",
       "      <th>class</th>\n",
       "      <th>tokeep</th>\n",
       "      <th>instruction</th>\n",
       "      <th>stress</th>\n",
       "      <th>score</th>\n",
       "      <th>token_str</th>\n",
       "    </tr>\n",
       "  </thead>\n",
       "  <tbody>\n",
       "    <tr>\n",
       "      <th>0</th>\n",
       "      <td>i have been dealing with these for quite some ...</td>\n",
       "      <td>Quora</td>\n",
       "      <td>panic</td>\n",
       "      <td>1</td>\n",
       "      <td>Post: i have been dealing with these for quite...</td>\n",
       "      <td>{'score': 0.5528748631477356, 'token': 117, 't...</td>\n",
       "      <td>0.552875</td>\n",
       "      <td>no</td>\n",
       "    </tr>\n",
       "    <tr>\n",
       "      <th>1</th>\n",
       "      <td>i was walking to school, but was running late ...</td>\n",
       "      <td>Quora</td>\n",
       "      <td>panic</td>\n",
       "      <td>1</td>\n",
       "      <td>Post: i was walking to school, but was running...</td>\n",
       "      <td>{'score': 0.44880592823028564, 'token': 4420, ...</td>\n",
       "      <td>0.448806</td>\n",
       "      <td>yes</td>\n",
       "    </tr>\n",
       "    <tr>\n",
       "      <th>2</th>\n",
       "      <td>for me, panic attacks come two ways: randomly ...</td>\n",
       "      <td>Quora</td>\n",
       "      <td>panic</td>\n",
       "      <td>1</td>\n",
       "      <td>Post: for me, panic attacks come two ways: ran...</td>\n",
       "      <td>{'score': 0.47384822368621826, 'token': 117, '...</td>\n",
       "      <td>0.473848</td>\n",
       "      <td>no</td>\n",
       "    </tr>\n",
       "    <tr>\n",
       "      <th>3</th>\n",
       "      <td>i’m driving home, riding a tingly high from sa...</td>\n",
       "      <td>Quora</td>\n",
       "      <td>panic</td>\n",
       "      <td>1</td>\n",
       "      <td>Post: i’m driving home, riding a tingly high f...</td>\n",
       "      <td>{'score': 0.4656566381454468, 'token': 117, 't...</td>\n",
       "      <td>0.465657</td>\n",
       "      <td>no</td>\n",
       "    </tr>\n",
       "    <tr>\n",
       "      <th>4</th>\n",
       "      <td>it feels like your body turns into a black hol...</td>\n",
       "      <td>Quora</td>\n",
       "      <td>panic</td>\n",
       "      <td>1</td>\n",
       "      <td>Post: it feels like your body turns into a bla...</td>\n",
       "      <td>{'score': 0.4818416237831116, 'token': 117, 't...</td>\n",
       "      <td>0.481842</td>\n",
       "      <td>no</td>\n",
       "    </tr>\n",
       "    <tr>\n",
       "      <th>...</th>\n",
       "      <td>...</td>\n",
       "      <td>...</td>\n",
       "      <td>...</td>\n",
       "      <td>...</td>\n",
       "      <td>...</td>\n",
       "      <td>...</td>\n",
       "      <td>...</td>\n",
       "      <td>...</td>\n",
       "    </tr>\n",
       "    <tr>\n",
       "      <th>1925</th>\n",
       "      <td>i decided not to take the prescription medicat...</td>\n",
       "      <td>Reddit</td>\n",
       "      <td>anxiety</td>\n",
       "      <td>1</td>\n",
       "      <td>Post: i decided not to take the prescription m...</td>\n",
       "      <td>{'score': 0.4514749050140381, 'token': 117, 't...</td>\n",
       "      <td>0.451475</td>\n",
       "      <td>no</td>\n",
       "    </tr>\n",
       "    <tr>\n",
       "      <th>1926</th>\n",
       "      <td>speaking to your doctor will help but the most...</td>\n",
       "      <td>Reddit</td>\n",
       "      <td>anxiety</td>\n",
       "      <td>1</td>\n",
       "      <td>Post: speaking to your doctor will help but th...</td>\n",
       "      <td>{'score': 0.4376969039440155, 'token': 117, 't...</td>\n",
       "      <td>0.437697</td>\n",
       "      <td>no</td>\n",
       "    </tr>\n",
       "    <tr>\n",
       "      <th>1927</th>\n",
       "      <td>lorazepam. i only take it as needed (sparingly...</td>\n",
       "      <td>Reddit</td>\n",
       "      <td>anxiety</td>\n",
       "      <td>1</td>\n",
       "      <td>Post: lorazepam. i only take it as needed (spa...</td>\n",
       "      <td>{'score': 0.43151605129241943, 'token': 117, '...</td>\n",
       "      <td>0.431516</td>\n",
       "      <td>no</td>\n",
       "    </tr>\n",
       "    <tr>\n",
       "      <th>1928</th>\n",
       "      <td>hi there. block your social media for a days a...</td>\n",
       "      <td>Reddit</td>\n",
       "      <td>anxiety</td>\n",
       "      <td>1</td>\n",
       "      <td>Post: hi there. block your social media for a ...</td>\n",
       "      <td>{'score': 0.46455150842666626, 'token': 4420, ...</td>\n",
       "      <td>0.464552</td>\n",
       "      <td>yes</td>\n",
       "    </tr>\n",
       "    <tr>\n",
       "      <th>1929</th>\n",
       "      <td>i don't believe medication fixes the core prob...</td>\n",
       "      <td>Reddit</td>\n",
       "      <td>anxiety</td>\n",
       "      <td>1</td>\n",
       "      <td>Post: i don't believe medication fixes the cor...</td>\n",
       "      <td>{'score': 0.4798465371131897, 'token': 117, 't...</td>\n",
       "      <td>0.479847</td>\n",
       "      <td>no</td>\n",
       "    </tr>\n",
       "  </tbody>\n",
       "</table>\n",
       "<p>1930 rows × 8 columns</p>\n",
       "</div>"
      ],
      "text/plain": [
       "                                                   text  source    class  \\\n",
       "0     i have been dealing with these for quite some ...   Quora    panic   \n",
       "1     i was walking to school, but was running late ...   Quora    panic   \n",
       "2     for me, panic attacks come two ways: randomly ...   Quora    panic   \n",
       "3     i’m driving home, riding a tingly high from sa...   Quora    panic   \n",
       "4     it feels like your body turns into a black hol...   Quora    panic   \n",
       "...                                                 ...     ...      ...   \n",
       "1925  i decided not to take the prescription medicat...  Reddit  anxiety   \n",
       "1926  speaking to your doctor will help but the most...  Reddit  anxiety   \n",
       "1927  lorazepam. i only take it as needed (sparingly...  Reddit  anxiety   \n",
       "1928  hi there. block your social media for a days a...  Reddit  anxiety   \n",
       "1929  i don't believe medication fixes the core prob...  Reddit  anxiety   \n",
       "\n",
       "      tokeep                                        instruction  \\\n",
       "0          1  Post: i have been dealing with these for quite...   \n",
       "1          1  Post: i was walking to school, but was running...   \n",
       "2          1  Post: for me, panic attacks come two ways: ran...   \n",
       "3          1  Post: i’m driving home, riding a tingly high f...   \n",
       "4          1  Post: it feels like your body turns into a bla...   \n",
       "...      ...                                                ...   \n",
       "1925       1  Post: i decided not to take the prescription m...   \n",
       "1926       1  Post: speaking to your doctor will help but th...   \n",
       "1927       1  Post: lorazepam. i only take it as needed (spa...   \n",
       "1928       1  Post: hi there. block your social media for a ...   \n",
       "1929       1  Post: i don't believe medication fixes the cor...   \n",
       "\n",
       "                                                 stress     score token_str  \n",
       "0     {'score': 0.5528748631477356, 'token': 117, 't...  0.552875        no  \n",
       "1     {'score': 0.44880592823028564, 'token': 4420, ...  0.448806       yes  \n",
       "2     {'score': 0.47384822368621826, 'token': 117, '...  0.473848        no  \n",
       "3     {'score': 0.4656566381454468, 'token': 117, 't...  0.465657        no  \n",
       "4     {'score': 0.4818416237831116, 'token': 117, 't...  0.481842        no  \n",
       "...                                                 ...       ...       ...  \n",
       "1925  {'score': 0.4514749050140381, 'token': 117, 't...  0.451475        no  \n",
       "1926  {'score': 0.4376969039440155, 'token': 117, 't...  0.437697        no  \n",
       "1927  {'score': 0.43151605129241943, 'token': 117, '...  0.431516        no  \n",
       "1928  {'score': 0.46455150842666626, 'token': 4420, ...  0.464552       yes  \n",
       "1929  {'score': 0.4798465371131897, 'token': 117, 't...  0.479847        no  \n",
       "\n",
       "[1930 rows x 8 columns]"
      ]
     },
     "execution_count": 95,
     "metadata": {},
     "output_type": "execute_result"
    }
   ],
   "source": [
    "dftmp = pd.concat([dftmp, pd.DataFrame.from_records( dftmp.stress.values)[[\"score\", \"token_str\"]]], axis=1)\n",
    "dftmp.rename({\"score\": \"stress_score\", \"token_str\": \"stress_label\"}, axis=1, inplace=True)\n",
    "dftmp"
   ]
  },
  {
   "cell_type": "code",
   "execution_count": 96,
   "metadata": {},
   "outputs": [
    {
     "data": {
      "text/html": [
       "<div>\n",
       "<style scoped>\n",
       "    .dataframe tbody tr th:only-of-type {\n",
       "        vertical-align: middle;\n",
       "    }\n",
       "\n",
       "    .dataframe tbody tr th {\n",
       "        vertical-align: top;\n",
       "    }\n",
       "\n",
       "    .dataframe thead th {\n",
       "        text-align: right;\n",
       "    }\n",
       "</style>\n",
       "<table border=\"1\" class=\"dataframe\">\n",
       "  <thead>\n",
       "    <tr style=\"text-align: right;\">\n",
       "      <th></th>\n",
       "      <th>text</th>\n",
       "      <th>source</th>\n",
       "      <th>class</th>\n",
       "      <th>tokeep</th>\n",
       "      <th>instruction</th>\n",
       "      <th>stress</th>\n",
       "      <th>stress_score</th>\n",
       "      <th>stress_label</th>\n",
       "    </tr>\n",
       "  </thead>\n",
       "  <tbody>\n",
       "    <tr>\n",
       "      <th>0</th>\n",
       "      <td>i have been dealing with these for quite some ...</td>\n",
       "      <td>Quora</td>\n",
       "      <td>panic</td>\n",
       "      <td>1</td>\n",
       "      <td>Post: i have been dealing with these for quite...</td>\n",
       "      <td>{'score': 0.5528748631477356, 'token': 117, 't...</td>\n",
       "      <td>0.552875</td>\n",
       "      <td>no</td>\n",
       "    </tr>\n",
       "    <tr>\n",
       "      <th>1</th>\n",
       "      <td>i was walking to school, but was running late ...</td>\n",
       "      <td>Quora</td>\n",
       "      <td>panic</td>\n",
       "      <td>1</td>\n",
       "      <td>Post: i was walking to school, but was running...</td>\n",
       "      <td>{'score': 0.44880592823028564, 'token': 4420, ...</td>\n",
       "      <td>0.448806</td>\n",
       "      <td>yes</td>\n",
       "    </tr>\n",
       "    <tr>\n",
       "      <th>2</th>\n",
       "      <td>for me, panic attacks come two ways: randomly ...</td>\n",
       "      <td>Quora</td>\n",
       "      <td>panic</td>\n",
       "      <td>1</td>\n",
       "      <td>Post: for me, panic attacks come two ways: ran...</td>\n",
       "      <td>{'score': 0.47384822368621826, 'token': 117, '...</td>\n",
       "      <td>0.473848</td>\n",
       "      <td>no</td>\n",
       "    </tr>\n",
       "    <tr>\n",
       "      <th>3</th>\n",
       "      <td>i’m driving home, riding a tingly high from sa...</td>\n",
       "      <td>Quora</td>\n",
       "      <td>panic</td>\n",
       "      <td>1</td>\n",
       "      <td>Post: i’m driving home, riding a tingly high f...</td>\n",
       "      <td>{'score': 0.4656566381454468, 'token': 117, 't...</td>\n",
       "      <td>0.465657</td>\n",
       "      <td>no</td>\n",
       "    </tr>\n",
       "    <tr>\n",
       "      <th>4</th>\n",
       "      <td>it feels like your body turns into a black hol...</td>\n",
       "      <td>Quora</td>\n",
       "      <td>panic</td>\n",
       "      <td>1</td>\n",
       "      <td>Post: it feels like your body turns into a bla...</td>\n",
       "      <td>{'score': 0.4818416237831116, 'token': 117, 't...</td>\n",
       "      <td>0.481842</td>\n",
       "      <td>no</td>\n",
       "    </tr>\n",
       "    <tr>\n",
       "      <th>...</th>\n",
       "      <td>...</td>\n",
       "      <td>...</td>\n",
       "      <td>...</td>\n",
       "      <td>...</td>\n",
       "      <td>...</td>\n",
       "      <td>...</td>\n",
       "      <td>...</td>\n",
       "      <td>...</td>\n",
       "    </tr>\n",
       "    <tr>\n",
       "      <th>1925</th>\n",
       "      <td>i decided not to take the prescription medicat...</td>\n",
       "      <td>Reddit</td>\n",
       "      <td>anxiety</td>\n",
       "      <td>1</td>\n",
       "      <td>Post: i decided not to take the prescription m...</td>\n",
       "      <td>{'score': 0.4514749050140381, 'token': 117, 't...</td>\n",
       "      <td>0.451475</td>\n",
       "      <td>no</td>\n",
       "    </tr>\n",
       "    <tr>\n",
       "      <th>1926</th>\n",
       "      <td>speaking to your doctor will help but the most...</td>\n",
       "      <td>Reddit</td>\n",
       "      <td>anxiety</td>\n",
       "      <td>1</td>\n",
       "      <td>Post: speaking to your doctor will help but th...</td>\n",
       "      <td>{'score': 0.4376969039440155, 'token': 117, 't...</td>\n",
       "      <td>0.437697</td>\n",
       "      <td>no</td>\n",
       "    </tr>\n",
       "    <tr>\n",
       "      <th>1927</th>\n",
       "      <td>lorazepam. i only take it as needed (sparingly...</td>\n",
       "      <td>Reddit</td>\n",
       "      <td>anxiety</td>\n",
       "      <td>1</td>\n",
       "      <td>Post: lorazepam. i only take it as needed (spa...</td>\n",
       "      <td>{'score': 0.43151605129241943, 'token': 117, '...</td>\n",
       "      <td>0.431516</td>\n",
       "      <td>no</td>\n",
       "    </tr>\n",
       "    <tr>\n",
       "      <th>1928</th>\n",
       "      <td>hi there. block your social media for a days a...</td>\n",
       "      <td>Reddit</td>\n",
       "      <td>anxiety</td>\n",
       "      <td>1</td>\n",
       "      <td>Post: hi there. block your social media for a ...</td>\n",
       "      <td>{'score': 0.46455150842666626, 'token': 4420, ...</td>\n",
       "      <td>0.464552</td>\n",
       "      <td>yes</td>\n",
       "    </tr>\n",
       "    <tr>\n",
       "      <th>1929</th>\n",
       "      <td>i don't believe medication fixes the core prob...</td>\n",
       "      <td>Reddit</td>\n",
       "      <td>anxiety</td>\n",
       "      <td>1</td>\n",
       "      <td>Post: i don't believe medication fixes the cor...</td>\n",
       "      <td>{'score': 0.4798465371131897, 'token': 117, 't...</td>\n",
       "      <td>0.479847</td>\n",
       "      <td>no</td>\n",
       "    </tr>\n",
       "  </tbody>\n",
       "</table>\n",
       "<p>1930 rows × 8 columns</p>\n",
       "</div>"
      ],
      "text/plain": [
       "                                                   text  source    class  \\\n",
       "0     i have been dealing with these for quite some ...   Quora    panic   \n",
       "1     i was walking to school, but was running late ...   Quora    panic   \n",
       "2     for me, panic attacks come two ways: randomly ...   Quora    panic   \n",
       "3     i’m driving home, riding a tingly high from sa...   Quora    panic   \n",
       "4     it feels like your body turns into a black hol...   Quora    panic   \n",
       "...                                                 ...     ...      ...   \n",
       "1925  i decided not to take the prescription medicat...  Reddit  anxiety   \n",
       "1926  speaking to your doctor will help but the most...  Reddit  anxiety   \n",
       "1927  lorazepam. i only take it as needed (sparingly...  Reddit  anxiety   \n",
       "1928  hi there. block your social media for a days a...  Reddit  anxiety   \n",
       "1929  i don't believe medication fixes the core prob...  Reddit  anxiety   \n",
       "\n",
       "      tokeep                                        instruction  \\\n",
       "0          1  Post: i have been dealing with these for quite...   \n",
       "1          1  Post: i was walking to school, but was running...   \n",
       "2          1  Post: for me, panic attacks come two ways: ran...   \n",
       "3          1  Post: i’m driving home, riding a tingly high f...   \n",
       "4          1  Post: it feels like your body turns into a bla...   \n",
       "...      ...                                                ...   \n",
       "1925       1  Post: i decided not to take the prescription m...   \n",
       "1926       1  Post: speaking to your doctor will help but th...   \n",
       "1927       1  Post: lorazepam. i only take it as needed (spa...   \n",
       "1928       1  Post: hi there. block your social media for a ...   \n",
       "1929       1  Post: i don't believe medication fixes the cor...   \n",
       "\n",
       "                                                 stress  stress_score  \\\n",
       "0     {'score': 0.5528748631477356, 'token': 117, 't...      0.552875   \n",
       "1     {'score': 0.44880592823028564, 'token': 4420, ...      0.448806   \n",
       "2     {'score': 0.47384822368621826, 'token': 117, '...      0.473848   \n",
       "3     {'score': 0.4656566381454468, 'token': 117, 't...      0.465657   \n",
       "4     {'score': 0.4818416237831116, 'token': 117, 't...      0.481842   \n",
       "...                                                 ...           ...   \n",
       "1925  {'score': 0.4514749050140381, 'token': 117, 't...      0.451475   \n",
       "1926  {'score': 0.4376969039440155, 'token': 117, 't...      0.437697   \n",
       "1927  {'score': 0.43151605129241943, 'token': 117, '...      0.431516   \n",
       "1928  {'score': 0.46455150842666626, 'token': 4420, ...      0.464552   \n",
       "1929  {'score': 0.4798465371131897, 'token': 117, 't...      0.479847   \n",
       "\n",
       "     stress_label  \n",
       "0              no  \n",
       "1             yes  \n",
       "2              no  \n",
       "3              no  \n",
       "4              no  \n",
       "...           ...  \n",
       "1925           no  \n",
       "1926           no  \n",
       "1927           no  \n",
       "1928          yes  \n",
       "1929           no  \n",
       "\n",
       "[1930 rows x 8 columns]"
      ]
     },
     "execution_count": 96,
     "metadata": {},
     "output_type": "execute_result"
    }
   ],
   "source": [
    "dftmp.rename({\"score\": \"stress_score\", \"token_str\": \"stress_label\"}, axis=1, inplace=True)\n",
    "dftmp"
   ]
  },
  {
   "cell_type": "code",
   "execution_count": 97,
   "metadata": {},
   "outputs": [],
   "source": [
    "dftmp.to_csv(\"../out/paanx_mentalroberta_stress.tsv\", sep=\"\\t\")"
   ]
  },
  {
   "cell_type": "code",
   "execution_count": 129,
   "metadata": {},
   "outputs": [
    {
     "data": {
      "text/plain": [
       " anxiety        1630\n",
       " depression      102\n",
       " panic            20\n",
       " fear             19\n",
       " stress           16\n",
       "                ... \n",
       " drowning          1\n",
       " happiness         1\n",
       " love              1\n",
       " abandonment       1\n",
       " allergies         1\n",
       "Name: mentalrobertaeval_label, Length: 54, dtype: int64"
      ]
     },
     "execution_count": 129,
     "metadata": {},
     "output_type": "execute_result"
    }
   ],
   "source": [
    "dftmp.mentalrobertaeval_label.value_counts()"
   ]
  },
  {
   "cell_type": "code",
   "execution_count": 26,
   "metadata": {},
   "outputs": [
    {
     "data": {
      "image/png": "[encoded data removed]",
      "text/plain": [
       "<Figure size 1080x648 with 1 Axes>"
      ]
     },
     "metadata": {
      "needs_background": "light"
     },
     "output_type": "display_data"
    }
   ],
   "source": [
    "plt.figure(figsize=(15,9))\n",
    "sns.countplot(data= dftmp[~dftmp.mentalrobertaeval_label.isna()][[\"class\", \"mentalrobertaeval_label\"]], hue=\"class\", y=\"mentalrobertaeval_label\")\n",
    "plt.xscale(\"log\")\n",
    "plt.show()\n"
   ]
  },
  {
   "cell_type": "code",
   "execution_count": 11,
   "metadata": {},
   "outputs": [
    {
     "name": "stdout",
     "output_type": "stream",
     "text": [
      "(1930, 8)\n",
      "Index(['text', 'source', 'class', 'tokeep', 'instruction', 'stress',\n",
      "       'stress_score', 'stress_label'],\n",
      "      dtype='object')\n"
     ]
    },
    {
     "data": {
      "text/html": [
       "<div>\n",
       "<style scoped>\n",
       "    .dataframe tbody tr th:only-of-type {\n",
       "        vertical-align: middle;\n",
       "    }\n",
       "\n",
       "    .dataframe tbody tr th {\n",
       "        vertical-align: top;\n",
       "    }\n",
       "\n",
       "    .dataframe thead th {\n",
       "        text-align: right;\n",
       "    }\n",
       "</style>\n",
       "<table border=\"1\" class=\"dataframe\">\n",
       "  <thead>\n",
       "    <tr style=\"text-align: right;\">\n",
       "      <th></th>\n",
       "      <th>text</th>\n",
       "      <th>source</th>\n",
       "      <th>class</th>\n",
       "      <th>tokeep</th>\n",
       "      <th>instruction</th>\n",
       "      <th>stress</th>\n",
       "      <th>stress_score</th>\n",
       "      <th>stress_label</th>\n",
       "    </tr>\n",
       "  </thead>\n",
       "  <tbody>\n",
       "    <tr>\n",
       "      <th>0</th>\n",
       "      <td>i have been dealing with these for quite some ...</td>\n",
       "      <td>Quora</td>\n",
       "      <td>panic</td>\n",
       "      <td>1</td>\n",
       "      <td>Post: i have been dealing with these for quite...</td>\n",
       "      <td>{'score': 0.5528748631477356, 'token': 117, 't...</td>\n",
       "      <td>0.552875</td>\n",
       "      <td>no</td>\n",
       "    </tr>\n",
       "    <tr>\n",
       "      <th>1</th>\n",
       "      <td>i was walking to school, but was running late ...</td>\n",
       "      <td>Quora</td>\n",
       "      <td>panic</td>\n",
       "      <td>1</td>\n",
       "      <td>Post: i was walking to school, but was running...</td>\n",
       "      <td>{'score': 0.44880592823028564, 'token': 4420, ...</td>\n",
       "      <td>0.448806</td>\n",
       "      <td>yes</td>\n",
       "    </tr>\n",
       "    <tr>\n",
       "      <th>2</th>\n",
       "      <td>for me, panic attacks come two ways: randomly ...</td>\n",
       "      <td>Quora</td>\n",
       "      <td>panic</td>\n",
       "      <td>1</td>\n",
       "      <td>Post: for me, panic attacks come two ways: ran...</td>\n",
       "      <td>{'score': 0.47384822368621826, 'token': 117, '...</td>\n",
       "      <td>0.473848</td>\n",
       "      <td>no</td>\n",
       "    </tr>\n",
       "    <tr>\n",
       "      <th>3</th>\n",
       "      <td>i’m driving home, riding a tingly high from sa...</td>\n",
       "      <td>Quora</td>\n",
       "      <td>panic</td>\n",
       "      <td>1</td>\n",
       "      <td>Post: i’m driving home, riding a tingly high f...</td>\n",
       "      <td>{'score': 0.4656566381454468, 'token': 117, 't...</td>\n",
       "      <td>0.465657</td>\n",
       "      <td>no</td>\n",
       "    </tr>\n",
       "    <tr>\n",
       "      <th>4</th>\n",
       "      <td>it feels like your body turns into a black hol...</td>\n",
       "      <td>Quora</td>\n",
       "      <td>panic</td>\n",
       "      <td>1</td>\n",
       "      <td>Post: it feels like your body turns into a bla...</td>\n",
       "      <td>{'score': 0.4818416237831116, 'token': 117, 't...</td>\n",
       "      <td>0.481842</td>\n",
       "      <td>no</td>\n",
       "    </tr>\n",
       "  </tbody>\n",
       "</table>\n",
       "</div>"
      ],
      "text/plain": [
       "                                                text source  class  tokeep  \\\n",
       "0  i have been dealing with these for quite some ...  Quora  panic       1   \n",
       "1  i was walking to school, but was running late ...  Quora  panic       1   \n",
       "2  for me, panic attacks come two ways: randomly ...  Quora  panic       1   \n",
       "3  i’m driving home, riding a tingly high from sa...  Quora  panic       1   \n",
       "4  it feels like your body turns into a black hol...  Quora  panic       1   \n",
       "\n",
       "                                         instruction  \\\n",
       "0  Post: i have been dealing with these for quite...   \n",
       "1  Post: i was walking to school, but was running...   \n",
       "2  Post: for me, panic attacks come two ways: ran...   \n",
       "3  Post: i’m driving home, riding a tingly high f...   \n",
       "4  Post: it feels like your body turns into a bla...   \n",
       "\n",
       "                                              stress  stress_score  \\\n",
       "0  {'score': 0.5528748631477356, 'token': 117, 't...      0.552875   \n",
       "1  {'score': 0.44880592823028564, 'token': 4420, ...      0.448806   \n",
       "2  {'score': 0.47384822368621826, 'token': 117, '...      0.473848   \n",
       "3  {'score': 0.4656566381454468, 'token': 117, 't...      0.465657   \n",
       "4  {'score': 0.4818416237831116, 'token': 117, 't...      0.481842   \n",
       "\n",
       "  stress_label  \n",
       "0           no  \n",
       "1          yes  \n",
       "2           no  \n",
       "3           no  \n",
       "4           no  "
      ]
     },
     "metadata": {},
     "output_type": "display_data"
    }
   ],
   "source": [
    "dftmp2 = load_df(\"../out/paanx_mentalroberta_stress.tsv\")"
   ]
  },
  {
   "cell_type": "code",
   "execution_count": 14,
   "metadata": {},
   "outputs": [
    {
     "data": {
      "text/plain": [
       " no     1435\n",
       " yes     467\n",
       "Name: stress_label, dtype: int64"
      ]
     },
     "execution_count": 14,
     "metadata": {},
     "output_type": "execute_result"
    }
   ],
   "source": [
    "dftmp2.stress_label.value_counts()"
   ]
  },
  {
   "cell_type": "code",
   "execution_count": 166,
   "metadata": {},
   "outputs": [
    {
     "data": {
      "image/png": "[encoded data removed]",
      "text/plain": [
       "<Figure size 432x288 with 1 Axes>"
      ]
     },
     "metadata": {
      "needs_background": "light"
     },
     "output_type": "display_data"
    },
    {
     "data": {
      "image/png": "[encoded data removed]",
      "text/plain": [
       "<Figure size 432x288 with 1 Axes>"
      ]
     },
     "metadata": {
      "needs_background": "light"
     },
     "output_type": "display_data"
    }
   ],
   "source": [
    "for gk, gv in dftmp2.groupby(by=[\"source\"]):\n",
    "    sns.histplot(data= gv[[\"stress_label\", \"class\"]], y=\"stress_label\", hue=\"class\", hue_order=[\"anxiety\", \"panic\"],\n",
    "                 stat=\"percent\", multiple=\"dodge\", shrink=.8)\n",
    "    plt.title(f\"{gk}\")\n",
    "    plt.show()\n"
   ]
  },
  {
   "cell_type": "code",
   "execution_count": 175,
   "metadata": {},
   "outputs": [
    {
     "data": {
      "image/png": "[encoded data removed]",
      "text/plain": [
       "<Figure size 793.125x360 with 2 Axes>"
      ]
     },
     "metadata": {
      "needs_background": "light"
     },
     "output_type": "display_data"
    }
   ],
   "source": [
    "sns.displot(data=dftmp2[[\"source\", \"stress_label\", \"class\"]], y=\"stress_label\", hue=\"class\", col=\"source\", stat=\"percent\", multiple=\"dodge\", shrink=.8)\n",
    "# plt.ylabel(\"Stress\")\n",
    "plt.show()"
   ]
  },
  {
   "cell_type": "code",
   "execution_count": 152,
   "metadata": {},
   "outputs": [],
   "source": [
    "pd.concat([dftmp2, dftmp[[\"mentalrobertaeval\",\t\"mentalrobertaeval_score\", \"mentalrobertaeval_label\"]]], axis=1).to_csv(\"../out/hfinf_mentalroberta_full.tsv\", sep='\\t')"
   ]
  },
  {
   "attachments": {},
   "cell_type": "markdown",
   "metadata": {},
   "source": [
    "### Extract sentiment"
   ]
  },
  {
   "cell_type": "code",
   "execution_count": 173,
   "metadata": {},
   "outputs": [],
   "source": [
    "import requests\n",
    "\n",
    "API_URL = \"https://api-inference.huggingface.co/models/lxyuan/distilbert-base-multilingual-cased-sentiments-student\"\n",
    "headers = {\"Authorization\": \"Bearer hf_...\"} \n",
    "\n",
    "def query(payload):\n",
    "\tresponse = requests.post(API_URL, headers=headers, json=payload)\n",
    "\treturn response.json()\n",
    "\t"
   ]
  },
  {
   "cell_type": "code",
   "execution_count": 176,
   "metadata": {},
   "outputs": [
    {
     "data": {
      "text/plain": [
       "[[{'label': 'neutral', 'score': 0.3533730208873749},\n",
       "  {'label': 'negative', 'score': 0.3360978066921234},\n",
       "  {'label': 'positive', 'score': 0.3105291426181793}]]"
      ]
     },
     "execution_count": 176,
     "metadata": {},
     "output_type": "execute_result"
    }
   ],
   "source": [
    "hf_infer(query, exs[0])"
   ]
  },
  {
   "cell_type": "code",
   "execution_count": 135,
   "metadata": {},
   "outputs": [
    {
     "name": "stderr",
     "output_type": "stream",
     "text": [
      " 22%|██▏       | 39/180 [00:23<01:25,  1.64it/s]"
     ]
    },
    {
     "name": "stdout",
     "output_type": "stream",
     "text": [
      "Problem--> Length of values (2) does not match length of index (5)\n"
     ]
    },
    {
     "name": "stderr",
     "output_type": "stream",
     "text": [
      " 29%|██▉       | 53/180 [00:31<01:06,  1.91it/s]"
     ]
    },
    {
     "name": "stdout",
     "output_type": "stream",
     "text": [
      "Problem--> Length of values (2) does not match length of index (5)\n"
     ]
    },
    {
     "name": "stderr",
     "output_type": "stream",
     "text": [
      " 34%|███▍      | 62/180 [00:36<01:04,  1.82it/s]"
     ]
    },
    {
     "name": "stdout",
     "output_type": "stream",
     "text": [
      "Problem--> Length of values (2) does not match length of index (5)\n"
     ]
    },
    {
     "name": "stderr",
     "output_type": "stream",
     "text": [
      " 37%|███▋      | 66/180 [00:39<01:09,  1.64it/s]"
     ]
    },
    {
     "name": "stdout",
     "output_type": "stream",
     "text": [
      "Problem--> Length of values (2) does not match length of index (5)\n"
     ]
    },
    {
     "name": "stderr",
     "output_type": "stream",
     "text": [
      " 43%|████▎     | 78/180 [00:47<01:07,  1.51it/s]"
     ]
    },
    {
     "name": "stdout",
     "output_type": "stream",
     "text": [
      "Problem--> Length of values (2) does not match length of index (5)\n"
     ]
    },
    {
     "name": "stderr",
     "output_type": "stream",
     "text": [
      " 46%|████▌     | 82/180 [00:50<01:03,  1.55it/s]"
     ]
    },
    {
     "name": "stdout",
     "output_type": "stream",
     "text": [
      "Problem--> Length of values (2) does not match length of index (5)\n"
     ]
    },
    {
     "name": "stderr",
     "output_type": "stream",
     "text": [
      " 47%|████▋     | 84/180 [00:51<01:10,  1.36it/s]"
     ]
    },
    {
     "name": "stdout",
     "output_type": "stream",
     "text": [
      "Problem--> Length of values (2) does not match length of index (5)\n"
     ]
    },
    {
     "name": "stderr",
     "output_type": "stream",
     "text": [
      " 48%|████▊     | 87/180 [00:54<01:07,  1.37it/s]"
     ]
    },
    {
     "name": "stdout",
     "output_type": "stream",
     "text": [
      "Problem--> Length of values (2) does not match length of index (5)\n"
     ]
    },
    {
     "name": "stderr",
     "output_type": "stream",
     "text": [
      " 51%|█████     | 92/180 [00:58<01:03,  1.39it/s]"
     ]
    },
    {
     "name": "stdout",
     "output_type": "stream",
     "text": [
      "Problem--> Length of values (2) does not match length of index (5)\n"
     ]
    },
    {
     "name": "stderr",
     "output_type": "stream",
     "text": [
      " 64%|██████▍   | 116/180 [01:13<00:40,  1.58it/s]"
     ]
    },
    {
     "name": "stdout",
     "output_type": "stream",
     "text": [
      "Problem--> Length of values (1) does not match length of index (5)\n"
     ]
    },
    {
     "name": "stderr",
     "output_type": "stream",
     "text": [
      " 65%|██████▌   | 117/180 [01:14<00:44,  1.43it/s]"
     ]
    },
    {
     "name": "stdout",
     "output_type": "stream",
     "text": [
      "Problem--> Length of values (1) does not match length of index (5)\n"
     ]
    },
    {
     "name": "stderr",
     "output_type": "stream",
     "text": [
      " 66%|██████▌   | 118/180 [01:15<00:46,  1.34it/s]"
     ]
    },
    {
     "name": "stdout",
     "output_type": "stream",
     "text": [
      "Problem--> Length of values (1) does not match length of index (5)\n"
     ]
    },
    {
     "name": "stderr",
     "output_type": "stream",
     "text": [
      " 66%|██████▌   | 119/180 [01:16<00:46,  1.31it/s]"
     ]
    },
    {
     "name": "stdout",
     "output_type": "stream",
     "text": [
      "Problem--> Length of values (1) does not match length of index (5)\n"
     ]
    },
    {
     "name": "stderr",
     "output_type": "stream",
     "text": [
      " 67%|██████▋   | 120/180 [01:17<00:47,  1.26it/s]"
     ]
    },
    {
     "name": "stdout",
     "output_type": "stream",
     "text": [
      "Problem--> Length of values (1) does not match length of index (5)\n"
     ]
    },
    {
     "name": "stderr",
     "output_type": "stream",
     "text": [
      " 67%|██████▋   | 121/180 [01:18<00:47,  1.23it/s]"
     ]
    },
    {
     "name": "stdout",
     "output_type": "stream",
     "text": [
      "Problem--> Length of values (1) does not match length of index (5)\n"
     ]
    },
    {
     "name": "stderr",
     "output_type": "stream",
     "text": [
      " 68%|██████▊   | 122/180 [01:18<00:47,  1.21it/s]"
     ]
    },
    {
     "name": "stdout",
     "output_type": "stream",
     "text": [
      "Problem--> Length of values (1) does not match length of index (5)\n"
     ]
    },
    {
     "name": "stderr",
     "output_type": "stream",
     "text": [
      " 68%|██████▊   | 123/180 [01:19<00:47,  1.20it/s]"
     ]
    },
    {
     "name": "stdout",
     "output_type": "stream",
     "text": [
      "Problem--> Length of values (1) does not match length of index (5)\n"
     ]
    },
    {
     "name": "stderr",
     "output_type": "stream",
     "text": [
      " 69%|██████▉   | 124/180 [01:20<00:46,  1.20it/s]"
     ]
    },
    {
     "name": "stdout",
     "output_type": "stream",
     "text": [
      "Problem--> Length of values (1) does not match length of index (5)\n"
     ]
    },
    {
     "name": "stderr",
     "output_type": "stream",
     "text": [
      " 69%|██████▉   | 125/180 [01:21<00:46,  1.19it/s]"
     ]
    },
    {
     "name": "stdout",
     "output_type": "stream",
     "text": [
      "Problem--> Length of values (1) does not match length of index (5)\n"
     ]
    },
    {
     "name": "stderr",
     "output_type": "stream",
     "text": [
      " 70%|███████   | 126/180 [01:22<00:44,  1.20it/s]"
     ]
    },
    {
     "name": "stdout",
     "output_type": "stream",
     "text": [
      "Problem--> Length of values (1) does not match length of index (5)\n"
     ]
    },
    {
     "name": "stderr",
     "output_type": "stream",
     "text": [
      " 71%|███████   | 127/180 [01:23<00:44,  1.20it/s]"
     ]
    },
    {
     "name": "stdout",
     "output_type": "stream",
     "text": [
      "Problem--> Length of values (1) does not match length of index (5)\n"
     ]
    },
    {
     "name": "stderr",
     "output_type": "stream",
     "text": [
      " 71%|███████   | 128/180 [01:23<00:43,  1.21it/s]"
     ]
    },
    {
     "name": "stdout",
     "output_type": "stream",
     "text": [
      "Problem--> Length of values (1) does not match length of index (5)\n"
     ]
    },
    {
     "name": "stderr",
     "output_type": "stream",
     "text": [
      " 72%|███████▏  | 129/180 [01:24<00:42,  1.20it/s]"
     ]
    },
    {
     "name": "stdout",
     "output_type": "stream",
     "text": [
      "Problem--> Length of values (1) does not match length of index (5)\n"
     ]
    },
    {
     "name": "stderr",
     "output_type": "stream",
     "text": [
      " 72%|███████▏  | 130/180 [01:25<00:41,  1.21it/s]"
     ]
    },
    {
     "name": "stdout",
     "output_type": "stream",
     "text": [
      "Problem--> Length of values (1) does not match length of index (5)\n"
     ]
    },
    {
     "name": "stderr",
     "output_type": "stream",
     "text": [
      " 73%|███████▎  | 131/180 [01:26<00:40,  1.20it/s]"
     ]
    },
    {
     "name": "stdout",
     "output_type": "stream",
     "text": [
      "Problem--> Length of values (1) does not match length of index (5)\n"
     ]
    },
    {
     "name": "stderr",
     "output_type": "stream",
     "text": [
      " 73%|███████▎  | 132/180 [01:27<00:40,  1.19it/s]"
     ]
    },
    {
     "name": "stdout",
     "output_type": "stream",
     "text": [
      "Problem--> Length of values (1) does not match length of index (5)\n"
     ]
    },
    {
     "name": "stderr",
     "output_type": "stream",
     "text": [
      " 74%|███████▍  | 133/180 [01:28<00:39,  1.19it/s]"
     ]
    },
    {
     "name": "stdout",
     "output_type": "stream",
     "text": [
      "Problem--> Length of values (1) does not match length of index (5)\n"
     ]
    },
    {
     "name": "stderr",
     "output_type": "stream",
     "text": [
      " 74%|███████▍  | 134/180 [01:28<00:38,  1.19it/s]"
     ]
    },
    {
     "name": "stdout",
     "output_type": "stream",
     "text": [
      "Problem--> Length of values (1) does not match length of index (5)\n"
     ]
    },
    {
     "name": "stderr",
     "output_type": "stream",
     "text": [
      " 75%|███████▌  | 135/180 [01:29<00:37,  1.20it/s]"
     ]
    },
    {
     "name": "stdout",
     "output_type": "stream",
     "text": [
      "Problem--> Length of values (1) does not match length of index (5)\n"
     ]
    },
    {
     "name": "stderr",
     "output_type": "stream",
     "text": [
      " 76%|███████▌  | 136/180 [01:30<00:36,  1.19it/s]"
     ]
    },
    {
     "name": "stdout",
     "output_type": "stream",
     "text": [
      "Problem--> Length of values (1) does not match length of index (5)\n"
     ]
    },
    {
     "name": "stderr",
     "output_type": "stream",
     "text": [
      " 76%|███████▌  | 137/180 [01:31<00:36,  1.19it/s]"
     ]
    },
    {
     "name": "stdout",
     "output_type": "stream",
     "text": [
      "Problem--> Length of values (1) does not match length of index (5)\n"
     ]
    },
    {
     "name": "stderr",
     "output_type": "stream",
     "text": [
      " 77%|███████▋  | 138/180 [01:32<00:35,  1.19it/s]"
     ]
    },
    {
     "name": "stdout",
     "output_type": "stream",
     "text": [
      "Problem--> Length of values (1) does not match length of index (5)\n"
     ]
    },
    {
     "name": "stderr",
     "output_type": "stream",
     "text": [
      " 77%|███████▋  | 139/180 [01:33<00:34,  1.19it/s]"
     ]
    },
    {
     "name": "stdout",
     "output_type": "stream",
     "text": [
      "Problem--> Length of values (1) does not match length of index (5)\n"
     ]
    },
    {
     "name": "stderr",
     "output_type": "stream",
     "text": [
      " 78%|███████▊  | 140/180 [01:33<00:33,  1.20it/s]"
     ]
    },
    {
     "name": "stdout",
     "output_type": "stream",
     "text": [
      "Problem--> Length of values (1) does not match length of index (5)\n"
     ]
    },
    {
     "name": "stderr",
     "output_type": "stream",
     "text": [
      " 78%|███████▊  | 141/180 [01:34<00:32,  1.20it/s]"
     ]
    },
    {
     "name": "stdout",
     "output_type": "stream",
     "text": [
      "Problem--> Length of values (1) does not match length of index (5)\n"
     ]
    },
    {
     "name": "stderr",
     "output_type": "stream",
     "text": [
      " 79%|███████▉  | 142/180 [01:35<00:31,  1.21it/s]"
     ]
    },
    {
     "name": "stdout",
     "output_type": "stream",
     "text": [
      "Problem--> Length of values (1) does not match length of index (5)\n"
     ]
    },
    {
     "name": "stderr",
     "output_type": "stream",
     "text": [
      " 79%|███████▉  | 143/180 [01:36<00:30,  1.20it/s]"
     ]
    },
    {
     "name": "stdout",
     "output_type": "stream",
     "text": [
      "Problem--> Length of values (1) does not match length of index (5)\n"
     ]
    },
    {
     "name": "stderr",
     "output_type": "stream",
     "text": [
      " 80%|████████  | 144/180 [01:37<00:29,  1.21it/s]"
     ]
    },
    {
     "name": "stdout",
     "output_type": "stream",
     "text": [
      "Problem--> Length of values (1) does not match length of index (5)\n"
     ]
    },
    {
     "name": "stderr",
     "output_type": "stream",
     "text": [
      " 81%|████████  | 145/180 [01:38<00:28,  1.21it/s]"
     ]
    },
    {
     "name": "stdout",
     "output_type": "stream",
     "text": [
      "Problem--> Length of values (1) does not match length of index (5)\n"
     ]
    },
    {
     "name": "stderr",
     "output_type": "stream",
     "text": [
      " 81%|████████  | 146/180 [01:38<00:27,  1.22it/s]"
     ]
    },
    {
     "name": "stdout",
     "output_type": "stream",
     "text": [
      "Problem--> Length of values (1) does not match length of index (5)\n"
     ]
    },
    {
     "name": "stderr",
     "output_type": "stream",
     "text": [
      " 82%|████████▏ | 147/180 [01:39<00:27,  1.21it/s]"
     ]
    },
    {
     "name": "stdout",
     "output_type": "stream",
     "text": [
      "Problem--> Length of values (1) does not match length of index (5)\n"
     ]
    },
    {
     "name": "stderr",
     "output_type": "stream",
     "text": [
      " 82%|████████▏ | 148/180 [01:40<00:26,  1.21it/s]"
     ]
    },
    {
     "name": "stdout",
     "output_type": "stream",
     "text": [
      "Problem--> Length of values (1) does not match length of index (5)\n"
     ]
    },
    {
     "name": "stderr",
     "output_type": "stream",
     "text": [
      " 83%|████████▎ | 149/180 [01:41<00:25,  1.22it/s]"
     ]
    },
    {
     "name": "stdout",
     "output_type": "stream",
     "text": [
      "Problem--> Length of values (1) does not match length of index (5)\n"
     ]
    },
    {
     "name": "stderr",
     "output_type": "stream",
     "text": [
      " 83%|████████▎ | 150/180 [01:42<00:24,  1.21it/s]"
     ]
    },
    {
     "name": "stdout",
     "output_type": "stream",
     "text": [
      "Problem--> Length of values (1) does not match length of index (5)\n"
     ]
    },
    {
     "name": "stderr",
     "output_type": "stream",
     "text": [
      " 84%|████████▍ | 151/180 [01:43<00:24,  1.20it/s]"
     ]
    },
    {
     "name": "stdout",
     "output_type": "stream",
     "text": [
      "Problem--> Length of values (1) does not match length of index (5)\n"
     ]
    },
    {
     "name": "stderr",
     "output_type": "stream",
     "text": [
      " 84%|████████▍ | 152/180 [01:43<00:23,  1.20it/s]"
     ]
    },
    {
     "name": "stdout",
     "output_type": "stream",
     "text": [
      "Problem--> Length of values (1) does not match length of index (5)\n"
     ]
    },
    {
     "name": "stderr",
     "output_type": "stream",
     "text": [
      " 85%|████████▌ | 153/180 [01:44<00:22,  1.20it/s]"
     ]
    },
    {
     "name": "stdout",
     "output_type": "stream",
     "text": [
      "Problem--> Length of values (1) does not match length of index (5)\n"
     ]
    },
    {
     "name": "stderr",
     "output_type": "stream",
     "text": [
      " 86%|████████▌ | 154/180 [01:45<00:21,  1.20it/s]"
     ]
    },
    {
     "name": "stdout",
     "output_type": "stream",
     "text": [
      "Problem--> Length of values (1) does not match length of index (5)\n"
     ]
    },
    {
     "name": "stderr",
     "output_type": "stream",
     "text": [
      " 86%|████████▌ | 155/180 [01:46<00:20,  1.20it/s]"
     ]
    },
    {
     "name": "stdout",
     "output_type": "stream",
     "text": [
      "Problem--> Length of values (1) does not match length of index (5)\n"
     ]
    },
    {
     "name": "stderr",
     "output_type": "stream",
     "text": [
      " 87%|████████▋ | 156/180 [01:47<00:20,  1.19it/s]"
     ]
    },
    {
     "name": "stdout",
     "output_type": "stream",
     "text": [
      "Problem--> Length of values (1) does not match length of index (5)\n"
     ]
    },
    {
     "name": "stderr",
     "output_type": "stream",
     "text": [
      " 87%|████████▋ | 157/180 [01:48<00:19,  1.19it/s]"
     ]
    },
    {
     "name": "stdout",
     "output_type": "stream",
     "text": [
      "Problem--> Length of values (1) does not match length of index (5)\n"
     ]
    },
    {
     "name": "stderr",
     "output_type": "stream",
     "text": [
      " 88%|████████▊ | 158/180 [01:48<00:18,  1.19it/s]"
     ]
    },
    {
     "name": "stdout",
     "output_type": "stream",
     "text": [
      "Problem--> Length of values (1) does not match length of index (5)\n"
     ]
    },
    {
     "name": "stderr",
     "output_type": "stream",
     "text": [
      " 88%|████████▊ | 159/180 [01:49<00:17,  1.20it/s]"
     ]
    },
    {
     "name": "stdout",
     "output_type": "stream",
     "text": [
      "Problem--> Length of values (1) does not match length of index (5)\n"
     ]
    },
    {
     "name": "stderr",
     "output_type": "stream",
     "text": [
      " 89%|████████▉ | 160/180 [01:50<00:16,  1.19it/s]"
     ]
    },
    {
     "name": "stdout",
     "output_type": "stream",
     "text": [
      "Problem--> Length of values (1) does not match length of index (5)\n"
     ]
    },
    {
     "name": "stderr",
     "output_type": "stream",
     "text": [
      " 89%|████████▉ | 161/180 [01:51<00:15,  1.19it/s]"
     ]
    },
    {
     "name": "stdout",
     "output_type": "stream",
     "text": [
      "Problem--> Length of values (1) does not match length of index (5)\n"
     ]
    },
    {
     "name": "stderr",
     "output_type": "stream",
     "text": [
      " 90%|█████████ | 162/180 [01:52<00:14,  1.20it/s]"
     ]
    },
    {
     "name": "stdout",
     "output_type": "stream",
     "text": [
      "Problem--> Length of values (1) does not match length of index (5)\n"
     ]
    },
    {
     "name": "stderr",
     "output_type": "stream",
     "text": [
      " 91%|█████████ | 163/180 [01:53<00:14,  1.19it/s]"
     ]
    },
    {
     "name": "stdout",
     "output_type": "stream",
     "text": [
      "Problem--> Length of values (1) does not match length of index (5)\n"
     ]
    },
    {
     "name": "stderr",
     "output_type": "stream",
     "text": [
      " 91%|█████████ | 164/180 [01:53<00:13,  1.18it/s]"
     ]
    },
    {
     "name": "stdout",
     "output_type": "stream",
     "text": [
      "Problem--> Length of values (1) does not match length of index (5)\n"
     ]
    },
    {
     "name": "stderr",
     "output_type": "stream",
     "text": [
      " 92%|█████████▏| 165/180 [01:54<00:12,  1.18it/s]"
     ]
    },
    {
     "name": "stdout",
     "output_type": "stream",
     "text": [
      "Problem--> Length of values (1) does not match length of index (5)\n"
     ]
    },
    {
     "name": "stderr",
     "output_type": "stream",
     "text": [
      " 92%|█████████▏| 166/180 [01:55<00:11,  1.19it/s]"
     ]
    },
    {
     "name": "stdout",
     "output_type": "stream",
     "text": [
      "Problem--> Length of values (1) does not match length of index (5)\n"
     ]
    },
    {
     "name": "stderr",
     "output_type": "stream",
     "text": [
      " 93%|█████████▎| 167/180 [01:56<00:11,  1.18it/s]"
     ]
    },
    {
     "name": "stdout",
     "output_type": "stream",
     "text": [
      "Problem--> Length of values (1) does not match length of index (5)\n"
     ]
    },
    {
     "name": "stderr",
     "output_type": "stream",
     "text": [
      " 93%|█████████▎| 168/180 [01:57<00:10,  1.16it/s]"
     ]
    },
    {
     "name": "stdout",
     "output_type": "stream",
     "text": [
      "Problem--> Length of values (1) does not match length of index (5)\n"
     ]
    },
    {
     "name": "stderr",
     "output_type": "stream",
     "text": [
      " 94%|█████████▍| 169/180 [01:58<00:09,  1.16it/s]"
     ]
    },
    {
     "name": "stdout",
     "output_type": "stream",
     "text": [
      "Problem--> Length of values (1) does not match length of index (5)\n"
     ]
    },
    {
     "name": "stderr",
     "output_type": "stream",
     "text": [
      " 94%|█████████▍| 170/180 [01:59<00:08,  1.16it/s]"
     ]
    },
    {
     "name": "stdout",
     "output_type": "stream",
     "text": [
      "Problem--> Length of values (1) does not match length of index (5)\n"
     ]
    },
    {
     "name": "stderr",
     "output_type": "stream",
     "text": [
      " 95%|█████████▌| 171/180 [01:59<00:07,  1.17it/s]"
     ]
    },
    {
     "name": "stdout",
     "output_type": "stream",
     "text": [
      "Problem--> Length of values (1) does not match length of index (5)\n"
     ]
    },
    {
     "name": "stderr",
     "output_type": "stream",
     "text": [
      " 96%|█████████▌| 172/180 [02:00<00:06,  1.18it/s]"
     ]
    },
    {
     "name": "stdout",
     "output_type": "stream",
     "text": [
      "Problem--> Length of values (1) does not match length of index (5)\n"
     ]
    },
    {
     "name": "stderr",
     "output_type": "stream",
     "text": [
      " 96%|█████████▌| 173/180 [02:01<00:05,  1.20it/s]"
     ]
    },
    {
     "name": "stdout",
     "output_type": "stream",
     "text": [
      "Problem--> Length of values (1) does not match length of index (5)\n"
     ]
    },
    {
     "name": "stderr",
     "output_type": "stream",
     "text": [
      " 97%|█████████▋| 174/180 [02:02<00:05,  1.19it/s]"
     ]
    },
    {
     "name": "stdout",
     "output_type": "stream",
     "text": [
      "Problem--> Length of values (1) does not match length of index (5)\n"
     ]
    },
    {
     "name": "stderr",
     "output_type": "stream",
     "text": [
      " 97%|█████████▋| 175/180 [02:03<00:04,  1.18it/s]"
     ]
    },
    {
     "name": "stdout",
     "output_type": "stream",
     "text": [
      "Problem--> Length of values (1) does not match length of index (5)\n"
     ]
    },
    {
     "name": "stderr",
     "output_type": "stream",
     "text": [
      " 98%|█████████▊| 176/180 [02:04<00:03,  1.17it/s]"
     ]
    },
    {
     "name": "stdout",
     "output_type": "stream",
     "text": [
      "Problem--> Length of values (1) does not match length of index (5)\n"
     ]
    },
    {
     "name": "stderr",
     "output_type": "stream",
     "text": [
      " 98%|█████████▊| 177/180 [02:05<00:02,  1.16it/s]"
     ]
    },
    {
     "name": "stdout",
     "output_type": "stream",
     "text": [
      "Problem--> Length of values (1) does not match length of index (5)\n"
     ]
    },
    {
     "name": "stderr",
     "output_type": "stream",
     "text": [
      " 99%|█████████▉| 178/180 [02:05<00:01,  1.15it/s]"
     ]
    },
    {
     "name": "stdout",
     "output_type": "stream",
     "text": [
      "Problem--> Length of values (1) does not match length of index (4)\n"
     ]
    },
    {
     "name": "stderr",
     "output_type": "stream",
     "text": [
      " 99%|█████████▉| 179/180 [02:06<00:00,  1.15it/s]"
     ]
    },
    {
     "name": "stdout",
     "output_type": "stream",
     "text": [
      "Problem--> Length of values (1) does not match length of index (4)\n"
     ]
    },
    {
     "name": "stderr",
     "output_type": "stream",
     "text": [
      "100%|██████████| 180/180 [02:07<00:00,  1.41it/s]"
     ]
    },
    {
     "name": "stdout",
     "output_type": "stream",
     "text": [
      "535 180\n"
     ]
    },
    {
     "name": "stderr",
     "output_type": "stream",
     "text": [
      "\n"
     ]
    }
   ],
   "source": [
    "rs_df = hf_infer_batch(df, query, output_col_name=\"sentiment\", max_seq=400, chunks=180)\n",
    "print(f\"{len(rs_df)}\")"
   ]
  },
  {
   "cell_type": "code",
   "execution_count": 138,
   "metadata": {},
   "outputs": [
    {
     "data": {
      "text/html": [
       "<div>\n",
       "<style scoped>\n",
       "    .dataframe tbody tr th:only-of-type {\n",
       "        vertical-align: middle;\n",
       "    }\n",
       "\n",
       "    .dataframe tbody tr th {\n",
       "        vertical-align: top;\n",
       "    }\n",
       "\n",
       "    .dataframe thead th {\n",
       "        text-align: right;\n",
       "    }\n",
       "</style>\n",
       "<table border=\"1\" class=\"dataframe\">\n",
       "  <thead>\n",
       "    <tr style=\"text-align: right;\">\n",
       "      <th></th>\n",
       "      <th>asin</th>\n",
       "      <th>overall</th>\n",
       "      <th>summary</th>\n",
       "      <th>reviewText</th>\n",
       "      <th>category</th>\n",
       "      <th>description</th>\n",
       "      <th>sentiment</th>\n",
       "    </tr>\n",
       "  </thead>\n",
       "  <tbody>\n",
       "    <tr>\n",
       "      <th>0</th>\n",
       "      <td>B00005N7P0</td>\n",
       "      <td>4.0</td>\n",
       "      <td>Cheapskates guide</td>\n",
       "      <td>I'm old, and so is my computer.  Any advice th...</td>\n",
       "      <td>['Magazine Subscriptions', 'Technology', 'Comp...</td>\n",
       "      <td>MAXIMUM PC is the ultimate upgrade for the sav...</td>\n",
       "      <td>[{'label': 'positive', 'score': 0.922463059425...</td>\n",
       "    </tr>\n",
       "    <tr>\n",
       "      <th>1</th>\n",
       "      <td>B00005N7P0</td>\n",
       "      <td>4.0</td>\n",
       "      <td>Cheapskates guide</td>\n",
       "      <td>I'm old, and so is my computer.  Any advice th...</td>\n",
       "      <td>['Magazine Subscriptions', 'Technology', 'Comp...</td>\n",
       "      <td>MAXIMUM PC is the ultimate upgrade for the sav...</td>\n",
       "      <td>[{'label': 'positive', 'score': 0.922463059425...</td>\n",
       "    </tr>\n",
       "    <tr>\n",
       "      <th>2</th>\n",
       "      <td>B00005N7P0</td>\n",
       "      <td>5.0</td>\n",
       "      <td>Excellent Computer Magazine</td>\n",
       "      <td>When PC Magazine ceased publication of their p...</td>\n",
       "      <td>['Magazine Subscriptions', 'Technology', 'Comp...</td>\n",
       "      <td>MAXIMUM PC is the ultimate upgrade for the sav...</td>\n",
       "      <td>[{'label': 'positive', 'score': 0.596512436866...</td>\n",
       "    </tr>\n",
       "    <tr>\n",
       "      <th>3</th>\n",
       "      <td>B00005N7P0</td>\n",
       "      <td>5.0</td>\n",
       "      <td>Excellent Computer Magazine</td>\n",
       "      <td>When PC Magazine ceased publication of their p...</td>\n",
       "      <td>['Magazine Subscriptions', 'Technology', 'Comp...</td>\n",
       "      <td>MAXIMUM PC is the ultimate upgrade for the sav...</td>\n",
       "      <td>[{'label': 'positive', 'score': 0.596512436866...</td>\n",
       "    </tr>\n",
       "    <tr>\n",
       "      <th>4</th>\n",
       "      <td>B00005N7P0</td>\n",
       "      <td>5.0</td>\n",
       "      <td>Best PC Magazine</td>\n",
       "      <td>In my mind BEST PC Magazine for upgrades / har...</td>\n",
       "      <td>['Magazine Subscriptions', 'Technology', 'Comp...</td>\n",
       "      <td>MAXIMUM PC is the ultimate upgrade for the sav...</td>\n",
       "      <td>[{'label': 'positive', 'score': 0.792497694492...</td>\n",
       "    </tr>\n",
       "    <tr>\n",
       "      <th>...</th>\n",
       "      <td>...</td>\n",
       "      <td>...</td>\n",
       "      <td>...</td>\n",
       "      <td>...</td>\n",
       "      <td>...</td>\n",
       "      <td>...</td>\n",
       "      <td>...</td>\n",
       "    </tr>\n",
       "    <tr>\n",
       "      <th>893</th>\n",
       "      <td>B01CF3ECNK</td>\n",
       "      <td>3.0</td>\n",
       "      <td>I hate to admit it, but...</td>\n",
       "      <td>Against my better judgment, I picked up an iss...</td>\n",
       "      <td>['Magazine Subscriptions', 'Cooking, Food &amp; Wi...</td>\n",
       "      <td>Rachael Ray Every Day is a food and cooking ma...</td>\n",
       "      <td>NaN</td>\n",
       "    </tr>\n",
       "    <tr>\n",
       "      <th>894</th>\n",
       "      <td>B01CF3ECNK</td>\n",
       "      <td>3.0</td>\n",
       "      <td>Everyday.....</td>\n",
       "      <td>A fun magazine to read through but for me, the...</td>\n",
       "      <td>['Magazine Subscriptions', 'Cooking, Food &amp; Wi...</td>\n",
       "      <td>Rachael Ray Every Day is a food and cooking ma...</td>\n",
       "      <td>NaN</td>\n",
       "    </tr>\n",
       "    <tr>\n",
       "      <th>895</th>\n",
       "      <td>B01CF3ECNK</td>\n",
       "      <td>5.0</td>\n",
       "      <td>Really well put together</td>\n",
       "      <td>I first saw this magazine at my dentist's offi...</td>\n",
       "      <td>['Magazine Subscriptions', 'Cooking, Food &amp; Wi...</td>\n",
       "      <td>Rachael Ray Every Day is a food and cooking ma...</td>\n",
       "      <td>NaN</td>\n",
       "    </tr>\n",
       "    <tr>\n",
       "      <th>896</th>\n",
       "      <td>B01CF3ECNK</td>\n",
       "      <td>5.0</td>\n",
       "      <td>Love this magazine</td>\n",
       "      <td>This magazine is fun and upbeat. The pictures ...</td>\n",
       "      <td>['Magazine Subscriptions', 'Cooking, Food &amp; Wi...</td>\n",
       "      <td>Rachael Ray Every Day is a food and cooking ma...</td>\n",
       "      <td>NaN</td>\n",
       "    </tr>\n",
       "    <tr>\n",
       "      <th>897</th>\n",
       "      <td>B01CF3ECNK</td>\n",
       "      <td>5.0</td>\n",
       "      <td>Artistic Design with Unique Features</td>\n",
       "      <td>Spa Parties and T-shirts that say \"Delish\" are...</td>\n",
       "      <td>['Magazine Subscriptions', 'Cooking, Food &amp; Wi...</td>\n",
       "      <td>Rachael Ray Every Day is a food and cooking ma...</td>\n",
       "      <td>NaN</td>\n",
       "    </tr>\n",
       "  </tbody>\n",
       "</table>\n",
       "<p>898 rows × 7 columns</p>\n",
       "</div>"
      ],
      "text/plain": [
       "           asin  overall                               summary  \\\n",
       "0    B00005N7P0      4.0                     Cheapskates guide   \n",
       "1    B00005N7P0      4.0                     Cheapskates guide   \n",
       "2    B00005N7P0      5.0           Excellent Computer Magazine   \n",
       "3    B00005N7P0      5.0           Excellent Computer Magazine   \n",
       "4    B00005N7P0      5.0                      Best PC Magazine   \n",
       "..          ...      ...                                   ...   \n",
       "893  B01CF3ECNK      3.0            I hate to admit it, but...   \n",
       "894  B01CF3ECNK      3.0                         Everyday.....   \n",
       "895  B01CF3ECNK      5.0              Really well put together   \n",
       "896  B01CF3ECNK      5.0                    Love this magazine   \n",
       "897  B01CF3ECNK      5.0  Artistic Design with Unique Features   \n",
       "\n",
       "                                            reviewText  \\\n",
       "0    I'm old, and so is my computer.  Any advice th...   \n",
       "1    I'm old, and so is my computer.  Any advice th...   \n",
       "2    When PC Magazine ceased publication of their p...   \n",
       "3    When PC Magazine ceased publication of their p...   \n",
       "4    In my mind BEST PC Magazine for upgrades / har...   \n",
       "..                                                 ...   \n",
       "893  Against my better judgment, I picked up an iss...   \n",
       "894  A fun magazine to read through but for me, the...   \n",
       "895  I first saw this magazine at my dentist's offi...   \n",
       "896  This magazine is fun and upbeat. The pictures ...   \n",
       "897  Spa Parties and T-shirts that say \"Delish\" are...   \n",
       "\n",
       "                                              category  \\\n",
       "0    ['Magazine Subscriptions', 'Technology', 'Comp...   \n",
       "1    ['Magazine Subscriptions', 'Technology', 'Comp...   \n",
       "2    ['Magazine Subscriptions', 'Technology', 'Comp...   \n",
       "3    ['Magazine Subscriptions', 'Technology', 'Comp...   \n",
       "4    ['Magazine Subscriptions', 'Technology', 'Comp...   \n",
       "..                                                 ...   \n",
       "893  ['Magazine Subscriptions', 'Cooking, Food & Wi...   \n",
       "894  ['Magazine Subscriptions', 'Cooking, Food & Wi...   \n",
       "895  ['Magazine Subscriptions', 'Cooking, Food & Wi...   \n",
       "896  ['Magazine Subscriptions', 'Cooking, Food & Wi...   \n",
       "897  ['Magazine Subscriptions', 'Cooking, Food & Wi...   \n",
       "\n",
       "                                           description  \\\n",
       "0    MAXIMUM PC is the ultimate upgrade for the sav...   \n",
       "1    MAXIMUM PC is the ultimate upgrade for the sav...   \n",
       "2    MAXIMUM PC is the ultimate upgrade for the sav...   \n",
       "3    MAXIMUM PC is the ultimate upgrade for the sav...   \n",
       "4    MAXIMUM PC is the ultimate upgrade for the sav...   \n",
       "..                                                 ...   \n",
       "893  Rachael Ray Every Day is a food and cooking ma...   \n",
       "894  Rachael Ray Every Day is a food and cooking ma...   \n",
       "895  Rachael Ray Every Day is a food and cooking ma...   \n",
       "896  Rachael Ray Every Day is a food and cooking ma...   \n",
       "897  Rachael Ray Every Day is a food and cooking ma...   \n",
       "\n",
       "                                             sentiment  \n",
       "0    [{'label': 'positive', 'score': 0.922463059425...  \n",
       "1    [{'label': 'positive', 'score': 0.922463059425...  \n",
       "2    [{'label': 'positive', 'score': 0.596512436866...  \n",
       "3    [{'label': 'positive', 'score': 0.596512436866...  \n",
       "4    [{'label': 'positive', 'score': 0.792497694492...  \n",
       "..                                                 ...  \n",
       "893                                                NaN  \n",
       "894                                                NaN  \n",
       "895                                                NaN  \n",
       "896                                                NaN  \n",
       "897                                                NaN  \n",
       "\n",
       "[898 rows x 7 columns]"
      ]
     },
     "execution_count": 138,
     "metadata": {},
     "output_type": "execute_result"
    }
   ],
   "source": [
    "df = pd.concat(rs_df, axis=0)\n",
    "df"
   ]
  },
  {
   "cell_type": "code",
   "execution_count": 197,
   "metadata": {},
   "outputs": [
    {
     "name": "stderr",
     "output_type": "stream",
     "text": [
      "100%|██████████| 898/898 [02:21<00:00,  6.37it/s] \n"
     ]
    }
   ],
   "source": [
    "for index, row in tqdm(df.iterrows(), total=len(df)):\n",
    "    if not isinstance(row['sentiment'], list) and pd.isna(row['sentiment']):\n",
    "        df.at[index, 'sentiment'] = hf_infer(query, row[\"reviewText\"], max_seq=400)\n",
    "        pass"
   ]
  },
  {
   "cell_type": "code",
   "execution_count": 199,
   "metadata": {},
   "outputs": [
    {
     "data": {
      "text/html": [
       "<div>\n",
       "<style scoped>\n",
       "    .dataframe tbody tr th:only-of-type {\n",
       "        vertical-align: middle;\n",
       "    }\n",
       "\n",
       "    .dataframe tbody tr th {\n",
       "        vertical-align: top;\n",
       "    }\n",
       "\n",
       "    .dataframe thead th {\n",
       "        text-align: right;\n",
       "    }\n",
       "</style>\n",
       "<table border=\"1\" class=\"dataframe\">\n",
       "  <thead>\n",
       "    <tr style=\"text-align: right;\">\n",
       "      <th></th>\n",
       "      <th>asin</th>\n",
       "      <th>overall</th>\n",
       "      <th>summary</th>\n",
       "      <th>reviewText</th>\n",
       "      <th>category</th>\n",
       "      <th>description</th>\n",
       "      <th>sentiment</th>\n",
       "    </tr>\n",
       "  </thead>\n",
       "  <tbody>\n",
       "  </tbody>\n",
       "</table>\n",
       "</div>"
      ],
      "text/plain": [
       "Empty DataFrame\n",
       "Columns: [asin, overall, summary, reviewText, category, description, sentiment]\n",
       "Index: []"
      ]
     },
     "execution_count": 199,
     "metadata": {},
     "output_type": "execute_result"
    }
   ],
   "source": [
    "df[df.sentiment.isna()]"
   ]
  },
  {
   "cell_type": "code",
   "execution_count": 7,
   "metadata": {},
   "outputs": [
    {
     "name": "stdout",
     "output_type": "stream",
     "text": [
      "(898, 10)\n"
     ]
    },
    {
     "data": {
      "text/html": [
       "<div>\n",
       "<style scoped>\n",
       "    .dataframe tbody tr th:only-of-type {\n",
       "        vertical-align: middle;\n",
       "    }\n",
       "\n",
       "    .dataframe tbody tr th {\n",
       "        vertical-align: top;\n",
       "    }\n",
       "\n",
       "    .dataframe thead th {\n",
       "        text-align: right;\n",
       "    }\n",
       "</style>\n",
       "<table border=\"1\" class=\"dataframe\">\n",
       "  <thead>\n",
       "    <tr style=\"text-align: right;\">\n",
       "      <th></th>\n",
       "      <th>Unnamed: 0</th>\n",
       "      <th>asin</th>\n",
       "      <th>overall</th>\n",
       "      <th>summary</th>\n",
       "      <th>reviewText</th>\n",
       "      <th>category</th>\n",
       "      <th>description</th>\n",
       "      <th>sentiment</th>\n",
       "      <th>reviewText_tmp</th>\n",
       "      <th>reviewText_tmp_len</th>\n",
       "    </tr>\n",
       "  </thead>\n",
       "  <tbody>\n",
       "    <tr>\n",
       "      <th>0</th>\n",
       "      <td>0</td>\n",
       "      <td>B00005N7P0</td>\n",
       "      <td>4.0</td>\n",
       "      <td>Cheapskates guide</td>\n",
       "      <td>I'm old, and so is my computer.  Any advice th...</td>\n",
       "      <td>['Magazine Subscriptions', 'Technology', 'Comp...</td>\n",
       "      <td>MAXIMUM PC is the ultimate upgrade for the sav...</td>\n",
       "      <td>[{'label': 'positive', 'score': 0.922463059425...</td>\n",
       "      <td>I'm old, and so is my computer. Any advice tha...</td>\n",
       "      <td>32</td>\n",
       "    </tr>\n",
       "    <tr>\n",
       "      <th>1</th>\n",
       "      <td>1</td>\n",
       "      <td>B00005N7P0</td>\n",
       "      <td>4.0</td>\n",
       "      <td>Cheapskates guide</td>\n",
       "      <td>I'm old, and so is my computer.  Any advice th...</td>\n",
       "      <td>['Magazine Subscriptions', 'Technology', 'Comp...</td>\n",
       "      <td>MAXIMUM PC is the ultimate upgrade for the sav...</td>\n",
       "      <td>[{'label': 'positive', 'score': 0.922463059425...</td>\n",
       "      <td>I'm old, and so is my computer. Any advice tha...</td>\n",
       "      <td>32</td>\n",
       "    </tr>\n",
       "    <tr>\n",
       "      <th>2</th>\n",
       "      <td>2</td>\n",
       "      <td>B00005N7P0</td>\n",
       "      <td>5.0</td>\n",
       "      <td>Excellent Computer Magazine</td>\n",
       "      <td>When PC Magazine ceased publication of their p...</td>\n",
       "      <td>['Magazine Subscriptions', 'Technology', 'Comp...</td>\n",
       "      <td>MAXIMUM PC is the ultimate upgrade for the sav...</td>\n",
       "      <td>[{'label': 'positive', 'score': 0.596512436866...</td>\n",
       "      <td>When PC Magazine ceased publication of their p...</td>\n",
       "      <td>136</td>\n",
       "    </tr>\n",
       "    <tr>\n",
       "      <th>3</th>\n",
       "      <td>3</td>\n",
       "      <td>B00005N7P0</td>\n",
       "      <td>5.0</td>\n",
       "      <td>Excellent Computer Magazine</td>\n",
       "      <td>When PC Magazine ceased publication of their p...</td>\n",
       "      <td>['Magazine Subscriptions', 'Technology', 'Comp...</td>\n",
       "      <td>MAXIMUM PC is the ultimate upgrade for the sav...</td>\n",
       "      <td>[{'label': 'positive', 'score': 0.596512436866...</td>\n",
       "      <td>When PC Magazine ceased publication of their p...</td>\n",
       "      <td>136</td>\n",
       "    </tr>\n",
       "    <tr>\n",
       "      <th>4</th>\n",
       "      <td>4</td>\n",
       "      <td>B00005N7P0</td>\n",
       "      <td>5.0</td>\n",
       "      <td>Best PC Magazine</td>\n",
       "      <td>In my mind BEST PC Magazine for upgrades / har...</td>\n",
       "      <td>['Magazine Subscriptions', 'Technology', 'Comp...</td>\n",
       "      <td>MAXIMUM PC is the ultimate upgrade for the sav...</td>\n",
       "      <td>[{'label': 'positive', 'score': 0.792497694492...</td>\n",
       "      <td>In my mind BEST PC Magazine for upgrades / har...</td>\n",
       "      <td>17</td>\n",
       "    </tr>\n",
       "  </tbody>\n",
       "</table>\n",
       "</div>"
      ],
      "text/plain": [
       "   Unnamed: 0        asin  overall                      summary  \\\n",
       "0           0  B00005N7P0      4.0            Cheapskates guide   \n",
       "1           1  B00005N7P0      4.0            Cheapskates guide   \n",
       "2           2  B00005N7P0      5.0  Excellent Computer Magazine   \n",
       "3           3  B00005N7P0      5.0  Excellent Computer Magazine   \n",
       "4           4  B00005N7P0      5.0             Best PC Magazine   \n",
       "\n",
       "                                          reviewText  \\\n",
       "0  I'm old, and so is my computer.  Any advice th...   \n",
       "1  I'm old, and so is my computer.  Any advice th...   \n",
       "2  When PC Magazine ceased publication of their p...   \n",
       "3  When PC Magazine ceased publication of their p...   \n",
       "4  In my mind BEST PC Magazine for upgrades / har...   \n",
       "\n",
       "                                            category  \\\n",
       "0  ['Magazine Subscriptions', 'Technology', 'Comp...   \n",
       "1  ['Magazine Subscriptions', 'Technology', 'Comp...   \n",
       "2  ['Magazine Subscriptions', 'Technology', 'Comp...   \n",
       "3  ['Magazine Subscriptions', 'Technology', 'Comp...   \n",
       "4  ['Magazine Subscriptions', 'Technology', 'Comp...   \n",
       "\n",
       "                                         description  \\\n",
       "0  MAXIMUM PC is the ultimate upgrade for the sav...   \n",
       "1  MAXIMUM PC is the ultimate upgrade for the sav...   \n",
       "2  MAXIMUM PC is the ultimate upgrade for the sav...   \n",
       "3  MAXIMUM PC is the ultimate upgrade for the sav...   \n",
       "4  MAXIMUM PC is the ultimate upgrade for the sav...   \n",
       "\n",
       "                                           sentiment  \\\n",
       "0  [{'label': 'positive', 'score': 0.922463059425...   \n",
       "1  [{'label': 'positive', 'score': 0.922463059425...   \n",
       "2  [{'label': 'positive', 'score': 0.596512436866...   \n",
       "3  [{'label': 'positive', 'score': 0.596512436866...   \n",
       "4  [{'label': 'positive', 'score': 0.792497694492...   \n",
       "\n",
       "                                      reviewText_tmp  reviewText_tmp_len  \n",
       "0  I'm old, and so is my computer. Any advice tha...                  32  \n",
       "1  I'm old, and so is my computer. Any advice tha...                  32  \n",
       "2  When PC Magazine ceased publication of their p...                 136  \n",
       "3  When PC Magazine ceased publication of their p...                 136  \n",
       "4  In my mind BEST PC Magazine for upgrades / har...                  17  "
      ]
     },
     "execution_count": 7,
     "metadata": {},
     "output_type": "execute_result"
    }
   ],
   "source": [
    "# df.to_csv(\"../data/data/amazon_reviews_v2/processed_magazine-subscriptions_sentiment.tsv\", sep=\"\\t\")\n",
    "df = pd.read_csv(\"../data/data/amazon_reviews_v2/processed_magazine-subscriptions_sentiment.tsv\", sep=\"\\t\")\n",
    "print(df.shape)\n",
    "df.head()"
   ]
  },
  {
   "cell_type": "code",
   "execution_count": 243,
   "metadata": {},
   "outputs": [
    {
     "data": {
      "text/plain": [
       "0      3\n",
       "1      3\n",
       "2      3\n",
       "3      3\n",
       "4      3\n",
       "      ..\n",
       "893    3\n",
       "894    3\n",
       "895    3\n",
       "896    3\n",
       "897    2\n",
       "Name: sentiment, Length: 898, dtype: int64"
      ]
     },
     "execution_count": 243,
     "metadata": {},
     "output_type": "execute_result"
    }
   ],
   "source": [
    "tmp = df.sentiment.map(lambda v: len(v))\n",
    "tmp"
   ]
  },
  {
   "cell_type": "code",
   "execution_count": 282,
   "metadata": {},
   "outputs": [],
   "source": [
    "for index, row in df[[isinstance(v, list) and len(v) <3 for v in df.sentiment]].iterrows():\n",
    "    df.at[index, \"sentiment\"] = row[\"sentiment\"][0]\n"
   ]
  },
  {
   "cell_type": "code",
   "execution_count": 249,
   "metadata": {},
   "outputs": [
    {
     "data": {
      "text/html": [
       "<div>\n",
       "<style scoped>\n",
       "    .dataframe tbody tr th:only-of-type {\n",
       "        vertical-align: middle;\n",
       "    }\n",
       "\n",
       "    .dataframe tbody tr th {\n",
       "        vertical-align: top;\n",
       "    }\n",
       "\n",
       "    .dataframe thead th {\n",
       "        text-align: right;\n",
       "    }\n",
       "</style>\n",
       "<table border=\"1\" class=\"dataframe\">\n",
       "  <thead>\n",
       "    <tr style=\"text-align: right;\">\n",
       "      <th></th>\n",
       "      <th>asin</th>\n",
       "      <th>overall</th>\n",
       "      <th>summary</th>\n",
       "      <th>reviewText</th>\n",
       "      <th>category</th>\n",
       "      <th>description</th>\n",
       "      <th>sentiment</th>\n",
       "      <th>reviewText_tmp</th>\n",
       "    </tr>\n",
       "  </thead>\n",
       "  <tbody>\n",
       "    <tr>\n",
       "      <th>0</th>\n",
       "      <td>B00005N7P0</td>\n",
       "      <td>4.0</td>\n",
       "      <td>Cheapskates guide</td>\n",
       "      <td>I'm old, and so is my computer.  Any advice th...</td>\n",
       "      <td>['Magazine Subscriptions', 'Technology', 'Comp...</td>\n",
       "      <td>MAXIMUM PC is the ultimate upgrade for the sav...</td>\n",
       "      <td>[{'label': 'positive', 'score': 0.922463059425...</td>\n",
       "      <td>I'm old, and so is my computer. Any advice tha...</td>\n",
       "    </tr>\n",
       "    <tr>\n",
       "      <th>1</th>\n",
       "      <td>B00005N7P0</td>\n",
       "      <td>4.0</td>\n",
       "      <td>Cheapskates guide</td>\n",
       "      <td>I'm old, and so is my computer.  Any advice th...</td>\n",
       "      <td>['Magazine Subscriptions', 'Technology', 'Comp...</td>\n",
       "      <td>MAXIMUM PC is the ultimate upgrade for the sav...</td>\n",
       "      <td>[{'label': 'positive', 'score': 0.922463059425...</td>\n",
       "      <td>I'm old, and so is my computer. Any advice tha...</td>\n",
       "    </tr>\n",
       "    <tr>\n",
       "      <th>2</th>\n",
       "      <td>B00005N7P0</td>\n",
       "      <td>5.0</td>\n",
       "      <td>Excellent Computer Magazine</td>\n",
       "      <td>When PC Magazine ceased publication of their p...</td>\n",
       "      <td>['Magazine Subscriptions', 'Technology', 'Comp...</td>\n",
       "      <td>MAXIMUM PC is the ultimate upgrade for the sav...</td>\n",
       "      <td>[{'label': 'positive', 'score': 0.596512436866...</td>\n",
       "      <td>When PC Magazine ceased publication of their p...</td>\n",
       "    </tr>\n",
       "    <tr>\n",
       "      <th>3</th>\n",
       "      <td>B00005N7P0</td>\n",
       "      <td>5.0</td>\n",
       "      <td>Excellent Computer Magazine</td>\n",
       "      <td>When PC Magazine ceased publication of their p...</td>\n",
       "      <td>['Magazine Subscriptions', 'Technology', 'Comp...</td>\n",
       "      <td>MAXIMUM PC is the ultimate upgrade for the sav...</td>\n",
       "      <td>[{'label': 'positive', 'score': 0.596512436866...</td>\n",
       "      <td>When PC Magazine ceased publication of their p...</td>\n",
       "    </tr>\n",
       "    <tr>\n",
       "      <th>4</th>\n",
       "      <td>B00005N7P0</td>\n",
       "      <td>5.0</td>\n",
       "      <td>Best PC Magazine</td>\n",
       "      <td>In my mind BEST PC Magazine for upgrades / har...</td>\n",
       "      <td>['Magazine Subscriptions', 'Technology', 'Comp...</td>\n",
       "      <td>MAXIMUM PC is the ultimate upgrade for the sav...</td>\n",
       "      <td>[{'label': 'positive', 'score': 0.792497694492...</td>\n",
       "      <td>In my mind BEST PC Magazine for upgrades / har...</td>\n",
       "    </tr>\n",
       "    <tr>\n",
       "      <th>...</th>\n",
       "      <td>...</td>\n",
       "      <td>...</td>\n",
       "      <td>...</td>\n",
       "      <td>...</td>\n",
       "      <td>...</td>\n",
       "      <td>...</td>\n",
       "      <td>...</td>\n",
       "      <td>...</td>\n",
       "    </tr>\n",
       "    <tr>\n",
       "      <th>893</th>\n",
       "      <td>B01CF3ECNK</td>\n",
       "      <td>3.0</td>\n",
       "      <td>I hate to admit it, but...</td>\n",
       "      <td>Against my better judgment, I picked up an iss...</td>\n",
       "      <td>['Magazine Subscriptions', 'Cooking, Food &amp; Wi...</td>\n",
       "      <td>Rachael Ray Every Day is a food and cooking ma...</td>\n",
       "      <td>[{'label': 'negative', 'score': 0.576227664947...</td>\n",
       "      <td>Against my better judgment, I picked up an iss...</td>\n",
       "    </tr>\n",
       "    <tr>\n",
       "      <th>894</th>\n",
       "      <td>B01CF3ECNK</td>\n",
       "      <td>3.0</td>\n",
       "      <td>Everyday.....</td>\n",
       "      <td>A fun magazine to read through but for me, the...</td>\n",
       "      <td>['Magazine Subscriptions', 'Cooking, Food &amp; Wi...</td>\n",
       "      <td>Rachael Ray Every Day is a food and cooking ma...</td>\n",
       "      <td>[{'label': 'neutral', 'score': 0.4259364902973...</td>\n",
       "      <td>A fun magazine to read through but for me, the...</td>\n",
       "    </tr>\n",
       "    <tr>\n",
       "      <th>895</th>\n",
       "      <td>B01CF3ECNK</td>\n",
       "      <td>5.0</td>\n",
       "      <td>Really well put together</td>\n",
       "      <td>I first saw this magazine at my dentist's offi...</td>\n",
       "      <td>['Magazine Subscriptions', 'Cooking, Food &amp; Wi...</td>\n",
       "      <td>Rachael Ray Every Day is a food and cooking ma...</td>\n",
       "      <td>[{'label': 'positive', 'score': 0.698858737945...</td>\n",
       "      <td>I first saw this magazine at my dentist's offi...</td>\n",
       "    </tr>\n",
       "    <tr>\n",
       "      <th>896</th>\n",
       "      <td>B01CF3ECNK</td>\n",
       "      <td>5.0</td>\n",
       "      <td>Love this magazine</td>\n",
       "      <td>This magazine is fun and upbeat. The pictures ...</td>\n",
       "      <td>['Magazine Subscriptions', 'Cooking, Food &amp; Wi...</td>\n",
       "      <td>Rachael Ray Every Day is a food and cooking ma...</td>\n",
       "      <td>[{'label': 'positive', 'score': 0.736666321754...</td>\n",
       "      <td>This magazine is fun and upbeat. The pictures ...</td>\n",
       "    </tr>\n",
       "    <tr>\n",
       "      <th>897</th>\n",
       "      <td>B01CF3ECNK</td>\n",
       "      <td>5.0</td>\n",
       "      <td>Artistic Design with Unique Features</td>\n",
       "      <td>Spa Parties and T-shirts that say \"Delish\" are...</td>\n",
       "      <td>['Magazine Subscriptions', 'Cooking, Food &amp; Wi...</td>\n",
       "      <td>Rachael Ray Every Day is a food and cooking ma...</td>\n",
       "      <td>{'error': 'Input is too long, try to truncate ...</td>\n",
       "      <td>Spa Parties and T-shirts that say \"Delish\" are...</td>\n",
       "    </tr>\n",
       "  </tbody>\n",
       "</table>\n",
       "<p>898 rows × 8 columns</p>\n",
       "</div>"
      ],
      "text/plain": [
       "           asin  overall                               summary  \\\n",
       "0    B00005N7P0      4.0                     Cheapskates guide   \n",
       "1    B00005N7P0      4.0                     Cheapskates guide   \n",
       "2    B00005N7P0      5.0           Excellent Computer Magazine   \n",
       "3    B00005N7P0      5.0           Excellent Computer Magazine   \n",
       "4    B00005N7P0      5.0                      Best PC Magazine   \n",
       "..          ...      ...                                   ...   \n",
       "893  B01CF3ECNK      3.0            I hate to admit it, but...   \n",
       "894  B01CF3ECNK      3.0                         Everyday.....   \n",
       "895  B01CF3ECNK      5.0              Really well put together   \n",
       "896  B01CF3ECNK      5.0                    Love this magazine   \n",
       "897  B01CF3ECNK      5.0  Artistic Design with Unique Features   \n",
       "\n",
       "                                            reviewText  \\\n",
       "0    I'm old, and so is my computer.  Any advice th...   \n",
       "1    I'm old, and so is my computer.  Any advice th...   \n",
       "2    When PC Magazine ceased publication of their p...   \n",
       "3    When PC Magazine ceased publication of their p...   \n",
       "4    In my mind BEST PC Magazine for upgrades / har...   \n",
       "..                                                 ...   \n",
       "893  Against my better judgment, I picked up an iss...   \n",
       "894  A fun magazine to read through but for me, the...   \n",
       "895  I first saw this magazine at my dentist's offi...   \n",
       "896  This magazine is fun and upbeat. The pictures ...   \n",
       "897  Spa Parties and T-shirts that say \"Delish\" are...   \n",
       "\n",
       "                                              category  \\\n",
       "0    ['Magazine Subscriptions', 'Technology', 'Comp...   \n",
       "1    ['Magazine Subscriptions', 'Technology', 'Comp...   \n",
       "2    ['Magazine Subscriptions', 'Technology', 'Comp...   \n",
       "3    ['Magazine Subscriptions', 'Technology', 'Comp...   \n",
       "4    ['Magazine Subscriptions', 'Technology', 'Comp...   \n",
       "..                                                 ...   \n",
       "893  ['Magazine Subscriptions', 'Cooking, Food & Wi...   \n",
       "894  ['Magazine Subscriptions', 'Cooking, Food & Wi...   \n",
       "895  ['Magazine Subscriptions', 'Cooking, Food & Wi...   \n",
       "896  ['Magazine Subscriptions', 'Cooking, Food & Wi...   \n",
       "897  ['Magazine Subscriptions', 'Cooking, Food & Wi...   \n",
       "\n",
       "                                           description  \\\n",
       "0    MAXIMUM PC is the ultimate upgrade for the sav...   \n",
       "1    MAXIMUM PC is the ultimate upgrade for the sav...   \n",
       "2    MAXIMUM PC is the ultimate upgrade for the sav...   \n",
       "3    MAXIMUM PC is the ultimate upgrade for the sav...   \n",
       "4    MAXIMUM PC is the ultimate upgrade for the sav...   \n",
       "..                                                 ...   \n",
       "893  Rachael Ray Every Day is a food and cooking ma...   \n",
       "894  Rachael Ray Every Day is a food and cooking ma...   \n",
       "895  Rachael Ray Every Day is a food and cooking ma...   \n",
       "896  Rachael Ray Every Day is a food and cooking ma...   \n",
       "897  Rachael Ray Every Day is a food and cooking ma...   \n",
       "\n",
       "                                             sentiment  \\\n",
       "0    [{'label': 'positive', 'score': 0.922463059425...   \n",
       "1    [{'label': 'positive', 'score': 0.922463059425...   \n",
       "2    [{'label': 'positive', 'score': 0.596512436866...   \n",
       "3    [{'label': 'positive', 'score': 0.596512436866...   \n",
       "4    [{'label': 'positive', 'score': 0.792497694492...   \n",
       "..                                                 ...   \n",
       "893  [{'label': 'negative', 'score': 0.576227664947...   \n",
       "894  [{'label': 'neutral', 'score': 0.4259364902973...   \n",
       "895  [{'label': 'positive', 'score': 0.698858737945...   \n",
       "896  [{'label': 'positive', 'score': 0.736666321754...   \n",
       "897  {'error': 'Input is too long, try to truncate ...   \n",
       "\n",
       "                                        reviewText_tmp  \n",
       "0    I'm old, and so is my computer. Any advice tha...  \n",
       "1    I'm old, and so is my computer. Any advice tha...  \n",
       "2    When PC Magazine ceased publication of their p...  \n",
       "3    When PC Magazine ceased publication of their p...  \n",
       "4    In my mind BEST PC Magazine for upgrades / har...  \n",
       "..                                                 ...  \n",
       "893  Against my better judgment, I picked up an iss...  \n",
       "894  A fun magazine to read through but for me, the...  \n",
       "895  I first saw this magazine at my dentist's offi...  \n",
       "896  This magazine is fun and upbeat. The pictures ...  \n",
       "897  Spa Parties and T-shirts that say \"Delish\" are...  \n",
       "\n",
       "[898 rows x 8 columns]"
      ]
     },
     "execution_count": 249,
     "metadata": {},
     "output_type": "execute_result"
    }
   ],
   "source": [
    "df[\"reviewText_tmp\"] = df.reviewText.map(lambda v: ' ' .join(v.split()[:400]))\n",
    "df"
   ]
  },
  {
   "cell_type": "code",
   "execution_count": 251,
   "metadata": {},
   "outputs": [
    {
     "data": {
      "text/html": [
       "<div>\n",
       "<style scoped>\n",
       "    .dataframe tbody tr th:only-of-type {\n",
       "        vertical-align: middle;\n",
       "    }\n",
       "\n",
       "    .dataframe tbody tr th {\n",
       "        vertical-align: top;\n",
       "    }\n",
       "\n",
       "    .dataframe thead th {\n",
       "        text-align: right;\n",
       "    }\n",
       "</style>\n",
       "<table border=\"1\" class=\"dataframe\">\n",
       "  <thead>\n",
       "    <tr style=\"text-align: right;\">\n",
       "      <th></th>\n",
       "      <th>asin</th>\n",
       "      <th>overall</th>\n",
       "      <th>summary</th>\n",
       "      <th>reviewText</th>\n",
       "      <th>category</th>\n",
       "      <th>description</th>\n",
       "      <th>sentiment</th>\n",
       "      <th>reviewText_tmp</th>\n",
       "      <th>reviewText_tmp_len</th>\n",
       "    </tr>\n",
       "  </thead>\n",
       "  <tbody>\n",
       "    <tr>\n",
       "      <th>0</th>\n",
       "      <td>B00005N7P0</td>\n",
       "      <td>4.0</td>\n",
       "      <td>Cheapskates guide</td>\n",
       "      <td>I'm old, and so is my computer.  Any advice th...</td>\n",
       "      <td>['Magazine Subscriptions', 'Technology', 'Comp...</td>\n",
       "      <td>MAXIMUM PC is the ultimate upgrade for the sav...</td>\n",
       "      <td>[{'label': 'positive', 'score': 0.922463059425...</td>\n",
       "      <td>I'm old, and so is my computer. Any advice tha...</td>\n",
       "      <td>32</td>\n",
       "    </tr>\n",
       "    <tr>\n",
       "      <th>1</th>\n",
       "      <td>B00005N7P0</td>\n",
       "      <td>4.0</td>\n",
       "      <td>Cheapskates guide</td>\n",
       "      <td>I'm old, and so is my computer.  Any advice th...</td>\n",
       "      <td>['Magazine Subscriptions', 'Technology', 'Comp...</td>\n",
       "      <td>MAXIMUM PC is the ultimate upgrade for the sav...</td>\n",
       "      <td>[{'label': 'positive', 'score': 0.922463059425...</td>\n",
       "      <td>I'm old, and so is my computer. Any advice tha...</td>\n",
       "      <td>32</td>\n",
       "    </tr>\n",
       "    <tr>\n",
       "      <th>2</th>\n",
       "      <td>B00005N7P0</td>\n",
       "      <td>5.0</td>\n",
       "      <td>Excellent Computer Magazine</td>\n",
       "      <td>When PC Magazine ceased publication of their p...</td>\n",
       "      <td>['Magazine Subscriptions', 'Technology', 'Comp...</td>\n",
       "      <td>MAXIMUM PC is the ultimate upgrade for the sav...</td>\n",
       "      <td>[{'label': 'positive', 'score': 0.596512436866...</td>\n",
       "      <td>When PC Magazine ceased publication of their p...</td>\n",
       "      <td>136</td>\n",
       "    </tr>\n",
       "    <tr>\n",
       "      <th>3</th>\n",
       "      <td>B00005N7P0</td>\n",
       "      <td>5.0</td>\n",
       "      <td>Excellent Computer Magazine</td>\n",
       "      <td>When PC Magazine ceased publication of their p...</td>\n",
       "      <td>['Magazine Subscriptions', 'Technology', 'Comp...</td>\n",
       "      <td>MAXIMUM PC is the ultimate upgrade for the sav...</td>\n",
       "      <td>[{'label': 'positive', 'score': 0.596512436866...</td>\n",
       "      <td>When PC Magazine ceased publication of their p...</td>\n",
       "      <td>136</td>\n",
       "    </tr>\n",
       "    <tr>\n",
       "      <th>4</th>\n",
       "      <td>B00005N7P0</td>\n",
       "      <td>5.0</td>\n",
       "      <td>Best PC Magazine</td>\n",
       "      <td>In my mind BEST PC Magazine for upgrades / har...</td>\n",
       "      <td>['Magazine Subscriptions', 'Technology', 'Comp...</td>\n",
       "      <td>MAXIMUM PC is the ultimate upgrade for the sav...</td>\n",
       "      <td>[{'label': 'positive', 'score': 0.792497694492...</td>\n",
       "      <td>In my mind BEST PC Magazine for upgrades / har...</td>\n",
       "      <td>17</td>\n",
       "    </tr>\n",
       "    <tr>\n",
       "      <th>...</th>\n",
       "      <td>...</td>\n",
       "      <td>...</td>\n",
       "      <td>...</td>\n",
       "      <td>...</td>\n",
       "      <td>...</td>\n",
       "      <td>...</td>\n",
       "      <td>...</td>\n",
       "      <td>...</td>\n",
       "      <td>...</td>\n",
       "    </tr>\n",
       "    <tr>\n",
       "      <th>893</th>\n",
       "      <td>B01CF3ECNK</td>\n",
       "      <td>3.0</td>\n",
       "      <td>I hate to admit it, but...</td>\n",
       "      <td>Against my better judgment, I picked up an iss...</td>\n",
       "      <td>['Magazine Subscriptions', 'Cooking, Food &amp; Wi...</td>\n",
       "      <td>Rachael Ray Every Day is a food and cooking ma...</td>\n",
       "      <td>[{'label': 'negative', 'score': 0.576227664947...</td>\n",
       "      <td>Against my better judgment, I picked up an iss...</td>\n",
       "      <td>85</td>\n",
       "    </tr>\n",
       "    <tr>\n",
       "      <th>894</th>\n",
       "      <td>B01CF3ECNK</td>\n",
       "      <td>3.0</td>\n",
       "      <td>Everyday.....</td>\n",
       "      <td>A fun magazine to read through but for me, the...</td>\n",
       "      <td>['Magazine Subscriptions', 'Cooking, Food &amp; Wi...</td>\n",
       "      <td>Rachael Ray Every Day is a food and cooking ma...</td>\n",
       "      <td>[{'label': 'neutral', 'score': 0.4259364902973...</td>\n",
       "      <td>A fun magazine to read through but for me, the...</td>\n",
       "      <td>38</td>\n",
       "    </tr>\n",
       "    <tr>\n",
       "      <th>895</th>\n",
       "      <td>B01CF3ECNK</td>\n",
       "      <td>5.0</td>\n",
       "      <td>Really well put together</td>\n",
       "      <td>I first saw this magazine at my dentist's offi...</td>\n",
       "      <td>['Magazine Subscriptions', 'Cooking, Food &amp; Wi...</td>\n",
       "      <td>Rachael Ray Every Day is a food and cooking ma...</td>\n",
       "      <td>[{'label': 'positive', 'score': 0.698858737945...</td>\n",
       "      <td>I first saw this magazine at my dentist's offi...</td>\n",
       "      <td>90</td>\n",
       "    </tr>\n",
       "    <tr>\n",
       "      <th>896</th>\n",
       "      <td>B01CF3ECNK</td>\n",
       "      <td>5.0</td>\n",
       "      <td>Love this magazine</td>\n",
       "      <td>This magazine is fun and upbeat. The pictures ...</td>\n",
       "      <td>['Magazine Subscriptions', 'Cooking, Food &amp; Wi...</td>\n",
       "      <td>Rachael Ray Every Day is a food and cooking ma...</td>\n",
       "      <td>[{'label': 'positive', 'score': 0.736666321754...</td>\n",
       "      <td>This magazine is fun and upbeat. The pictures ...</td>\n",
       "      <td>74</td>\n",
       "    </tr>\n",
       "    <tr>\n",
       "      <th>897</th>\n",
       "      <td>B01CF3ECNK</td>\n",
       "      <td>5.0</td>\n",
       "      <td>Artistic Design with Unique Features</td>\n",
       "      <td>Spa Parties and T-shirts that say \"Delish\" are...</td>\n",
       "      <td>['Magazine Subscriptions', 'Cooking, Food &amp; Wi...</td>\n",
       "      <td>Rachael Ray Every Day is a food and cooking ma...</td>\n",
       "      <td>{'error': 'Input is too long, try to truncate ...</td>\n",
       "      <td>Spa Parties and T-shirts that say \"Delish\" are...</td>\n",
       "      <td>374</td>\n",
       "    </tr>\n",
       "  </tbody>\n",
       "</table>\n",
       "<p>898 rows × 9 columns</p>\n",
       "</div>"
      ],
      "text/plain": [
       "           asin  overall                               summary  \\\n",
       "0    B00005N7P0      4.0                     Cheapskates guide   \n",
       "1    B00005N7P0      4.0                     Cheapskates guide   \n",
       "2    B00005N7P0      5.0           Excellent Computer Magazine   \n",
       "3    B00005N7P0      5.0           Excellent Computer Magazine   \n",
       "4    B00005N7P0      5.0                      Best PC Magazine   \n",
       "..          ...      ...                                   ...   \n",
       "893  B01CF3ECNK      3.0            I hate to admit it, but...   \n",
       "894  B01CF3ECNK      3.0                         Everyday.....   \n",
       "895  B01CF3ECNK      5.0              Really well put together   \n",
       "896  B01CF3ECNK      5.0                    Love this magazine   \n",
       "897  B01CF3ECNK      5.0  Artistic Design with Unique Features   \n",
       "\n",
       "                                            reviewText  \\\n",
       "0    I'm old, and so is my computer.  Any advice th...   \n",
       "1    I'm old, and so is my computer.  Any advice th...   \n",
       "2    When PC Magazine ceased publication of their p...   \n",
       "3    When PC Magazine ceased publication of their p...   \n",
       "4    In my mind BEST PC Magazine for upgrades / har...   \n",
       "..                                                 ...   \n",
       "893  Against my better judgment, I picked up an iss...   \n",
       "894  A fun magazine to read through but for me, the...   \n",
       "895  I first saw this magazine at my dentist's offi...   \n",
       "896  This magazine is fun and upbeat. The pictures ...   \n",
       "897  Spa Parties and T-shirts that say \"Delish\" are...   \n",
       "\n",
       "                                              category  \\\n",
       "0    ['Magazine Subscriptions', 'Technology', 'Comp...   \n",
       "1    ['Magazine Subscriptions', 'Technology', 'Comp...   \n",
       "2    ['Magazine Subscriptions', 'Technology', 'Comp...   \n",
       "3    ['Magazine Subscriptions', 'Technology', 'Comp...   \n",
       "4    ['Magazine Subscriptions', 'Technology', 'Comp...   \n",
       "..                                                 ...   \n",
       "893  ['Magazine Subscriptions', 'Cooking, Food & Wi...   \n",
       "894  ['Magazine Subscriptions', 'Cooking, Food & Wi...   \n",
       "895  ['Magazine Subscriptions', 'Cooking, Food & Wi...   \n",
       "896  ['Magazine Subscriptions', 'Cooking, Food & Wi...   \n",
       "897  ['Magazine Subscriptions', 'Cooking, Food & Wi...   \n",
       "\n",
       "                                           description  \\\n",
       "0    MAXIMUM PC is the ultimate upgrade for the sav...   \n",
       "1    MAXIMUM PC is the ultimate upgrade for the sav...   \n",
       "2    MAXIMUM PC is the ultimate upgrade for the sav...   \n",
       "3    MAXIMUM PC is the ultimate upgrade for the sav...   \n",
       "4    MAXIMUM PC is the ultimate upgrade for the sav...   \n",
       "..                                                 ...   \n",
       "893  Rachael Ray Every Day is a food and cooking ma...   \n",
       "894  Rachael Ray Every Day is a food and cooking ma...   \n",
       "895  Rachael Ray Every Day is a food and cooking ma...   \n",
       "896  Rachael Ray Every Day is a food and cooking ma...   \n",
       "897  Rachael Ray Every Day is a food and cooking ma...   \n",
       "\n",
       "                                             sentiment  \\\n",
       "0    [{'label': 'positive', 'score': 0.922463059425...   \n",
       "1    [{'label': 'positive', 'score': 0.922463059425...   \n",
       "2    [{'label': 'positive', 'score': 0.596512436866...   \n",
       "3    [{'label': 'positive', 'score': 0.596512436866...   \n",
       "4    [{'label': 'positive', 'score': 0.792497694492...   \n",
       "..                                                 ...   \n",
       "893  [{'label': 'negative', 'score': 0.576227664947...   \n",
       "894  [{'label': 'neutral', 'score': 0.4259364902973...   \n",
       "895  [{'label': 'positive', 'score': 0.698858737945...   \n",
       "896  [{'label': 'positive', 'score': 0.736666321754...   \n",
       "897  {'error': 'Input is too long, try to truncate ...   \n",
       "\n",
       "                                        reviewText_tmp  reviewText_tmp_len  \n",
       "0    I'm old, and so is my computer. Any advice tha...                  32  \n",
       "1    I'm old, and so is my computer. Any advice tha...                  32  \n",
       "2    When PC Magazine ceased publication of their p...                 136  \n",
       "3    When PC Magazine ceased publication of their p...                 136  \n",
       "4    In my mind BEST PC Magazine for upgrades / har...                  17  \n",
       "..                                                 ...                 ...  \n",
       "893  Against my better judgment, I picked up an iss...                  85  \n",
       "894  A fun magazine to read through but for me, the...                  38  \n",
       "895  I first saw this magazine at my dentist's offi...                  90  \n",
       "896  This magazine is fun and upbeat. The pictures ...                  74  \n",
       "897  Spa Parties and T-shirts that say \"Delish\" are...                 374  \n",
       "\n",
       "[898 rows x 9 columns]"
      ]
     },
     "execution_count": 251,
     "metadata": {},
     "output_type": "execute_result"
    }
   ],
   "source": [
    "df[\"reviewText_tmp_len\"] = [len(t.split()) for t in df.reviewText_tmp]\n",
    "df"
   ]
  },
  {
   "cell_type": "code",
   "execution_count": 281,
   "metadata": {},
   "outputs": [
    {
     "data": {
      "text/html": [
       "<div>\n",
       "<style scoped>\n",
       "    .dataframe tbody tr th:only-of-type {\n",
       "        vertical-align: middle;\n",
       "    }\n",
       "\n",
       "    .dataframe tbody tr th {\n",
       "        vertical-align: top;\n",
       "    }\n",
       "\n",
       "    .dataframe thead th {\n",
       "        text-align: right;\n",
       "    }\n",
       "</style>\n",
       "<table border=\"1\" class=\"dataframe\">\n",
       "  <thead>\n",
       "    <tr style=\"text-align: right;\">\n",
       "      <th></th>\n",
       "      <th>asin</th>\n",
       "      <th>overall</th>\n",
       "      <th>summary</th>\n",
       "      <th>reviewText</th>\n",
       "      <th>category</th>\n",
       "      <th>description</th>\n",
       "      <th>sentiment</th>\n",
       "      <th>reviewText_tmp</th>\n",
       "      <th>reviewText_tmp_len</th>\n",
       "    </tr>\n",
       "  </thead>\n",
       "  <tbody>\n",
       "    <tr>\n",
       "      <th>464</th>\n",
       "      <td>B00005NIPP</td>\n",
       "      <td>1.0</td>\n",
       "      <td>Don't do it! -- Pick one of these magazines in...</td>\n",
       "      <td>Maxim rode the men's magazine gold rush in the...</td>\n",
       "      <td>['Magazine Subscriptions', 'Fashion &amp; Style', ...</td>\n",
       "      <td>Maxim is the essential guide for today's activ...</td>\n",
       "      <td>[[{'label': 'negative', 'score': 0.62371635437...</td>\n",
       "      <td>Maxim rode the men's magazine gold rush in the...</td>\n",
       "      <td>232</td>\n",
       "    </tr>\n",
       "  </tbody>\n",
       "</table>\n",
       "</div>"
      ],
      "text/plain": [
       "           asin  overall                                            summary  \\\n",
       "464  B00005NIPP      1.0  Don't do it! -- Pick one of these magazines in...   \n",
       "\n",
       "                                            reviewText  \\\n",
       "464  Maxim rode the men's magazine gold rush in the...   \n",
       "\n",
       "                                              category  \\\n",
       "464  ['Magazine Subscriptions', 'Fashion & Style', ...   \n",
       "\n",
       "                                           description  \\\n",
       "464  Maxim is the essential guide for today's activ...   \n",
       "\n",
       "                                             sentiment  \\\n",
       "464  [[{'label': 'negative', 'score': 0.62371635437...   \n",
       "\n",
       "                                        reviewText_tmp  reviewText_tmp_len  \n",
       "464  Maxim rode the men's magazine gold rush in the...                 232  "
      ]
     },
     "execution_count": 281,
     "metadata": {},
     "output_type": "execute_result"
    }
   ],
   "source": [
    "df[(df.sentiment.str.len() < 3)]"
   ]
  },
  {
   "cell_type": "code",
   "execution_count": 280,
   "metadata": {},
   "outputs": [],
   "source": [
    "for index, row in df[[len(v) <3 for v in df.sentiment]].iterrows():\n",
    "    df.at[index, 'sentiment'] = hf_infer(query, row[\"reviewText_tmp\"], max_seq=250)"
   ]
  },
  {
   "cell_type": "code",
   "execution_count": 277,
   "metadata": {},
   "outputs": [
    {
     "name": "stdout",
     "output_type": "stream",
     "text": [
      "(\"Maxim rode the men's magazine gold rush in the late 1990s, leading Stuff, FHM and a host of other PG-13 fare that filled the convenience store racks as \"\n",
      " 'Playboy, Penthouse and the hard cores were either dropped completely or were tucked behind the clerk hidden behind individual black plastic wrappers.\\n'\n",
      " '\\n'\n",
      " \"Maxim is the last Laddie still in print in the U.S., having witnessed the print burials for FHM (1996 to 2007) and Stuff (1998 to 2007). Maxim's \"\n",
      " 'putrefaction is evident to its subscribers, hence the heavily discounted subscriber rates available today. If you were unfortunate enough to receive a gift '\n",
      " \"subscription to Maxim or, worse yet, bought one for yourself, you can no doubt bear witness to the decay. The magazine simply isn't interesting or \"\n",
      " 'compelling to read. You could find more of everything - women, entertainment, food and fashion - in a 10-minute Google search.\\n'\n",
      " '\\n'\n",
      " 'Ask yourself, why are')\n",
      "None\n"
     ]
    }
   ],
   "source": [
    "wrap_print(df.iloc[464].reviewText[:900])"
   ]
  },
  {
   "cell_type": "code",
   "execution_count": 279,
   "metadata": {},
   "outputs": [],
   "source": [
    "df.at[464,\"reviewText_tmp\"] = df.iloc[464].reviewText[:900]"
   ]
  },
  {
   "attachments": {},
   "cell_type": "markdown",
   "metadata": {},
   "source": [
    "### Plot"
   ]
  },
  {
   "cell_type": "code",
   "execution_count": 15,
   "metadata": {},
   "outputs": [
    {
     "name": "stdout",
     "output_type": "stream",
     "text": [
      "(1930, 8)\n",
      "Index(['text', 'source', 'class', 'tokeep', 'instruction', 'mentalrobertaeval',\n",
      "       'mentalrobertaeval_score', 'mentalrobertaeval_label'],\n",
      "      dtype='object')\n"
     ]
    },
    {
     "data": {
      "text/html": [
       "<div>\n",
       "<style scoped>\n",
       "    .dataframe tbody tr th:only-of-type {\n",
       "        vertical-align: middle;\n",
       "    }\n",
       "\n",
       "    .dataframe tbody tr th {\n",
       "        vertical-align: top;\n",
       "    }\n",
       "\n",
       "    .dataframe thead th {\n",
       "        text-align: right;\n",
       "    }\n",
       "</style>\n",
       "<table border=\"1\" class=\"dataframe\">\n",
       "  <thead>\n",
       "    <tr style=\"text-align: right;\">\n",
       "      <th></th>\n",
       "      <th>text</th>\n",
       "      <th>source</th>\n",
       "      <th>class</th>\n",
       "      <th>tokeep</th>\n",
       "      <th>instruction</th>\n",
       "      <th>mentalrobertaeval</th>\n",
       "      <th>mentalrobertaeval_score</th>\n",
       "      <th>mentalrobertaeval_label</th>\n",
       "    </tr>\n",
       "  </thead>\n",
       "  <tbody>\n",
       "    <tr>\n",
       "      <th>0</th>\n",
       "      <td>i have been dealing with these for quite some ...</td>\n",
       "      <td>Quora</td>\n",
       "      <td>panic</td>\n",
       "      <td>1</td>\n",
       "      <td>Post: i have been dealing with these for quite...</td>\n",
       "      <td>{}</td>\n",
       "      <td>NaN</td>\n",
       "      <td>NaN</td>\n",
       "    </tr>\n",
       "    <tr>\n",
       "      <th>1</th>\n",
       "      <td>i was walking to school, but was running late ...</td>\n",
       "      <td>Quora</td>\n",
       "      <td>panic</td>\n",
       "      <td>1</td>\n",
       "      <td>Post: i was walking to school, but was running...</td>\n",
       "      <td>{}</td>\n",
       "      <td>NaN</td>\n",
       "      <td>NaN</td>\n",
       "    </tr>\n",
       "    <tr>\n",
       "      <th>2</th>\n",
       "      <td>for me, panic attacks come two ways: randomly ...</td>\n",
       "      <td>Quora</td>\n",
       "      <td>panic</td>\n",
       "      <td>1</td>\n",
       "      <td>Post: for me, panic attacks come two ways: ran...</td>\n",
       "      <td>{}</td>\n",
       "      <td>NaN</td>\n",
       "      <td>NaN</td>\n",
       "    </tr>\n",
       "    <tr>\n",
       "      <th>3</th>\n",
       "      <td>i’m driving home, riding a tingly high from sa...</td>\n",
       "      <td>Quora</td>\n",
       "      <td>panic</td>\n",
       "      <td>1</td>\n",
       "      <td>Post: i’m driving home, riding a tingly high f...</td>\n",
       "      <td>{}</td>\n",
       "      <td>NaN</td>\n",
       "      <td>NaN</td>\n",
       "    </tr>\n",
       "    <tr>\n",
       "      <th>4</th>\n",
       "      <td>it feels like your body turns into a black hol...</td>\n",
       "      <td>Quora</td>\n",
       "      <td>panic</td>\n",
       "      <td>1</td>\n",
       "      <td>Post: it feels like your body turns into a bla...</td>\n",
       "      <td>{}</td>\n",
       "      <td>NaN</td>\n",
       "      <td>NaN</td>\n",
       "    </tr>\n",
       "  </tbody>\n",
       "</table>\n",
       "</div>"
      ],
      "text/plain": [
       "                                                text source  class  tokeep  \\\n",
       "0  i have been dealing with these for quite some ...  Quora  panic       1   \n",
       "1  i was walking to school, but was running late ...  Quora  panic       1   \n",
       "2  for me, panic attacks come two ways: randomly ...  Quora  panic       1   \n",
       "3  i’m driving home, riding a tingly high from sa...  Quora  panic       1   \n",
       "4  it feels like your body turns into a black hol...  Quora  panic       1   \n",
       "\n",
       "                                         instruction mentalrobertaeval  \\\n",
       "0  Post: i have been dealing with these for quite...                {}   \n",
       "1  Post: i was walking to school, but was running...                {}   \n",
       "2  Post: for me, panic attacks come two ways: ran...                {}   \n",
       "3  Post: i’m driving home, riding a tingly high f...                {}   \n",
       "4  Post: it feels like your body turns into a bla...                {}   \n",
       "\n",
       "   mentalrobertaeval_score mentalrobertaeval_label  \n",
       "0                      NaN                     NaN  \n",
       "1                      NaN                     NaN  \n",
       "2                      NaN                     NaN  \n",
       "3                      NaN                     NaN  \n",
       "4                      NaN                     NaN  "
      ]
     },
     "metadata": {},
     "output_type": "display_data"
    }
   ],
   "source": [
    "\n",
    "dftmp = load_df(\"../out/hfinf_mentalroberta_experiencing.tsv\")"
   ]
  },
  {
   "cell_type": "code",
   "execution_count": 16,
   "metadata": {},
   "outputs": [
    {
     "data": {
      "text/html": [
       "<div>\n",
       "<style scoped>\n",
       "    .dataframe tbody tr th:only-of-type {\n",
       "        vertical-align: middle;\n",
       "    }\n",
       "\n",
       "    .dataframe tbody tr th {\n",
       "        vertical-align: top;\n",
       "    }\n",
       "\n",
       "    .dataframe thead th {\n",
       "        text-align: right;\n",
       "    }\n",
       "</style>\n",
       "<table border=\"1\" class=\"dataframe\">\n",
       "  <thead>\n",
       "    <tr style=\"text-align: right;\">\n",
       "      <th></th>\n",
       "      <th>text</th>\n",
       "      <th>source</th>\n",
       "      <th>class</th>\n",
       "      <th>tokeep</th>\n",
       "      <th>instruction</th>\n",
       "      <th>mentalrobertaeval</th>\n",
       "      <th>mentalrobertaeval_score</th>\n",
       "      <th>mentalrobertaeval_label</th>\n",
       "    </tr>\n",
       "  </thead>\n",
       "  <tbody>\n",
       "    <tr>\n",
       "      <th>27</th>\n",
       "      <td>i haven't read all of the answers but most are...</td>\n",
       "      <td>Quora</td>\n",
       "      <td>panic</td>\n",
       "      <td>1</td>\n",
       "      <td>Post: i haven't read all of the answers but mo...</td>\n",
       "      <td>{'score': 0.5356575846672058, 'token': 6882, '...</td>\n",
       "      <td>0.535658</td>\n",
       "      <td>anxiety</td>\n",
       "    </tr>\n",
       "    <tr>\n",
       "      <th>28</th>\n",
       "      <td>i just experienced my third panic attack which...</td>\n",
       "      <td>Quora</td>\n",
       "      <td>panic</td>\n",
       "      <td>1</td>\n",
       "      <td>Post: i just experienced my third panic attack...</td>\n",
       "      <td>{'score': 0.8256316781044006, 'token': 6882, '...</td>\n",
       "      <td>0.825632</td>\n",
       "      <td>anxiety</td>\n",
       "    </tr>\n",
       "    <tr>\n",
       "      <th>29</th>\n",
       "      <td>i've had a number of them over the years. eith...</td>\n",
       "      <td>Quora</td>\n",
       "      <td>panic</td>\n",
       "      <td>1</td>\n",
       "      <td>Post: i've had a number of them over the years...</td>\n",
       "      <td>{'score': 0.3047427833080292, 'token': 6882, '...</td>\n",
       "      <td>0.304743</td>\n",
       "      <td>anxiety</td>\n",
       "    </tr>\n",
       "    <tr>\n",
       "      <th>30</th>\n",
       "      <td>this is my personal experience with panic atta...</td>\n",
       "      <td>Quora</td>\n",
       "      <td>panic</td>\n",
       "      <td>1</td>\n",
       "      <td>Post: this is my personal experience with pani...</td>\n",
       "      <td>{'score': 0.7653297781944275, 'token': 6882, '...</td>\n",
       "      <td>0.765330</td>\n",
       "      <td>anxiety</td>\n",
       "    </tr>\n",
       "    <tr>\n",
       "      <th>31</th>\n",
       "      <td>a trip to the er i learned conscious calming a...</td>\n",
       "      <td>Quora</td>\n",
       "      <td>panic</td>\n",
       "      <td>1</td>\n",
       "      <td>Post: a trip to the er i learned conscious cal...</td>\n",
       "      <td>{'score': 0.2477901130914688, 'token': 6882, '...</td>\n",
       "      <td>0.247790</td>\n",
       "      <td>anxiety</td>\n",
       "    </tr>\n",
       "    <tr>\n",
       "      <th>...</th>\n",
       "      <td>...</td>\n",
       "      <td>...</td>\n",
       "      <td>...</td>\n",
       "      <td>...</td>\n",
       "      <td>...</td>\n",
       "      <td>...</td>\n",
       "      <td>...</td>\n",
       "      <td>...</td>\n",
       "    </tr>\n",
       "    <tr>\n",
       "      <th>1925</th>\n",
       "      <td>i decided not to take the prescription medicat...</td>\n",
       "      <td>Reddit</td>\n",
       "      <td>anxiety</td>\n",
       "      <td>1</td>\n",
       "      <td>Post: i decided not to take the prescription m...</td>\n",
       "      <td>{'score': 0.3258158266544342, 'token': 6943, '...</td>\n",
       "      <td>0.325816</td>\n",
       "      <td>depression</td>\n",
       "    </tr>\n",
       "    <tr>\n",
       "      <th>1926</th>\n",
       "      <td>speaking to your doctor will help but the most...</td>\n",
       "      <td>Reddit</td>\n",
       "      <td>anxiety</td>\n",
       "      <td>1</td>\n",
       "      <td>Post: speaking to your doctor will help but th...</td>\n",
       "      <td>{'score': 0.3044068217277527, 'token': 6882, '...</td>\n",
       "      <td>0.304407</td>\n",
       "      <td>anxiety</td>\n",
       "    </tr>\n",
       "    <tr>\n",
       "      <th>1927</th>\n",
       "      <td>lorazepam. i only take it as needed (sparingly...</td>\n",
       "      <td>Reddit</td>\n",
       "      <td>anxiety</td>\n",
       "      <td>1</td>\n",
       "      <td>Post: lorazepam. i only take it as needed (spa...</td>\n",
       "      <td>{'score': 0.2606504261493683, 'token': 6882, '...</td>\n",
       "      <td>0.260650</td>\n",
       "      <td>anxiety</td>\n",
       "    </tr>\n",
       "    <tr>\n",
       "      <th>1928</th>\n",
       "      <td>hi there. block your social media for a days a...</td>\n",
       "      <td>Reddit</td>\n",
       "      <td>anxiety</td>\n",
       "      <td>1</td>\n",
       "      <td>Post: hi there. block your social media for a ...</td>\n",
       "      <td>{'score': 0.8879285454750061, 'token': 6882, '...</td>\n",
       "      <td>0.887929</td>\n",
       "      <td>anxiety</td>\n",
       "    </tr>\n",
       "    <tr>\n",
       "      <th>1929</th>\n",
       "      <td>i don't believe medication fixes the core prob...</td>\n",
       "      <td>Reddit</td>\n",
       "      <td>anxiety</td>\n",
       "      <td>1</td>\n",
       "      <td>Post: i don't believe medication fixes the cor...</td>\n",
       "      <td>{'score': 0.4191024601459503, 'token': 6943, '...</td>\n",
       "      <td>0.419102</td>\n",
       "      <td>depression</td>\n",
       "    </tr>\n",
       "  </tbody>\n",
       "</table>\n",
       "<p>1873 rows × 8 columns</p>\n",
       "</div>"
      ],
      "text/plain": [
       "                                                   text  source    class  \\\n",
       "27    i haven't read all of the answers but most are...   Quora    panic   \n",
       "28    i just experienced my third panic attack which...   Quora    panic   \n",
       "29    i've had a number of them over the years. eith...   Quora    panic   \n",
       "30    this is my personal experience with panic atta...   Quora    panic   \n",
       "31    a trip to the er i learned conscious calming a...   Quora    panic   \n",
       "...                                                 ...     ...      ...   \n",
       "1925  i decided not to take the prescription medicat...  Reddit  anxiety   \n",
       "1926  speaking to your doctor will help but the most...  Reddit  anxiety   \n",
       "1927  lorazepam. i only take it as needed (sparingly...  Reddit  anxiety   \n",
       "1928  hi there. block your social media for a days a...  Reddit  anxiety   \n",
       "1929  i don't believe medication fixes the core prob...  Reddit  anxiety   \n",
       "\n",
       "      tokeep                                        instruction  \\\n",
       "27         1  Post: i haven't read all of the answers but mo...   \n",
       "28         1  Post: i just experienced my third panic attack...   \n",
       "29         1  Post: i've had a number of them over the years...   \n",
       "30         1  Post: this is my personal experience with pani...   \n",
       "31         1  Post: a trip to the er i learned conscious cal...   \n",
       "...      ...                                                ...   \n",
       "1925       1  Post: i decided not to take the prescription m...   \n",
       "1926       1  Post: speaking to your doctor will help but th...   \n",
       "1927       1  Post: lorazepam. i only take it as needed (spa...   \n",
       "1928       1  Post: hi there. block your social media for a ...   \n",
       "1929       1  Post: i don't believe medication fixes the cor...   \n",
       "\n",
       "                                      mentalrobertaeval  \\\n",
       "27    {'score': 0.5356575846672058, 'token': 6882, '...   \n",
       "28    {'score': 0.8256316781044006, 'token': 6882, '...   \n",
       "29    {'score': 0.3047427833080292, 'token': 6882, '...   \n",
       "30    {'score': 0.7653297781944275, 'token': 6882, '...   \n",
       "31    {'score': 0.2477901130914688, 'token': 6882, '...   \n",
       "...                                                 ...   \n",
       "1925  {'score': 0.3258158266544342, 'token': 6943, '...   \n",
       "1926  {'score': 0.3044068217277527, 'token': 6882, '...   \n",
       "1927  {'score': 0.2606504261493683, 'token': 6882, '...   \n",
       "1928  {'score': 0.8879285454750061, 'token': 6882, '...   \n",
       "1929  {'score': 0.4191024601459503, 'token': 6943, '...   \n",
       "\n",
       "      mentalrobertaeval_score mentalrobertaeval_label  \n",
       "27                   0.535658                 anxiety  \n",
       "28                   0.825632                 anxiety  \n",
       "29                   0.304743                 anxiety  \n",
       "30                   0.765330                 anxiety  \n",
       "31                   0.247790                 anxiety  \n",
       "...                       ...                     ...  \n",
       "1925                 0.325816              depression  \n",
       "1926                 0.304407                 anxiety  \n",
       "1927                 0.260650                 anxiety  \n",
       "1928                 0.887929                 anxiety  \n",
       "1929                 0.419102              depression  \n",
       "\n",
       "[1873 rows x 8 columns]"
      ]
     },
     "execution_count": 16,
     "metadata": {},
     "output_type": "execute_result"
    }
   ],
   "source": [
    "\n",
    "dftmp = dftmp.dropna()\n",
    "dftmp"
   ]
  },
  {
   "cell_type": "code",
   "execution_count": 18,
   "metadata": {},
   "outputs": [
    {
     "data": {
      "text/html": [
       "<div>\n",
       "<style scoped>\n",
       "    .dataframe tbody tr th:only-of-type {\n",
       "        vertical-align: middle;\n",
       "    }\n",
       "\n",
       "    .dataframe tbody tr th {\n",
       "        vertical-align: top;\n",
       "    }\n",
       "\n",
       "    .dataframe thead th {\n",
       "        text-align: right;\n",
       "    }\n",
       "</style>\n",
       "<table border=\"1\" class=\"dataframe\">\n",
       "  <thead>\n",
       "    <tr style=\"text-align: right;\">\n",
       "      <th></th>\n",
       "      <th>index</th>\n",
       "      <th>mentalrobertaeval_label</th>\n",
       "    </tr>\n",
       "  </thead>\n",
       "  <tbody>\n",
       "    <tr>\n",
       "      <th>0</th>\n",
       "      <td>anxiety</td>\n",
       "      <td>1630</td>\n",
       "    </tr>\n",
       "    <tr>\n",
       "      <th>1</th>\n",
       "      <td>depression</td>\n",
       "      <td>102</td>\n",
       "    </tr>\n",
       "    <tr>\n",
       "      <th>2</th>\n",
       "      <td>panic</td>\n",
       "      <td>20</td>\n",
       "    </tr>\n",
       "    <tr>\n",
       "      <th>3</th>\n",
       "      <td>fear</td>\n",
       "      <td>19</td>\n",
       "    </tr>\n",
       "    <tr>\n",
       "      <th>4</th>\n",
       "      <td>stress</td>\n",
       "      <td>16</td>\n",
       "    </tr>\n",
       "    <tr>\n",
       "      <th>...</th>\n",
       "      <td>...</td>\n",
       "      <td>...</td>\n",
       "    </tr>\n",
       "    <tr>\n",
       "      <th>49</th>\n",
       "      <td>drowning</td>\n",
       "      <td>1</td>\n",
       "    </tr>\n",
       "    <tr>\n",
       "      <th>50</th>\n",
       "      <td>happiness</td>\n",
       "      <td>1</td>\n",
       "    </tr>\n",
       "    <tr>\n",
       "      <th>51</th>\n",
       "      <td>love</td>\n",
       "      <td>1</td>\n",
       "    </tr>\n",
       "    <tr>\n",
       "      <th>52</th>\n",
       "      <td>abandonment</td>\n",
       "      <td>1</td>\n",
       "    </tr>\n",
       "    <tr>\n",
       "      <th>53</th>\n",
       "      <td>allergies</td>\n",
       "      <td>1</td>\n",
       "    </tr>\n",
       "  </tbody>\n",
       "</table>\n",
       "<p>54 rows × 2 columns</p>\n",
       "</div>"
      ],
      "text/plain": [
       "           index  mentalrobertaeval_label\n",
       "0        anxiety                     1630\n",
       "1     depression                      102\n",
       "2          panic                       20\n",
       "3           fear                       19\n",
       "4         stress                       16\n",
       "..           ...                      ...\n",
       "49      drowning                        1\n",
       "50     happiness                        1\n",
       "51          love                        1\n",
       "52   abandonment                        1\n",
       "53     allergies                        1\n",
       "\n",
       "[54 rows x 2 columns]"
      ]
     },
     "execution_count": 18,
     "metadata": {},
     "output_type": "execute_result"
    }
   ],
   "source": [
    "dftmp.mentalrobertaeval_label.value_counts().reset_index()"
   ]
  },
  {
   "cell_type": "code",
   "execution_count": 29,
   "metadata": {},
   "outputs": [
    {
     "data": {
      "image/png": "[encoded data removed]",
      "text/plain": [
       "<Figure size 864x576 with 1 Axes>"
      ]
     },
     "metadata": {
      "needs_background": "light"
     },
     "output_type": "display_data"
    }
   ],
   "source": [
    "plt.figure(figsize=(12,8))\n",
    "sns.scatterplot(data=dftmp.mentalrobertaeval_label.value_counts().reset_index(), x=\"index\", y=\"mentalrobertaeval_label\")\n",
    "plt.yscale(\"log\")\n",
    "plt.xticks(rotation=90)\n",
    "plt.show()"
   ]
  },
  {
   "cell_type": "code",
   "execution_count": 33,
   "metadata": {},
   "outputs": [
    {
     "data": {
      "image/png": "[encoded data removed]",
      "text/plain": [
       "<Figure size 1080x648 with 1 Axes>"
      ]
     },
     "metadata": {
      "needs_background": "light"
     },
     "output_type": "display_data"
    }
   ],
   "source": [
    "plt.figure(figsize=(15,9))\n",
    "sns.countplot(data= dftmp[~dftmp.mentalrobertaeval_label.isna()][[\"class\", \"mentalrobertaeval_label\"]], hue=\"class\", x=\"mentalrobertaeval_label\")\n",
    "plt.yscale(\"log\")\n",
    "plt.xticks(rotation=90)\n",
    "plt.xlabel(\"What poster is experiencing\")\n",
    "plt.ylabel(\"Count of posts (log scale)\")\n",
    "plt.show()"
   ]
  }
 ],
 "metadata": {
  "kernelspec": {
   "display_name": "Python 3",
   "language": "python",
   "name": "python3"
  },
  "language_info": {
   "codemirror_mode": {
    "name": "ipython",
    "version": 3
   },
   "file_extension": ".py",
   "mimetype": "text/x-python",
   "name": "python",
   "nbconvert_exporter": "python",
   "pygments_lexer": "ipython3",
   "version": "3.8.12"
  },
  "pycharm": {
   "stem_cell": {
    "cell_type": "raw",
    "metadata": {
     "collapsed": false
    },
    "source": []
   }
  },
  "toc": {
   "base_numbering": 1,
   "nav_menu": {},
   "number_sections": true,
   "sideBar": true,
   "skip_h1_title": false,
   "title_cell": "Table of Contents",
   "title_sidebar": "Contents",
   "toc_cell": false,
   "toc_position": {},
   "toc_section_display": true,
   "toc_window_display": false
  },
  "varInspector": {
   "cols": {
    "lenName": 16,
    "lenType": 16,
    "lenVar": 40
   },
   "kernels_config": {
    "python": {
     "delete_cmd_postfix": "",
     "delete_cmd_prefix": "del ",
     "library": "var_list.py",
     "varRefreshCmd": "print(var_dic_list())"
    },
    "r": {
     "delete_cmd_postfix": ") ",
     "delete_cmd_prefix": "rm(",
     "library": "var_list.r",
     "varRefreshCmd": "cat(var_dic_list()) "
    }
   },
   "types_to_exclude": [
    "module",
    "function",
    "builtin_function_or_method",
    "instance",
    "_Feature"
   ],
   "window_display": false
  }
 },
 "nbformat": 4,
 "nbformat_minor": 2
}
