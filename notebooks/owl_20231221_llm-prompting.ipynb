{
 "cells": [
  {
   "attachments": {},
   "cell_type": "markdown",
   "metadata": {},
   "source": [
    "# [Llm Prompting]\n",
    "\n",
    "Use LLMs to analyze dataset\n",
    "\n",
    "* Run on the \"**resilient3**\" conda env"
   ]
  },
  {
   "attachments": {},
   "cell_type": "markdown",
   "metadata": {},
   "source": [
    "# Setup"
   ]
  },
  {
   "attachments": {},
   "cell_type": "markdown",
   "metadata": {},
   "source": [
    "## Library import\n",
    "We import all the required Python libraries"
   ]
  },
  {
   "cell_type": "code",
   "execution_count": 1,
   "metadata": {},
   "outputs": [],
   "source": [
    "%load_ext autoreload\n",
    "%autoreload 2\n",
    "%matplotlib inline"
   ]
  },
  {
   "cell_type": "code",
   "execution_count": 84,
   "metadata": {
    "ExecuteTime": {
     "end_time": "2019-06-16T14:44:50.874881Z",
     "start_time": "2019-06-16T14:44:38.616867Z"
    }
   },
   "outputs": [],
   "source": [
    "import os,sys\n",
    "import joblib\n",
    "from os import path\n",
    "import textwrap\n",
    "from tqdm import tqdm\n",
    "\n",
    "# Data manipulation\n",
    "import pandas as pd\n",
    "import numpy as np\n",
    "\n",
    "# Options for pandas\n",
    "pd.options.display.max_columns = 50\n",
    "pd.options.display.max_rows = 30\n",
    "\n",
    "\n",
    "# Visualizations\n",
    "import matplotlib.pyplot as plt"
   ]
  },
  {
   "attachments": {},
   "cell_type": "markdown",
   "metadata": {},
   "source": [
    "## Local library import\n",
    "We import all the required local libraries libraries"
   ]
  },
  {
   "cell_type": "code",
   "execution_count": 4,
   "metadata": {
    "ExecuteTime": {
     "end_time": "2019-06-16T14:44:51.041573Z",
     "start_time": "2019-06-16T14:44:50.878543Z"
    }
   },
   "outputs": [],
   "source": [
    "# Include local library paths\n",
    "import sys\n",
    "# add project folders so local libraries can be imported\n",
    "sys.path.insert(1, os.path.join(os.getcwd()  , '..'))\n",
    "sys.path.insert(1, os.path.join(os.getcwd()  , '../src'))"
   ]
  },
  {
   "cell_type": "code",
   "execution_count": 5,
   "metadata": {},
   "outputs": [],
   "source": [
    "# notebook misc functions\n",
    "def pretty_print(df):\n",
    "    return display( HTML( df.to_html().replace(\"\\\\n\",\"<br>\") ) )\n",
    "    # textwrap.wrap()\n",
    "\n",
    "def print_wrap(txt, width=120):\n",
    "    print('\\n'.join(textwrap.wrap(txt, width=width)))\n",
    "\n",
    "def displayAll(df):\n",
    "    with pd.option_context('display.max_rows', None, 'display.max_columns', None, 'display.max_colwidth', None):\t\n",
    "        display(df)  "
   ]
  },
  {
   "cell_type": "code",
   "execution_count": 6,
   "metadata": {},
   "outputs": [],
   "source": [
    "def load_df(fpath, sep='\\t', print_log=True, index_col=0, **kwargs):\n",
    "    if not index_col is None:\n",
    "        df = pd.read_csv(fpath, sep=sep, index_col=[index_col], **kwargs)\n",
    "    else:\n",
    "        df = pd.read_csv(fpath, sep=sep, **kwargs)\n",
    "    if print_log:\n",
    "        print(df.shape)\n",
    "        print(df.columns)\n",
    "        display(df.head())\n",
    "    return df"
   ]
  },
  {
   "attachments": {},
   "cell_type": "markdown",
   "metadata": {},
   "source": [
    "# Parameter definition\n",
    "We set all relevant parameters for our notebook. By convention, parameters are uppercase, while all the \n",
    "other variables follow Python's guidelines."
   ]
  },
  {
   "cell_type": "code",
   "execution_count": 1,
   "metadata": {},
   "outputs": [
    {
     "ename": "NameError",
     "evalue": "name 'os' is not defined",
     "output_type": "error",
     "traceback": [
      "\u001b[0;31m---------------------------------------------------------------------------\u001b[0m",
      "\u001b[0;31mNameError\u001b[0m                                 Traceback (most recent call last)",
      "Cell \u001b[0;32mIn[1], line 2\u001b[0m\n\u001b[1;32m      1\u001b[0m \u001b[38;5;28;01mimport\u001b[39;00m \u001b[38;5;21;01mopenai\u001b[39;00m\n\u001b[0;32m----> 2\u001b[0m os\u001b[38;5;241m.\u001b[39menviron[\u001b[38;5;124m\"\u001b[39m\u001b[38;5;124mOPENAI_API_KEY\u001b[39m\u001b[38;5;124m\"\u001b[39m] \u001b[38;5;241m=\u001b[39m \u001b[43mos\u001b[49m\u001b[38;5;241m.\u001b[39menviron\u001b[38;5;241m.\u001b[39mget(\u001b[38;5;124m\"\u001b[39m\u001b[38;5;124mOPENAI_TOKEN\u001b[39m\u001b[38;5;124m\"\u001b[39m)\n\u001b[1;32m      3\u001b[0m os\u001b[38;5;241m.\u001b[39menviron\u001b[38;5;241m.\u001b[39mget(\u001b[38;5;124m\"\u001b[39m\u001b[38;5;124mOPENAI_API_KEY\u001b[39m\u001b[38;5;124m\"\u001b[39m)\n\u001b[1;32m      4\u001b[0m \u001b[38;5;28mprint\u001b[39m(os\u001b[38;5;241m.\u001b[39menviron\u001b[38;5;241m.\u001b[39mget(\u001b[38;5;124m\"\u001b[39m\u001b[38;5;124mOPENAI_TOKEN\u001b[39m\u001b[38;5;124m\"\u001b[39m))\n",
      "\u001b[0;31mNameError\u001b[0m: name 'os' is not defined"
     ]
    }
   ],
   "source": [
    "import openai\n",
    "os.environ[\"OPENAI_API_KEY\"] = os.environ.get(\"OPENAI_TOKEN\")\n",
    "os.environ.get(\"OPENAI_API_KEY\")\n",
    "print(os.environ.get(\"OPENAI_TOKEN\"))\n",
    "openai.api_key = os.environ.get(\"OPENAI_TOKEN\")"
   ]
  },
  {
   "attachments": {},
   "cell_type": "markdown",
   "metadata": {},
   "source": [
    "\n",
    "# Experiments\n"
   ]
  },
  {
   "cell_type": "code",
   "execution_count": 8,
   "metadata": {},
   "outputs": [
    {
     "name": "stdout",
     "output_type": "stream",
     "text": [
      "(1930, 4)\n",
      "Index(['text', 'source', 'class', 'tokeep'], dtype='object')\n"
     ]
    },
    {
     "data": {
      "text/html": [
       "<div>\n",
       "<style scoped>\n",
       "    .dataframe tbody tr th:only-of-type {\n",
       "        vertical-align: middle;\n",
       "    }\n",
       "\n",
       "    .dataframe tbody tr th {\n",
       "        vertical-align: top;\n",
       "    }\n",
       "\n",
       "    .dataframe thead th {\n",
       "        text-align: right;\n",
       "    }\n",
       "</style>\n",
       "<table border=\"1\" class=\"dataframe\">\n",
       "  <thead>\n",
       "    <tr style=\"text-align: right;\">\n",
       "      <th></th>\n",
       "      <th>text</th>\n",
       "      <th>source</th>\n",
       "      <th>class</th>\n",
       "      <th>tokeep</th>\n",
       "    </tr>\n",
       "  </thead>\n",
       "  <tbody>\n",
       "    <tr>\n",
       "      <th>0</th>\n",
       "      <td>i have been dealing with these for quite some ...</td>\n",
       "      <td>Quora</td>\n",
       "      <td>panic</td>\n",
       "      <td>1</td>\n",
       "    </tr>\n",
       "    <tr>\n",
       "      <th>1</th>\n",
       "      <td>i was walking to school, but was running late ...</td>\n",
       "      <td>Quora</td>\n",
       "      <td>panic</td>\n",
       "      <td>1</td>\n",
       "    </tr>\n",
       "    <tr>\n",
       "      <th>2</th>\n",
       "      <td>for me, panic attacks come two ways: randomly ...</td>\n",
       "      <td>Quora</td>\n",
       "      <td>panic</td>\n",
       "      <td>1</td>\n",
       "    </tr>\n",
       "    <tr>\n",
       "      <th>3</th>\n",
       "      <td>i’m driving home, riding a tingly high from sa...</td>\n",
       "      <td>Quora</td>\n",
       "      <td>panic</td>\n",
       "      <td>1</td>\n",
       "    </tr>\n",
       "    <tr>\n",
       "      <th>4</th>\n",
       "      <td>it feels like your body turns into a black hol...</td>\n",
       "      <td>Quora</td>\n",
       "      <td>panic</td>\n",
       "      <td>1</td>\n",
       "    </tr>\n",
       "  </tbody>\n",
       "</table>\n",
       "</div>"
      ],
      "text/plain": [
       "                                                text source  class  tokeep\n",
       "0  i have been dealing with these for quite some ...  Quora  panic       1\n",
       "1  i was walking to school, but was running late ...  Quora  panic       1\n",
       "2  for me, panic attacks come two ways: randomly ...  Quora  panic       1\n",
       "3  i’m driving home, riding a tingly high from sa...  Quora  panic       1\n",
       "4  it feels like your body turns into a black hol...  Quora  panic       1"
      ]
     },
     "metadata": {},
     "output_type": "display_data"
    }
   ],
   "source": [
    "df = load_df(\"../out/paanx_preprocessed.tsv\")"
   ]
  },
  {
   "cell_type": "code",
   "execution_count": 100,
   "metadata": {},
   "outputs": [
    {
     "data": {
      "text/html": [
       "<div>\n",
       "<style scoped>\n",
       "    .dataframe tbody tr th:only-of-type {\n",
       "        vertical-align: middle;\n",
       "    }\n",
       "\n",
       "    .dataframe tbody tr th {\n",
       "        vertical-align: top;\n",
       "    }\n",
       "\n",
       "    .dataframe thead th {\n",
       "        text-align: right;\n",
       "    }\n",
       "</style>\n",
       "<table border=\"1\" class=\"dataframe\">\n",
       "  <thead>\n",
       "    <tr style=\"text-align: right;\">\n",
       "      <th></th>\n",
       "      <th>text</th>\n",
       "      <th>source</th>\n",
       "      <th>class</th>\n",
       "      <th>tokeep</th>\n",
       "    </tr>\n",
       "  </thead>\n",
       "  <tbody>\n",
       "    <tr>\n",
       "      <th>510</th>\n",
       "      <td>i recommend you talk to a psychiatrist as your anxiety and panic attacks are severely affecting your life. he will probably prescribe klonopin which will be a great help. don't let this disorder ruin your life.</td>\n",
       "      <td>Quora</td>\n",
       "      <td>panic</td>\n",
       "      <td>1</td>\n",
       "    </tr>\n",
       "    <tr>\n",
       "      <th>1269</th>\n",
       "      <td>anxiety is a complex and multifaceted mental health condition that can have many different causes, and often it's difficult to identify a single cause. however, some common factors that can contribute to the development of anxiety include:genetics: research has shown that anxiety can run in families, suggesting that there may be a genetic component to the condition.brain chemistry: imbalances in certain chemicals in the brain, such as serotonin, can contribute to the development of anxiety.trauma: experiencing a traumatic event, such as abuse, violence, or a natural disaster, can lead to the development of anxiety.environmental stressors: chronic stress, financial difficulties, relationship problems, and other stressful life events can trigger or exacerbate anxiety symptoms.personality traits: certain personality traits, such as perfectionism, low self-esteem, and negative thinking patterns, can increase the risk of developing anxiety.medical conditions: certain medical conditions, such as thyroid problems, heart disease, and respiratory disorders, can contribute to the development of anxiety.it's worth noting that anxiety is a complex and individual condition, and what may cause anxiety in one person may not cause anxiety in another. additionally, while identifying the causes of anxiety can be helpful, it's important to remember that anxiety is a treatable condition, and there are a variety of effective treatments available, such as therapy, medication, and lifestyle changes. if you are struggling with anxiety, it's important to reach out to a healthcare professional for help.</td>\n",
       "      <td>Quora</td>\n",
       "      <td>anxiety</td>\n",
       "      <td>1</td>\n",
       "    </tr>\n",
       "    <tr>\n",
       "      <th>1473</th>\n",
       "      <td>dear friend, first of all, i’m really sorry to hear that you're suffering from a mental illness. social anxiety is an extremely common problem and can be incredibly difficult to deal with. i'm sure you've tried many different things without success. i do have some suggestions that may help you. meditate: try sitting meditation, walking meditation, or any other type of meditation you find comfortable. it may help reduce stress, and negative thoughts and improve your overall well-being. talk to someone: it's always helpful to share your feelings with someone who understands and cares about you. they can provide emotional support and advice that may be helpful to you. you can contact heart it out anytime and we are always there to help you. cognitive-behavioral therapy (cbt): this type of therapy can help you change the way you think and feel about social situations. by changing these feelings and thoughts, you can eventually overcome your anxiety symptoms; it involves understanding your brain's relationship with anxiety and how it affects your daily life.</td>\n",
       "      <td>Quora</td>\n",
       "      <td>anxiety</td>\n",
       "      <td>1</td>\n",
       "    </tr>\n",
       "    <tr>\n",
       "      <th>1003</th>\n",
       "      <td>the usual signs that an individual is coming under anxiety attacks, there are several unusual signs also . you should not be mistaken in identifying them and getting quick help for yourself, or someone you know who battles anxiety disorders. so, here are some of them:silence: many could also be surprised on how an individual within the throes of an attack are often silent. but that is actually true. responses to situations vary from one person to another. so does the way a person reacts to anxiety. sudden and grave silence can be a symptom of an anxiety attack.hypersensitivity: an individual facing anxiety attacks are often hypersensitive. it are often to words spoken or to situations happening around them. it also can be to the faintest of noises bringing on utter shock. it also can entail crying call at otherwise not very serious situations.obsessive behavior: while obsessive behavior is the symptom of several mental health issues, it is also a sign of an anxiety attack. obsessing over the location of objects, over washing hands or several other small matters may be a sign that you simply are becoming an attack .second guessing: sometimes, when an individual is facing anxiety attacks, they begin second-guessing their own confidence, beliefs and value systems. they start questioning their moral choices, their existential dilemmas and various other basic fundamental questions that otherwise lie low. they may start doubting their views about the world and people around them.there are other signs too, like pacing up and down, biting nails till they begin bleeding, zoning out of conversations or situations that depict anxiety attacks. you should consult a psychologist through moneralo if you face such symptoms or someone you recognize does.</td>\n",
       "      <td>Quora</td>\n",
       "      <td>anxiety</td>\n",
       "      <td>1</td>\n",
       "    </tr>\n",
       "    <tr>\n",
       "      <th>1898</th>\n",
       "      <td>i'd go to the doctor to be safe then sorry. i have chronic nausea caused by my anxiety and sometimes i get stomach pains with them but if it persists or gets worse or changes in that time i'm heading to a doctor. if nothings wrong then it's anxiety.</td>\n",
       "      <td>Reddit</td>\n",
       "      <td>anxiety</td>\n",
       "      <td>1</td>\n",
       "    </tr>\n",
       "  </tbody>\n",
       "</table>\n",
       "</div>"
      ],
      "text/plain": [
       "                                                                                                                                                                                                                                                                                                                                                                                                                                                                                                                                                                                                                                                                                                                                                                                                                                                                                                                                                                                                                                                                                                                                                                                                                                                                                                                                                                                                                                                                                                                                                                                                                                                                                                                                                                                                                                         text  \\\n",
       "510                                                                                                                                                                                                                                                                                                                                                                                                                                                                                                                                                                                                                                                                                                                                                                                                                                                                                                                                                                                                                                                                                                                                                                                                                                                                                                                                                                                                                                                                                                                                                                                                                        i recommend you talk to a psychiatrist as your anxiety and panic attacks are severely affecting your life. he will probably prescribe klonopin which will be a great help. don't let this disorder ruin your life.   \n",
       "1269                                                                                                                                                                     anxiety is a complex and multifaceted mental health condition that can have many different causes, and often it's difficult to identify a single cause. however, some common factors that can contribute to the development of anxiety include:genetics: research has shown that anxiety can run in families, suggesting that there may be a genetic component to the condition.brain chemistry: imbalances in certain chemicals in the brain, such as serotonin, can contribute to the development of anxiety.trauma: experiencing a traumatic event, such as abuse, violence, or a natural disaster, can lead to the development of anxiety.environmental stressors: chronic stress, financial difficulties, relationship problems, and other stressful life events can trigger or exacerbate anxiety symptoms.personality traits: certain personality traits, such as perfectionism, low self-esteem, and negative thinking patterns, can increase the risk of developing anxiety.medical conditions: certain medical conditions, such as thyroid problems, heart disease, and respiratory disorders, can contribute to the development of anxiety.it's worth noting that anxiety is a complex and individual condition, and what may cause anxiety in one person may not cause anxiety in another. additionally, while identifying the causes of anxiety can be helpful, it's important to remember that anxiety is a treatable condition, and there are a variety of effective treatments available, such as therapy, medication, and lifestyle changes. if you are struggling with anxiety, it's important to reach out to a healthcare professional for help.   \n",
       "1473                                                                                                                                                                                                                                                                                                                                                                                                                                                                                                                                                                                                                                                                                                                            dear friend, first of all, i’m really sorry to hear that you're suffering from a mental illness. social anxiety is an extremely common problem and can be incredibly difficult to deal with. i'm sure you've tried many different things without success. i do have some suggestions that may help you. meditate: try sitting meditation, walking meditation, or any other type of meditation you find comfortable. it may help reduce stress, and negative thoughts and improve your overall well-being. talk to someone: it's always helpful to share your feelings with someone who understands and cares about you. they can provide emotional support and advice that may be helpful to you. you can contact heart it out anytime and we are always there to help you. cognitive-behavioral therapy (cbt): this type of therapy can help you change the way you think and feel about social situations. by changing these feelings and thoughts, you can eventually overcome your anxiety symptoms; it involves understanding your brain's relationship with anxiety and how it affects your daily life.   \n",
       "1003  the usual signs that an individual is coming under anxiety attacks, there are several unusual signs also . you should not be mistaken in identifying them and getting quick help for yourself, or someone you know who battles anxiety disorders. so, here are some of them:silence: many could also be surprised on how an individual within the throes of an attack are often silent. but that is actually true. responses to situations vary from one person to another. so does the way a person reacts to anxiety. sudden and grave silence can be a symptom of an anxiety attack.hypersensitivity: an individual facing anxiety attacks are often hypersensitive. it are often to words spoken or to situations happening around them. it also can be to the faintest of noises bringing on utter shock. it also can entail crying call at otherwise not very serious situations.obsessive behavior: while obsessive behavior is the symptom of several mental health issues, it is also a sign of an anxiety attack. obsessing over the location of objects, over washing hands or several other small matters may be a sign that you simply are becoming an attack .second guessing: sometimes, when an individual is facing anxiety attacks, they begin second-guessing their own confidence, beliefs and value systems. they start questioning their moral choices, their existential dilemmas and various other basic fundamental questions that otherwise lie low. they may start doubting their views about the world and people around them.there are other signs too, like pacing up and down, biting nails till they begin bleeding, zoning out of conversations or situations that depict anxiety attacks. you should consult a psychologist through moneralo if you face such symptoms or someone you recognize does.   \n",
       "1898                                                                                                                                                                                                                                                                                                                                                                                                                                                                                                                                                                                                                                                                                                                                                                                                                                                                                                                                                                                                                                                                                                                                                                                                                                                                                                                                                                                                                                                                                                                                                                                i'd go to the doctor to be safe then sorry. i have chronic nausea caused by my anxiety and sometimes i get stomach pains with them but if it persists or gets worse or changes in that time i'm heading to a doctor. if nothings wrong then it's anxiety.   \n",
       "\n",
       "      source    class  tokeep  \n",
       "510    Quora    panic       1  \n",
       "1269   Quora  anxiety       1  \n",
       "1473   Quora  anxiety       1  \n",
       "1003   Quora  anxiety       1  \n",
       "1898  Reddit  anxiety       1  "
      ]
     },
     "metadata": {},
     "output_type": "display_data"
    }
   ],
   "source": [
    "# displayAll(df[df[\"class\"] == 'anxiety'].sample(5))\n",
    "displayAll(df.sample(5))"
   ]
  },
  {
   "attachments": {},
   "cell_type": "markdown",
   "metadata": {},
   "source": [
    "## Semantic funcs "
   ]
  },
  {
   "cell_type": "code",
   "execution_count": 9,
   "metadata": {},
   "outputs": [],
   "source": [
    "import json\n",
    "from typing import List\n",
    "from pydantic import BaseModel, Field\n",
    "from pydantic.typing import Literal\n",
    "\n",
    "import openai\n",
    "\n",
    "from langchain.memory.chat_memory import ChatMessageHistory as ChatMemory\n",
    "from langchain.memory.chat_memory import ChatMessageHistory\n"
   ]
  },
  {
   "attachments": {},
   "cell_type": "markdown",
   "metadata": {},
   "source": [
    "### Narrative analysis "
   ]
  },
  {
   "cell_type": "code",
   "execution_count": 46,
   "metadata": {},
   "outputs": [],
   "source": [
    "class NarrativeAnalysisResponse(BaseModel):\n",
    "    physical_symptoms: List[str] = Field(..., description=\"Physical symptoms like increased heart rate, sweating, trembling, and dizziness.\")\n",
    "    cognitive_symptoms: List[str] = Field(..., description=\"Experience of negative thoughts, worry, and fear, and their intensity and duration.\")\n",
    "    negative_behavioral_changes: List[str] = Field(..., description=\"Negative changes in behavior, such as avoidance of certain situations or activities.\")\n",
    "    positive_behavioral_changes: List[str] = Field(..., description=\"Strategies or approaches followed to cope with the situation\")\n",
    "    impact_on_daily_life: List[str] = Field(..., description=\"Mentions of significant impact on a person's daily life, relationships, and overall well-being.\")\n",
    "    stressors: List[str] = Field(..., description=\"Mentions of the source of stress or fear.\")"
   ]
  },
  {
   "cell_type": "code",
   "execution_count": 47,
   "metadata": {},
   "outputs": [],
   "source": [
    "def post_analysis_narrative(post:str, chat_history:ChatMessageHistory=None, temperature:float = 0.0, model:str='gpt-3.5-turbo'): # 'gpt-4-1106-preview' | 'gpt-3.5-turbo'\n",
    "    # _prompt = f\"\"\"You are an AI psychology agent expert in anxiety and panic attacks. \n",
    "    # Analyze the provided social media post and extract the requested information based on the following description:\n",
    "    # ---------\n",
    "    # The common ground between panic attacks and anxiety is that both involve the experience of fear and are related to the body's natural response to stress. Additionally, they share some common symptoms, such as:\n",
    "    # - Physical Symptoms: Both panic attacks and anxiety can manifest with physical symptoms like increased heart rate, sweating, trembling, and dizziness.\n",
    "    # - Cognitive Symptoms: Individuals with panic attacks and anxiety may experience negative thoughts, worry, and fear, although the intensity and duration may vary.\n",
    "    # - Behavioral Changes: Both conditions can lead to changes in behavior, such as avoidance of certain situations or activities that trigger anxiety.\n",
    "    # - Impact on Daily Life: Panic attacks and chronic anxiety can significantly impact a person's daily life, relationships, and overall well-being.\n",
    "    # While there are similarities, it's important to note that panic attacks are typically more intense and sudden, whereas anxiety is often characterized by a more prolonged and persistent sense of worry or unease.     \n",
    "    \n",
    "    # -----\n",
    "    # Post: \n",
    "    # {post}\n",
    "\n",
    "    # Base your answers only on the provided post do not make up things.\"\"\"\n",
    "\n",
    "    _prompt = f\"\"\"You are an AI psychology agent expert in anxiety and panic attacks. \n",
    "    Analyze the provided social media post and extract:\n",
    "    - Physical Symptoms: Both panic attacks and anxiety can manifest with physical symptoms like increased heart rate, sweating, trembling, and dizziness.\n",
    "    - Cognitive Symptoms: Individuals with panic attacks and anxiety may experience negative thoughts, worry, and fear, although the intensity and duration may vary.\n",
    "    - Negative Behavioral Changes: changes in behavior, such as avoidance of certain situations or activities that trigger anxiety.\n",
    "    - Positive Behavioral Changes: Strategies or approaches followed to cope with the situation\n",
    "    - Impact on Daily Life: Panic attacks and chronic anxiety can significantly impact a person's daily life, relationships, and overall well-being.\n",
    "\n",
    "    Base your answers only on the provided post do not make up things.\"\"\"    \n",
    "\n",
    "    #Building a burnout risk profile involves identifying various factors that contribute to burnout and assessing their presence or intensity in an individual's life. \n",
    "    # print(f\"do_postmortem_analysis --> {chat_history}\")\n",
    "    analysis_extraction_functions = [\n",
    "        {\n",
    "            'name': 'narrative_analysis',\n",
    "            'description': _prompt,\n",
    "            'parameters': NarrativeAnalysisResponse.schema()\n",
    "        }\n",
    "    ]    \n",
    "\n",
    "    response = openai.ChatCompletion.create(\n",
    "        model = model,\n",
    "        temperature=0.0,\n",
    "        # messages = [], #to_openai_chathistory(chat_history),\n",
    "        messages = [{'role': 'user', 'content': f\"Post: {post}\"}],\n",
    "        functions = analysis_extraction_functions,\n",
    "        function_call = {'name': 'narrative_analysis'} \n",
    "        # function_call = 'auto'\n",
    "    )\n",
    "\n",
    "    json_response = json.loads(response['choices'][0]['message']['function_call']['arguments'])    \n",
    "\n",
    "    return json_response\n"
   ]
  },
  {
   "cell_type": "code",
   "execution_count": 60,
   "metadata": {},
   "outputs": [
    {
     "name": "stdout",
     "output_type": "stream",
     "text": [
      "i was walking to school, but was running late because i had missed my alarm. by the time i made it to the schools corner\n",
      "the bell had already rung and everybody was in class. i started to run because my first period gym teacher always locked\n",
      "the door to the locker room after the bell. unfortunately, i was too late. i turned to head outside to where my gym\n",
      "class would be when two girls who always picked on me started up again. i just couldn’t take the picking at that i\n",
      "endured everyday and had tried to teach myself to tune out. i tried to make a game of it to give me a laugh. how many\n",
      "times can these two silly willy’s make me laugh today? but that day i just couldn’t handle it. because it wasn’t a game,\n",
      "and what they said actually did hurt. the laughs were supposed to help build me up but they were counterproductive. i\n",
      "sprinted past them and out to an upstairs bathroom close to my next period english class. i felt trapped. not in the\n",
      "bathroom, not in this world, but in myself. like everything that surrounded me, everything i saw, everything i knew, was\n",
      "coming at me. closing on me and taking away all the air and space from me. i couldn’t breathe. tears fell from my eyes.\n",
      "my knees buckled. i started to hyperventilate. the world was spinning yet i was writhing on the ground motionless except\n",
      "for the shaking of my body and heathing of my chest. i stayed in the bathroom until the bell rung for next period—over\n",
      "an hour later. i stayed there in a ball on the ground of a public high school bathroom barely four feet away from a\n",
      "disgusting toilet on a dirty floor, face smooshed against the cool ground, listening to my heartbeat in my ears. when\n",
      "the bell rung it felt like i had just woke up from a very hazy rest, though, i had never fallen asleep. i stood up, the\n",
      "world still foggy and unbalanced, hit my face with some water from the sink and proceeded to english. that was the third\n",
      "attack i had that week, i had endured many before, and many after. it’s terrible. the feeling of losing all your air,\n",
      "space, control, and even self felt terrible. i would never wish it upon anyone.\n"
     ]
    }
   ],
   "source": [
    "post_txt = df.iloc[1].text\n",
    "print_wrap(post_txt)"
   ]
  },
  {
   "cell_type": "code",
   "execution_count": 48,
   "metadata": {},
   "outputs": [
    {
     "data": {
      "text/plain": [
       "{'physical_symptoms': ['increased heart rate',\n",
       "  'sweating',\n",
       "  'trembling',\n",
       "  'dizziness'],\n",
       " 'cognitive_symptoms': ['negative thoughts', 'worry', 'fear'],\n",
       " 'negative_behavioral_changes': ['avoidance of certain situations or activities'],\n",
       " 'positive_behavioral_changes': ['learning new things',\n",
       "  'taking up yoga or meditation',\n",
       "  'physical exercise'],\n",
       " 'impact_on_daily_life': [],\n",
       " 'stressors': ['social anxiety']}"
      ]
     },
     "execution_count": 48,
     "metadata": {},
     "output_type": "execute_result"
    }
   ],
   "source": [
    "rs = post_analysis_narrative(post_txt)\n",
    "rs"
   ]
  },
  {
   "cell_type": "code",
   "execution_count": 49,
   "metadata": {},
   "outputs": [
    {
     "data": {
      "text/plain": [
       "{'physical_symptoms': [],\n",
       " 'cognitive_symptoms': [],\n",
       " 'negative_behavioral_changes': [],\n",
       " 'positive_behavioral_changes': ['get a friend or family member for support',\n",
       "  'learn something new every week',\n",
       "  'take up yoga, meditation, or physical exercise'],\n",
       " 'impact_on_daily_life': [],\n",
       " 'stressors': ['social anxiety']}"
      ]
     },
     "execution_count": 49,
     "metadata": {},
     "output_type": "execute_result"
    }
   ],
   "source": [
    "rs = post_analysis_narrative(post_txt, model=\"gpt-4-1106-preview\")\n",
    "rs"
   ]
  },
  {
   "attachments": {},
   "cell_type": "markdown",
   "metadata": {},
   "source": [
    "### Postmortem analysis"
   ]
  },
  {
   "cell_type": "code",
   "execution_count": 63,
   "metadata": {},
   "outputs": [],
   "source": [
    "\n",
    "class PostmortemAnalysisResponse(BaseModel):\n",
    "    stressors: List[str] = Field(..., description=\"mentions of stressors (e.g., conflicts, expectations)\")\n",
    "    coping_mechanisms: List[str] = Field(..., description=\"coping strategies mentioned by the individual\")\n",
    "    social_environment: List[str] = Field(..., description=\"details about the social environment, such as demanding, support, and life balance\")\n",
    "    personal_resources: List[str] = Field(..., description=\"mentions of resilience, self-efficacy, and social support\")    \n",
    "    physical_health: List[str] = Field(..., description=\"mentions of sleep patterns, exercise, and nutrition\")\n",
    "    emotional_wellbeing: List[str] = Field(..., description=\"expressions related to mood, emotional exhaustion, satisfaction levels\")\n",
    "    social_identity: List[str] = Field(..., description=\"information about how the individual perceives his social role and values\")\n",
    "    satisfaction: List[str] = Field(..., description=\"mentions of satisfaction and fulfillment\")\n",
    "    intervention_strategies: List[str] = Field(..., description=\"discussions or mentions of strategies to address burnout\")\n",
    "\n",
    "\n",
    "\n",
    "def post_analysis_axis(post:str, chat_history:ChatMessageHistory=None, temperature:float = 0.0, model:str='gpt-3.5-turbo'): # 'gpt-4-1106-preview' | 'gpt-3.5-turbo'\n",
    "  \n",
    "    # _prompt = \"\"\"You are an AI counselor agent expert in burnout. Only based on the chat history, generate \"Burnout-Risk-Profile\" to evaluate an individual's susceptibility to burnout, which is a state of chronic physical and emotional exhaustion often related to work-related stress. Base your answers only on the user messages.\"\"\"\n",
    "    _prompt = \"\"\"You are an AI psychology agent expert in anxiety and panic attacks. \n",
    "    Analyze the provided social media post and extract the requested information. Base your answers only on the mentions personally experienced by the poster.\"\"\"\n",
    "\n",
    "    postmortem_analysis_extraction_functions = [\n",
    "        {\n",
    "            'name': 'postmortem_analysis',\n",
    "            'description': _prompt,\n",
    "            'parameters': PostmortemAnalysisResponse.schema()\n",
    "        }\n",
    "    ]    \n",
    "\n",
    "\n",
    "    response = openai.ChatCompletion.create(\n",
    "        model = model,\n",
    "        temperature=0.0,\n",
    "        # messages = [], #to_openai_chathistory(chat_history),\n",
    "        messages = [{'role': 'user', 'content': f\"Post: {post}\"}],\n",
    "        functions = postmortem_analysis_extraction_functions,\n",
    "        function_call = {'name': 'postmortem_analysis'} \n",
    "        # function_call = 'auto'\n",
    "    )\n",
    "\n",
    "    json_response = json.loads(response['choices'][0]['message']['function_call']['arguments'])    \n",
    "\n",
    "    return json_response\n"
   ]
  },
  {
   "cell_type": "code",
   "execution_count": 64,
   "metadata": {},
   "outputs": [
    {
     "data": {
      "text/plain": [
       "{'stressors': ['running late',\n",
       "  'being locked out of gym class',\n",
       "  'being picked on',\n",
       "  'feeling trapped',\n",
       "  'hyperventilating',\n",
       "  'having panic attacks'],\n",
       " 'coping_mechanisms': ['trying to tune out',\n",
       "  'making a game of it',\n",
       "  'laughter'],\n",
       " 'social_environment': ['girls picking on me'],\n",
       " 'personal_resources': ['none mentioned'],\n",
       " 'physical_health': ['hyperventilating', 'feeling trapped', 'panic attacks'],\n",
       " 'emotional_wellbeing': ['tears falling',\n",
       "  'feeling terrible',\n",
       "  'losing control'],\n",
       " 'social_identity': ['none mentioned'],\n",
       " 'satisfaction': ['feeling terrible'],\n",
       " 'intervention_strategies': ['none mentioned']}"
      ]
     },
     "execution_count": 64,
     "metadata": {},
     "output_type": "execute_result"
    }
   ],
   "source": [
    "rs = post_analysis_axis(post_txt)\n",
    "rs"
   ]
  },
  {
   "cell_type": "code",
   "execution_count": 65,
   "metadata": {},
   "outputs": [
    {
     "data": {
      "text/plain": [
       "{'stressors': ['running late',\n",
       "  'missed alarm',\n",
       "  'locked door at gym class',\n",
       "  'bullying from two girls'],\n",
       " 'coping_mechanisms': ['trying to tune out bullying',\n",
       "  'making a game of the bullying to laugh'],\n",
       " 'social_environment': ['bullying', 'lack of support during the incident'],\n",
       " 'personal_resources': [],\n",
       " 'physical_health': ['hyperventilation',\n",
       "  'tears',\n",
       "  'knees buckling',\n",
       "  'shaking',\n",
       "  'heaving chest'],\n",
       " 'emotional_wellbeing': ['feeling trapped',\n",
       "  'emotional pain from bullying',\n",
       "  'feeling overwhelmed',\n",
       "  'loss of control'],\n",
       " 'social_identity': [],\n",
       " 'satisfaction': [],\n",
       " 'intervention_strategies': []}"
      ]
     },
     "execution_count": 65,
     "metadata": {},
     "output_type": "execute_result"
    }
   ],
   "source": [
    "rs = post_analysis_axis(post_txt, model=\"gpt-4-1106-preview\")\n",
    "rs"
   ]
  },
  {
   "attachments": {},
   "cell_type": "markdown",
   "metadata": {},
   "source": [
    "### Combined"
   ]
  },
  {
   "cell_type": "code",
   "execution_count": 67,
   "metadata": {},
   "outputs": [],
   "source": [
    "from functools import partial"
   ]
  },
  {
   "cell_type": "code",
   "execution_count": 66,
   "metadata": {},
   "outputs": [],
   "source": [
    "def semantic_function(prompt:str, response_schema:BaseModel, messages:[], temperature:float = 0.0, model:str='gpt-3.5-turbo'): # 'gpt-4-1106-preview' | 'gpt-3.5-turbo'\n",
    "  \n",
    "    _functions = [\n",
    "        {\n",
    "            'name': 'func_extract',\n",
    "            'description': prompt,\n",
    "            'parameters': response_schema.schema()\n",
    "        }\n",
    "    ]    \n",
    "\n",
    "    response = openai.ChatCompletion.create(\n",
    "        model = model,\n",
    "        temperature=0.0,\n",
    "        messages = messages,\n",
    "        functions = _functions,\n",
    "        function_call = {'name': 'func_extract'} \n",
    "    )\n",
    "\n",
    "    json_response = json.loads(response['choices'][0]['message']['function_call']['arguments'])    \n",
    "\n",
    "    return json_response"
   ]
  },
  {
   "cell_type": "code",
   "execution_count": 131,
   "metadata": {},
   "outputs": [],
   "source": [
    "\n",
    "class PostAnalysisResponse(BaseModel):\n",
    "    anxiety_or_panic: Literal[\"anxiety\", \"panic_attack\", \"none\"] = Field(..., description=\"Does the poster experienced anxiety, a panic attack or none?\")\n",
    "    type_of_post: Literal[\"Personal_experience\", \"Giving_information\", \"Advocacy_and_awareness\", \"Support_and_encouragement\", \"Tips_and_strategies\", \"Question_and_discussion\", \"Other\"] = Field(..., description=\"Type of the post\")\n",
    "    profesionally_diagnosed: Literal[\"YES\", \"NO\", \"N/A\"] = Field(..., description=\"Does the anxiety or panic attacks have been diagnosed by a profesional?\")\n",
    "    profesionally_treated: Literal[\"YES\", \"NO\", \"N/A\"] = Field(..., description=\"Is the poster being treated by a mental health professional?\")\n",
    "    taking_medication: Literal[\"YES\", \"NO\", \"N/A\"] = Field(..., description=\"Is the poster taking medication for his mental disorder?\")\n",
    "    other_medical_conditions: List[str] = Field(..., description=\"Other mentions of medical conditions reported by the poster.\")\n",
    "    \n",
    "    relationship_context: Literal[\"Co-workers\", \"Classmates\", \"Family\", \"Friends\", \"Romantic_partners\", \"Neighbors\", \"Online_connections\", \"Other\"] = Field(..., description=\"relationship contexts associated with the reported anxiety or panic event.\")\n",
    "    trigger: Literal[\"Financial_stress\", \"Argument_or_conflict\", \"Traumatic_experience\", \"Social_event\", \"Life_transition\", \"Upcoming_tests\", \"Health_concern\", \"Other\"] = Field(..., description=\"Mentioned trigger of the anxiety or panic event.\")\n",
    "    location: Literal[\"School\", \"Work\", \"Home\", \"Hospital\", \"Public_spaces\", \"Club_or_social_venues\", \"Other\"] = Field(..., description=\"Mentioned location where the anxiety or panic event occurred.\")\n",
    "    event_frequency: Literal[\"First_time\", \"Few_times\", \"Recurrent\", \"None\"] = Field(..., description=\"Mentioned frequency of the anxiety or panic events.\")\n",
    "    # first_time, is recurrent\n",
    "    duration_time_scale:Literal[\"Minutes\", \"Hours\", \"Days\", \"Months\", \"None\"] = Field(..., description=\"Scale of the duration of the mentioned symptoms \")\n",
    "    \n",
    "    stressors: List[str] = Field(..., description=\"mentions of stressors (e.g., conflicts, expectations)\")\n",
    "    perceived_signs_of_distress: List[str] = Field(..., description=\"Signs of distress that an external person could use to identify that a person is having a pannic or anxiety attack\")\n",
    "    coping_mechanisms: List[str] = Field(..., description=\"Coping strategies mentioned by the individual.\")\n",
    "    social_environment: List[str] = Field(..., description=\"Details about the social environment, such as demanding, support, and life balance\")\n",
    "    physical_symptoms: List[str] = Field(..., description=\"Mentions of physical symptoms like increased heart rate, sweating, trembling, and dizziness.\")\n",
    "    cognitive_symptoms: List[str] = Field(..., description=\"Experience of negative thoughts, worry, and fear, and their intensity and duration.\")\n",
    "    emotional_wellbeing: List[str] = Field(..., description=\"expressions related to mood, emotional exhaustion, satisfaction levels\")\n",
    "    intensity: str = Field(..., description=\"Intensity level of the mentioned symptoms [Light, Moderate, Strong]\")\n",
    "    duration: List[str] = Field(..., description=\"Duration of the mentioned symptoms \")\n",
    "    \n",
    "    negative_behavioral_changes: List[str] = Field(..., description=\"Negative changes in behavior mentioned by the individual, such as avoidance of certain -situations or activities.\")\n",
    "    impact_on_daily_life: List[str] = Field(..., description=\"Mentions of consequences on the individual's daily life, relationships, and overall well-being.\")\n",
    "\n",
    "\n",
    "def post_analysis_combined(post:str, model:str='gpt-3.5-turbo'): # 'gpt-4-1106-preview' | 'gpt-3.5-turbo'\n",
    "  \n",
    "    _prompt = \"\"\"You are an AI psychology agent expert in anxiety and panic attacks. \n",
    "    Analyze the provided social media post and extract the requested information. \n",
    "    DO NOT MAKE UP INFORMATION NOT MENTIONED IN THE POST.\"\"\"\n",
    "\n",
    "    return semantic_function(_prompt, PostAnalysisResponse, model=model, messages = [{'role': 'user', 'content': f\"Post: {post}\"}])\n"
   ]
  },
  {
   "cell_type": "code",
   "execution_count": 130,
   "metadata": {},
   "outputs": [
    {
     "name": "stdout",
     "output_type": "stream",
     "text": [
      "i recommend you talk to a psychiatrist as your anxiety and panic attacks are severely affecting your life. he will\n",
      "probably prescribe klonopin which will be a great help. don't let this disorder ruin your life.\n"
     ]
    },
    {
     "data": {
      "text/plain": [
       "{'anxiety_or_panic': 'none',\n",
       " 'type_of_post': 'Giving_information',\n",
       " 'profesionally_diagnosed': 'NO',\n",
       " 'profesionally_treated': 'NO',\n",
       " 'taking_medication': 'NO',\n",
       " 'other_medical_conditions': [],\n",
       " 'relationship_context': 'Other',\n",
       " 'trigger': 'Other',\n",
       " 'location': 'Other',\n",
       " 'event_frequency': 'None',\n",
       " 'duration_time_scale': 'Other',\n",
       " 'stressors': [],\n",
       " 'perceived_signs_of_distress': [],\n",
       " 'coping_mechanisms': [],\n",
       " 'social_environment': [],\n",
       " 'physical_symptoms': [],\n",
       " 'cognitive_symptoms': [],\n",
       " 'emotional_wellbeing': [],\n",
       " 'intensity': 'N/A',\n",
       " 'duration': [],\n",
       " 'negative_behavioral_changes': [],\n",
       " 'impact_on_daily_life': []}"
      ]
     },
     "execution_count": 130,
     "metadata": {},
     "output_type": "execute_result"
    }
   ],
   "source": [
    "post_txt = df.iloc[510].text\n",
    "print_wrap(post_txt)\n",
    "rs = post_analysis_combined(post_txt)\n",
    "rs"
   ]
  },
  {
   "cell_type": "code",
   "execution_count": 168,
   "metadata": {},
   "outputs": [
    {
     "name": "stdout",
     "output_type": "stream",
     "text": [
      "Doing analysis of: (1930, 4)\n"
     ]
    },
    {
     "name": "stderr",
     "output_type": "stream",
     "text": [
      "100%|██████████| 1930/1930 [2:02:51<00:00,  3.82s/it]  \n"
     ]
    },
    {
     "data": {
      "text/html": [
       "<div>\n",
       "<style scoped>\n",
       "    .dataframe tbody tr th:only-of-type {\n",
       "        vertical-align: middle;\n",
       "    }\n",
       "\n",
       "    .dataframe tbody tr th {\n",
       "        vertical-align: top;\n",
       "    }\n",
       "\n",
       "    .dataframe thead th {\n",
       "        text-align: right;\n",
       "    }\n",
       "</style>\n",
       "<table border=\"1\" class=\"dataframe\">\n",
       "  <thead>\n",
       "    <tr style=\"text-align: right;\">\n",
       "      <th></th>\n",
       "      <th>idx</th>\n",
       "      <th>post</th>\n",
       "      <th>gpt35_response</th>\n",
       "    </tr>\n",
       "  </thead>\n",
       "  <tbody>\n",
       "    <tr>\n",
       "      <th>0</th>\n",
       "      <td>0</td>\n",
       "      <td>i have been dealing with these for quite some ...</td>\n",
       "      <td>{\"anxiety_or_panic\": \"none\", \"type_of_post\": \"...</td>\n",
       "    </tr>\n",
       "    <tr>\n",
       "      <th>1</th>\n",
       "      <td>1</td>\n",
       "      <td>i was walking to school, but was running late ...</td>\n",
       "      <td>{\"anxiety_or_panic\": \"panic_attack\", \"type_of_...</td>\n",
       "    </tr>\n",
       "    <tr>\n",
       "      <th>2</th>\n",
       "      <td>2</td>\n",
       "      <td>for me, panic attacks come two ways: randomly ...</td>\n",
       "      <td>{\"anxiety_or_panic\": \"panic_attack\", \"type_of_...</td>\n",
       "    </tr>\n",
       "    <tr>\n",
       "      <th>3</th>\n",
       "      <td>3</td>\n",
       "      <td>i’m driving home, riding a tingly high from sa...</td>\n",
       "      <td>{\"anxiety_or_panic\": \"panic_attack\", \"type_of_...</td>\n",
       "    </tr>\n",
       "    <tr>\n",
       "      <th>4</th>\n",
       "      <td>4</td>\n",
       "      <td>it feels like your body turns into a black hol...</td>\n",
       "      <td>{\"anxiety_or_panic\": \"panic_attack\", \"type_of_...</td>\n",
       "    </tr>\n",
       "    <tr>\n",
       "      <th>...</th>\n",
       "      <td>...</td>\n",
       "      <td>...</td>\n",
       "      <td>...</td>\n",
       "    </tr>\n",
       "    <tr>\n",
       "      <th>1925</th>\n",
       "      <td>1925</td>\n",
       "      <td>i decided not to take the prescription medicat...</td>\n",
       "      <td>{\"anxiety_or_panic\": \"none\", \"type_of_post\": \"...</td>\n",
       "    </tr>\n",
       "    <tr>\n",
       "      <th>1926</th>\n",
       "      <td>1926</td>\n",
       "      <td>speaking to your doctor will help but the most...</td>\n",
       "      <td>{\"anxiety_or_panic\": \"none\", \"type_of_post\": \"...</td>\n",
       "    </tr>\n",
       "    <tr>\n",
       "      <th>1927</th>\n",
       "      <td>1927</td>\n",
       "      <td>lorazepam. i only take it as needed (sparingly...</td>\n",
       "      <td>{\"anxiety_or_panic\": \"none\", \"type_of_post\": \"...</td>\n",
       "    </tr>\n",
       "    <tr>\n",
       "      <th>1928</th>\n",
       "      <td>1928</td>\n",
       "      <td>hi there. block your social media for a days a...</td>\n",
       "      <td>{\"anxiety_or_panic\": \"anxiety\", \"type_of_post\"...</td>\n",
       "    </tr>\n",
       "    <tr>\n",
       "      <th>1929</th>\n",
       "      <td>1929</td>\n",
       "      <td>i don't believe medication fixes the core prob...</td>\n",
       "      <td>{\"anxiety_or_panic\": \"anxiety\", \"type_of_post\"...</td>\n",
       "    </tr>\n",
       "  </tbody>\n",
       "</table>\n",
       "<p>1930 rows × 3 columns</p>\n",
       "</div>"
      ],
      "text/plain": [
       "       idx                                               post  \\\n",
       "0        0  i have been dealing with these for quite some ...   \n",
       "1        1  i was walking to school, but was running late ...   \n",
       "2        2  for me, panic attacks come two ways: randomly ...   \n",
       "3        3  i’m driving home, riding a tingly high from sa...   \n",
       "4        4  it feels like your body turns into a black hol...   \n",
       "...    ...                                                ...   \n",
       "1925  1925  i decided not to take the prescription medicat...   \n",
       "1926  1926  speaking to your doctor will help but the most...   \n",
       "1927  1927  lorazepam. i only take it as needed (sparingly...   \n",
       "1928  1928  hi there. block your social media for a days a...   \n",
       "1929  1929  i don't believe medication fixes the core prob...   \n",
       "\n",
       "                                         gpt35_response  \n",
       "0     {\"anxiety_or_panic\": \"none\", \"type_of_post\": \"...  \n",
       "1     {\"anxiety_or_panic\": \"panic_attack\", \"type_of_...  \n",
       "2     {\"anxiety_or_panic\": \"panic_attack\", \"type_of_...  \n",
       "3     {\"anxiety_or_panic\": \"panic_attack\", \"type_of_...  \n",
       "4     {\"anxiety_or_panic\": \"panic_attack\", \"type_of_...  \n",
       "...                                                 ...  \n",
       "1925  {\"anxiety_or_panic\": \"none\", \"type_of_post\": \"...  \n",
       "1926  {\"anxiety_or_panic\": \"none\", \"type_of_post\": \"...  \n",
       "1927  {\"anxiety_or_panic\": \"none\", \"type_of_post\": \"...  \n",
       "1928  {\"anxiety_or_panic\": \"anxiety\", \"type_of_post\"...  \n",
       "1929  {\"anxiety_or_panic\": \"anxiety\", \"type_of_post\"...  \n",
       "\n",
       "[1930 rows x 3 columns]"
      ]
     },
     "execution_count": 168,
     "metadata": {},
     "output_type": "execute_result"
    }
   ],
   "source": [
    "def do_analysis(df, tgt_path, dump_every=100):\n",
    "    print(f\"Doing analysis of: {df.shape}\")\n",
    "    dftmp = []\n",
    "    j = 0\n",
    "    for idx, posti in tqdm(df.iterrows(), total=len(df)):\n",
    "        _rsi = {}\n",
    "        _rsi[\"idx\"] = idx\n",
    "        _rsi[\"post\"] = df.at[idx, \"text\"]\n",
    "        try:\n",
    "            _rsx = json.dumps ( post_analysis_combined(_rsi[\"post\"]) )\n",
    "        except Exception as err:\n",
    "            _rsx = None\n",
    "\n",
    "        _rsi[\"gpt35_response\"] = _rsx\n",
    "        dftmp.append(_rsi)\n",
    "        j+=1\n",
    "        if j%dump_every==0:\n",
    "            pd.DataFrame.from_records( dftmp).to_csv(f\"{tgt_path}_{j}.tsv\", sep=\"\\t\")\n",
    "\n",
    "\n",
    "    dftmp = pd.DataFrame.from_records( dftmp)\n",
    "    dftmp.to_csv(f\"{tgt_path}_final.tsv\", sep=\"\\t\")\n",
    "    return dftmp\n",
    "\n",
    "# displayAll\n",
    "(do_analysis(df, tgt_path=\"../out/post_analysis\", dump_every=50))"
   ]
  },
  {
   "cell_type": "code",
   "execution_count": 170,
   "metadata": {},
   "outputs": [
    {
     "data": {
      "text/html": [
       "<div>\n",
       "<style scoped>\n",
       "    .dataframe tbody tr th:only-of-type {\n",
       "        vertical-align: middle;\n",
       "    }\n",
       "\n",
       "    .dataframe tbody tr th {\n",
       "        vertical-align: top;\n",
       "    }\n",
       "\n",
       "    .dataframe thead th {\n",
       "        text-align: right;\n",
       "    }\n",
       "</style>\n",
       "<table border=\"1\" class=\"dataframe\">\n",
       "  <thead>\n",
       "    <tr style=\"text-align: right;\">\n",
       "      <th></th>\n",
       "      <th>idx</th>\n",
       "      <th>post</th>\n",
       "      <th>gpt35_response</th>\n",
       "    </tr>\n",
       "  </thead>\n",
       "  <tbody>\n",
       "    <tr>\n",
       "      <th>0</th>\n",
       "      <td>0</td>\n",
       "      <td>i have been dealing with these for quite some ...</td>\n",
       "      <td>{\"anxiety_or_panic\": \"none\", \"type_of_post\": \"...</td>\n",
       "    </tr>\n",
       "    <tr>\n",
       "      <th>1</th>\n",
       "      <td>1</td>\n",
       "      <td>i was walking to school, but was running late ...</td>\n",
       "      <td>{\"anxiety_or_panic\": \"panic_attack\", \"type_of_...</td>\n",
       "    </tr>\n",
       "    <tr>\n",
       "      <th>2</th>\n",
       "      <td>2</td>\n",
       "      <td>for me, panic attacks come two ways: randomly ...</td>\n",
       "      <td>{\"anxiety_or_panic\": \"panic_attack\", \"type_of_...</td>\n",
       "    </tr>\n",
       "    <tr>\n",
       "      <th>3</th>\n",
       "      <td>3</td>\n",
       "      <td>i’m driving home, riding a tingly high from sa...</td>\n",
       "      <td>{\"anxiety_or_panic\": \"panic_attack\", \"type_of_...</td>\n",
       "    </tr>\n",
       "    <tr>\n",
       "      <th>4</th>\n",
       "      <td>4</td>\n",
       "      <td>it feels like your body turns into a black hol...</td>\n",
       "      <td>{\"anxiety_or_panic\": \"panic_attack\", \"type_of_...</td>\n",
       "    </tr>\n",
       "    <tr>\n",
       "      <th>...</th>\n",
       "      <td>...</td>\n",
       "      <td>...</td>\n",
       "      <td>...</td>\n",
       "    </tr>\n",
       "    <tr>\n",
       "      <th>1925</th>\n",
       "      <td>1925</td>\n",
       "      <td>i decided not to take the prescription medicat...</td>\n",
       "      <td>{\"anxiety_or_panic\": \"none\", \"type_of_post\": \"...</td>\n",
       "    </tr>\n",
       "    <tr>\n",
       "      <th>1926</th>\n",
       "      <td>1926</td>\n",
       "      <td>speaking to your doctor will help but the most...</td>\n",
       "      <td>{\"anxiety_or_panic\": \"none\", \"type_of_post\": \"...</td>\n",
       "    </tr>\n",
       "    <tr>\n",
       "      <th>1927</th>\n",
       "      <td>1927</td>\n",
       "      <td>lorazepam. i only take it as needed (sparingly...</td>\n",
       "      <td>{\"anxiety_or_panic\": \"none\", \"type_of_post\": \"...</td>\n",
       "    </tr>\n",
       "    <tr>\n",
       "      <th>1928</th>\n",
       "      <td>1928</td>\n",
       "      <td>hi there. block your social media for a days a...</td>\n",
       "      <td>{\"anxiety_or_panic\": \"anxiety\", \"type_of_post\"...</td>\n",
       "    </tr>\n",
       "    <tr>\n",
       "      <th>1929</th>\n",
       "      <td>1929</td>\n",
       "      <td>i don't believe medication fixes the core prob...</td>\n",
       "      <td>{\"anxiety_or_panic\": \"anxiety\", \"type_of_post\"...</td>\n",
       "    </tr>\n",
       "  </tbody>\n",
       "</table>\n",
       "<p>1930 rows × 3 columns</p>\n",
       "</div>"
      ],
      "text/plain": [
       "       idx                                               post  \\\n",
       "0        0  i have been dealing with these for quite some ...   \n",
       "1        1  i was walking to school, but was running late ...   \n",
       "2        2  for me, panic attacks come two ways: randomly ...   \n",
       "3        3  i’m driving home, riding a tingly high from sa...   \n",
       "4        4  it feels like your body turns into a black hol...   \n",
       "...    ...                                                ...   \n",
       "1925  1925  i decided not to take the prescription medicat...   \n",
       "1926  1926  speaking to your doctor will help but the most...   \n",
       "1927  1927  lorazepam. i only take it as needed (sparingly...   \n",
       "1928  1928  hi there. block your social media for a days a...   \n",
       "1929  1929  i don't believe medication fixes the core prob...   \n",
       "\n",
       "                                         gpt35_response  \n",
       "0     {\"anxiety_or_panic\": \"none\", \"type_of_post\": \"...  \n",
       "1     {\"anxiety_or_panic\": \"panic_attack\", \"type_of_...  \n",
       "2     {\"anxiety_or_panic\": \"panic_attack\", \"type_of_...  \n",
       "3     {\"anxiety_or_panic\": \"panic_attack\", \"type_of_...  \n",
       "4     {\"anxiety_or_panic\": \"panic_attack\", \"type_of_...  \n",
       "...                                                 ...  \n",
       "1925  {\"anxiety_or_panic\": \"none\", \"type_of_post\": \"...  \n",
       "1926  {\"anxiety_or_panic\": \"none\", \"type_of_post\": \"...  \n",
       "1927  {\"anxiety_or_panic\": \"none\", \"type_of_post\": \"...  \n",
       "1928  {\"anxiety_or_panic\": \"anxiety\", \"type_of_post\"...  \n",
       "1929  {\"anxiety_or_panic\": \"anxiety\", \"type_of_post\"...  \n",
       "\n",
       "[1930 rows x 3 columns]"
      ]
     },
     "execution_count": 170,
     "metadata": {},
     "output_type": "execute_result"
    }
   ],
   "source": [
    "dfx = pd.read_csv(\"../out/post_analysis_final.tsv\", sep='\\t', index_col=0)\n",
    "dfx"
   ]
  },
  {
   "cell_type": "code",
   "execution_count": 200,
   "metadata": {},
   "outputs": [],
   "source": [
    "dfx.loc[dfx[dfx.gpt35_response.isna()].index, \"gpt35_response\"] = \"{}\""
   ]
  },
  {
   "cell_type": "code",
   "execution_count": 202,
   "metadata": {},
   "outputs": [
    {
     "data": {
      "text/html": [
       "<div>\n",
       "<style scoped>\n",
       "    .dataframe tbody tr th:only-of-type {\n",
       "        vertical-align: middle;\n",
       "    }\n",
       "\n",
       "    .dataframe tbody tr th {\n",
       "        vertical-align: top;\n",
       "    }\n",
       "\n",
       "    .dataframe thead th {\n",
       "        text-align: right;\n",
       "    }\n",
       "</style>\n",
       "<table border=\"1\" class=\"dataframe\">\n",
       "  <thead>\n",
       "    <tr style=\"text-align: right;\">\n",
       "      <th></th>\n",
       "      <th>idx</th>\n",
       "      <th>post</th>\n",
       "      <th>gpt35_response</th>\n",
       "    </tr>\n",
       "  </thead>\n",
       "  <tbody>\n",
       "    <tr>\n",
       "      <th>0</th>\n",
       "      <td>0</td>\n",
       "      <td>i have been dealing with these for quite some ...</td>\n",
       "      <td>{\"anxiety_or_panic\": \"none\", \"type_of_post\": \"...</td>\n",
       "    </tr>\n",
       "    <tr>\n",
       "      <th>1</th>\n",
       "      <td>1</td>\n",
       "      <td>i was walking to school, but was running late ...</td>\n",
       "      <td>{\"anxiety_or_panic\": \"panic_attack\", \"type_of_...</td>\n",
       "    </tr>\n",
       "    <tr>\n",
       "      <th>2</th>\n",
       "      <td>2</td>\n",
       "      <td>for me, panic attacks come two ways: randomly ...</td>\n",
       "      <td>{\"anxiety_or_panic\": \"panic_attack\", \"type_of_...</td>\n",
       "    </tr>\n",
       "    <tr>\n",
       "      <th>3</th>\n",
       "      <td>3</td>\n",
       "      <td>i’m driving home, riding a tingly high from sa...</td>\n",
       "      <td>{\"anxiety_or_panic\": \"panic_attack\", \"type_of_...</td>\n",
       "    </tr>\n",
       "    <tr>\n",
       "      <th>4</th>\n",
       "      <td>4</td>\n",
       "      <td>it feels like your body turns into a black hol...</td>\n",
       "      <td>{\"anxiety_or_panic\": \"panic_attack\", \"type_of_...</td>\n",
       "    </tr>\n",
       "    <tr>\n",
       "      <th>...</th>\n",
       "      <td>...</td>\n",
       "      <td>...</td>\n",
       "      <td>...</td>\n",
       "    </tr>\n",
       "    <tr>\n",
       "      <th>1925</th>\n",
       "      <td>1925</td>\n",
       "      <td>i decided not to take the prescription medicat...</td>\n",
       "      <td>{\"anxiety_or_panic\": \"none\", \"type_of_post\": \"...</td>\n",
       "    </tr>\n",
       "    <tr>\n",
       "      <th>1926</th>\n",
       "      <td>1926</td>\n",
       "      <td>speaking to your doctor will help but the most...</td>\n",
       "      <td>{\"anxiety_or_panic\": \"none\", \"type_of_post\": \"...</td>\n",
       "    </tr>\n",
       "    <tr>\n",
       "      <th>1927</th>\n",
       "      <td>1927</td>\n",
       "      <td>lorazepam. i only take it as needed (sparingly...</td>\n",
       "      <td>{\"anxiety_or_panic\": \"none\", \"type_of_post\": \"...</td>\n",
       "    </tr>\n",
       "    <tr>\n",
       "      <th>1928</th>\n",
       "      <td>1928</td>\n",
       "      <td>hi there. block your social media for a days a...</td>\n",
       "      <td>{\"anxiety_or_panic\": \"anxiety\", \"type_of_post\"...</td>\n",
       "    </tr>\n",
       "    <tr>\n",
       "      <th>1929</th>\n",
       "      <td>1929</td>\n",
       "      <td>i don't believe medication fixes the core prob...</td>\n",
       "      <td>{\"anxiety_or_panic\": \"anxiety\", \"type_of_post\"...</td>\n",
       "    </tr>\n",
       "  </tbody>\n",
       "</table>\n",
       "<p>1930 rows × 3 columns</p>\n",
       "</div>"
      ],
      "text/plain": [
       "       idx                                               post  \\\n",
       "0        0  i have been dealing with these for quite some ...   \n",
       "1        1  i was walking to school, but was running late ...   \n",
       "2        2  for me, panic attacks come two ways: randomly ...   \n",
       "3        3  i’m driving home, riding a tingly high from sa...   \n",
       "4        4  it feels like your body turns into a black hol...   \n",
       "...    ...                                                ...   \n",
       "1925  1925  i decided not to take the prescription medicat...   \n",
       "1926  1926  speaking to your doctor will help but the most...   \n",
       "1927  1927  lorazepam. i only take it as needed (sparingly...   \n",
       "1928  1928  hi there. block your social media for a days a...   \n",
       "1929  1929  i don't believe medication fixes the core prob...   \n",
       "\n",
       "                                         gpt35_response  \n",
       "0     {\"anxiety_or_panic\": \"none\", \"type_of_post\": \"...  \n",
       "1     {\"anxiety_or_panic\": \"panic_attack\", \"type_of_...  \n",
       "2     {\"anxiety_or_panic\": \"panic_attack\", \"type_of_...  \n",
       "3     {\"anxiety_or_panic\": \"panic_attack\", \"type_of_...  \n",
       "4     {\"anxiety_or_panic\": \"panic_attack\", \"type_of_...  \n",
       "...                                                 ...  \n",
       "1925  {\"anxiety_or_panic\": \"none\", \"type_of_post\": \"...  \n",
       "1926  {\"anxiety_or_panic\": \"none\", \"type_of_post\": \"...  \n",
       "1927  {\"anxiety_or_panic\": \"none\", \"type_of_post\": \"...  \n",
       "1928  {\"anxiety_or_panic\": \"anxiety\", \"type_of_post\"...  \n",
       "1929  {\"anxiety_or_panic\": \"anxiety\", \"type_of_post\"...  \n",
       "\n",
       "[1930 rows x 3 columns]"
      ]
     },
     "execution_count": 202,
     "metadata": {},
     "output_type": "execute_result"
    }
   ],
   "source": [
    "dfx"
   ]
  },
  {
   "cell_type": "code",
   "execution_count": 201,
   "metadata": {},
   "outputs": [
    {
     "data": {
      "text/html": [
       "<div>\n",
       "<style scoped>\n",
       "    .dataframe tbody tr th:only-of-type {\n",
       "        vertical-align: middle;\n",
       "    }\n",
       "\n",
       "    .dataframe tbody tr th {\n",
       "        vertical-align: top;\n",
       "    }\n",
       "\n",
       "    .dataframe thead th {\n",
       "        text-align: right;\n",
       "    }\n",
       "</style>\n",
       "<table border=\"1\" class=\"dataframe\">\n",
       "  <thead>\n",
       "    <tr style=\"text-align: right;\">\n",
       "      <th></th>\n",
       "      <th>idx</th>\n",
       "      <th>post</th>\n",
       "      <th>gpt35_response</th>\n",
       "    </tr>\n",
       "  </thead>\n",
       "  <tbody>\n",
       "  </tbody>\n",
       "</table>\n",
       "</div>"
      ],
      "text/plain": [
       "Empty DataFrame\n",
       "Columns: [idx, post, gpt35_response]\n",
       "Index: []"
      ]
     },
     "execution_count": 201,
     "metadata": {},
     "output_type": "execute_result"
    }
   ],
   "source": [
    "dfx[dfx.gpt35_response.isna()]"
   ]
  },
  {
   "cell_type": "code",
   "execution_count": 204,
   "metadata": {},
   "outputs": [
    {
     "data": {
      "text/html": [
       "<div>\n",
       "<style scoped>\n",
       "    .dataframe tbody tr th:only-of-type {\n",
       "        vertical-align: middle;\n",
       "    }\n",
       "\n",
       "    .dataframe tbody tr th {\n",
       "        vertical-align: top;\n",
       "    }\n",
       "\n",
       "    .dataframe thead th {\n",
       "        text-align: right;\n",
       "    }\n",
       "</style>\n",
       "<table border=\"1\" class=\"dataframe\">\n",
       "  <thead>\n",
       "    <tr style=\"text-align: right;\">\n",
       "      <th></th>\n",
       "      <th>anxiety_or_panic</th>\n",
       "      <th>type_of_post</th>\n",
       "      <th>profesionally_diagnosed</th>\n",
       "      <th>profesionally_treated</th>\n",
       "      <th>taking_medication</th>\n",
       "      <th>other_medical_conditions</th>\n",
       "      <th>relationship_context</th>\n",
       "      <th>trigger</th>\n",
       "      <th>location</th>\n",
       "      <th>event_frequency</th>\n",
       "      <th>duration_time_scale</th>\n",
       "      <th>stressors</th>\n",
       "      <th>perceived_signs_of_distress</th>\n",
       "      <th>coping_mechanisms</th>\n",
       "      <th>social_environment</th>\n",
       "      <th>physical_symptoms</th>\n",
       "      <th>cognitive_symptoms</th>\n",
       "      <th>emotional_wellbeing</th>\n",
       "      <th>intensity</th>\n",
       "      <th>duration</th>\n",
       "      <th>negative_behavioral_changes</th>\n",
       "      <th>impact_on_daily_life</th>\n",
       "    </tr>\n",
       "  </thead>\n",
       "  <tbody>\n",
       "    <tr>\n",
       "      <th>0</th>\n",
       "      <td>none</td>\n",
       "      <td>Personal_experience</td>\n",
       "      <td>N/A</td>\n",
       "      <td>N/A</td>\n",
       "      <td>N/A</td>\n",
       "      <td>[]</td>\n",
       "      <td>Other</td>\n",
       "      <td>Other</td>\n",
       "      <td>Other</td>\n",
       "      <td>None</td>\n",
       "      <td>None</td>\n",
       "      <td>[]</td>\n",
       "      <td>[]</td>\n",
       "      <td>[]</td>\n",
       "      <td>[]</td>\n",
       "      <td>[]</td>\n",
       "      <td>[]</td>\n",
       "      <td>[]</td>\n",
       "      <td>None</td>\n",
       "      <td>[]</td>\n",
       "      <td>[]</td>\n",
       "      <td>[]</td>\n",
       "    </tr>\n",
       "    <tr>\n",
       "      <th>1</th>\n",
       "      <td>panic_attack</td>\n",
       "      <td>Personal_experience</td>\n",
       "      <td>NO</td>\n",
       "      <td>NO</td>\n",
       "      <td>NO</td>\n",
       "      <td>[]</td>\n",
       "      <td>Classmates</td>\n",
       "      <td>Bullying</td>\n",
       "      <td>School</td>\n",
       "      <td>Recurrent</td>\n",
       "      <td>Minutes</td>\n",
       "      <td>[Being late for school, Locking of the locker ...</td>\n",
       "      <td>[Running late, Feeling trapped, Hyperventilati...</td>\n",
       "      <td>[Trying to tune out the bullying, Making a gam...</td>\n",
       "      <td>[Picking on me, Feeling alone]</td>\n",
       "      <td>[Hyperventilation, Tears, Knees buckling, Worl...</td>\n",
       "      <td>[Feeling trapped, Losing control, Feeling like...</td>\n",
       "      <td>[Feeling hurt, Feeling trapped, Feeling out of...</td>\n",
       "      <td>Strong</td>\n",
       "      <td>[Over an hour]</td>\n",
       "      <td>[Avoiding the locker room, Staying in the bath...</td>\n",
       "      <td>[Missed class, Feeling terrible]</td>\n",
       "    </tr>\n",
       "    <tr>\n",
       "      <th>2</th>\n",
       "      <td>panic_attack</td>\n",
       "      <td>Personal_experience</td>\n",
       "      <td>N/A</td>\n",
       "      <td>N/A</td>\n",
       "      <td>N/A</td>\n",
       "      <td>[]</td>\n",
       "      <td>Other</td>\n",
       "      <td>Other</td>\n",
       "      <td>Public_spaces</td>\n",
       "      <td>Recurrent</td>\n",
       "      <td>Minutes</td>\n",
       "      <td>[Feeling threatened or unsafe, Worrying too much]</td>\n",
       "      <td>[Feeling out of breath, Dizziness, Tingling in...</td>\n",
       "      <td>[Calming breathing, Clearing the mind]</td>\n",
       "      <td>[]</td>\n",
       "      <td>[Increased heart rate, Chest tightness, Trembl...</td>\n",
       "      <td>[Worrying about dying, Irrational fears, Worry...</td>\n",
       "      <td>[Exhaustion, Confusion, Sleepiness]</td>\n",
       "      <td>Strong</td>\n",
       "      <td>[Minutes, Seconds]</td>\n",
       "      <td>[Sleeping]</td>\n",
       "      <td>[Feeling off for a few days after]</td>\n",
       "    </tr>\n",
       "    <tr>\n",
       "      <th>3</th>\n",
       "      <td>panic_attack</td>\n",
       "      <td>Personal_experience</td>\n",
       "      <td>NO</td>\n",
       "      <td>NO</td>\n",
       "      <td>NO</td>\n",
       "      <td>[]</td>\n",
       "      <td>Romantic_partners</td>\n",
       "      <td>Darkness_and_deer</td>\n",
       "      <td>Driving</td>\n",
       "      <td>Recurrent</td>\n",
       "      <td>Minutes</td>\n",
       "      <td>[Darkness, Deer]</td>\n",
       "      <td>[Rapid heartbeat, Difficulty breathing, Tight ...</td>\n",
       "      <td>[Pulling over, Calling mom, Talking to mom]</td>\n",
       "      <td>[]</td>\n",
       "      <td>[Rapid heartbeat, Difficulty breathing, Tight ...</td>\n",
       "      <td>[Fear of hitting a deer, Fear of dying, Fear o...</td>\n",
       "      <td>[Terror, Agony, Relief]</td>\n",
       "      <td>Strong</td>\n",
       "      <td>[10 minutes]</td>\n",
       "      <td>[]</td>\n",
       "      <td>[Interrupted driving, Emotional distress]</td>\n",
       "    </tr>\n",
       "    <tr>\n",
       "      <th>4</th>\n",
       "      <td>panic_attack</td>\n",
       "      <td>Personal_experience</td>\n",
       "      <td>NO</td>\n",
       "      <td>NO</td>\n",
       "      <td>NO</td>\n",
       "      <td>[]</td>\n",
       "      <td>Other</td>\n",
       "      <td>Other</td>\n",
       "      <td>Other</td>\n",
       "      <td>Recurrent</td>\n",
       "      <td>Seconds</td>\n",
       "      <td>[]</td>\n",
       "      <td>[]</td>\n",
       "      <td>[]</td>\n",
       "      <td>[]</td>\n",
       "      <td>[increased heart rate, sweating, trembling, di...</td>\n",
       "      <td>[losing consciousness, confusion, disorientation]</td>\n",
       "      <td>[anxiety, helplessness, fear]</td>\n",
       "      <td>Strong</td>\n",
       "      <td>[Seconds]</td>\n",
       "      <td>[]</td>\n",
       "      <td>[]</td>\n",
       "    </tr>\n",
       "    <tr>\n",
       "      <th>...</th>\n",
       "      <td>...</td>\n",
       "      <td>...</td>\n",
       "      <td>...</td>\n",
       "      <td>...</td>\n",
       "      <td>...</td>\n",
       "      <td>...</td>\n",
       "      <td>...</td>\n",
       "      <td>...</td>\n",
       "      <td>...</td>\n",
       "      <td>...</td>\n",
       "      <td>...</td>\n",
       "      <td>...</td>\n",
       "      <td>...</td>\n",
       "      <td>...</td>\n",
       "      <td>...</td>\n",
       "      <td>...</td>\n",
       "      <td>...</td>\n",
       "      <td>...</td>\n",
       "      <td>...</td>\n",
       "      <td>...</td>\n",
       "      <td>...</td>\n",
       "      <td>...</td>\n",
       "    </tr>\n",
       "    <tr>\n",
       "      <th>1925</th>\n",
       "      <td>none</td>\n",
       "      <td>Personal_experience</td>\n",
       "      <td>N/A</td>\n",
       "      <td>N/A</td>\n",
       "      <td>NO</td>\n",
       "      <td>[]</td>\n",
       "      <td>N/A</td>\n",
       "      <td>N/A</td>\n",
       "      <td>N/A</td>\n",
       "      <td>None</td>\n",
       "      <td>None</td>\n",
       "      <td>[]</td>\n",
       "      <td>[]</td>\n",
       "      <td>[taking gaba, l-theanine, and magnesium combin...</td>\n",
       "      <td>[]</td>\n",
       "      <td>[]</td>\n",
       "      <td>[]</td>\n",
       "      <td>[calm, able to handle things better]</td>\n",
       "      <td>None</td>\n",
       "      <td>[]</td>\n",
       "      <td>[]</td>\n",
       "      <td>[]</td>\n",
       "    </tr>\n",
       "    <tr>\n",
       "      <th>1926</th>\n",
       "      <td>none</td>\n",
       "      <td>Personal_experience</td>\n",
       "      <td>N/A</td>\n",
       "      <td>N/A</td>\n",
       "      <td>N/A</td>\n",
       "      <td>[]</td>\n",
       "      <td>Other</td>\n",
       "      <td>Other</td>\n",
       "      <td>Other</td>\n",
       "      <td>None</td>\n",
       "      <td>None</td>\n",
       "      <td>[]</td>\n",
       "      <td>[]</td>\n",
       "      <td>[cbt, exposure therapy, mindfulness practices]</td>\n",
       "      <td>[]</td>\n",
       "      <td>[]</td>\n",
       "      <td>[]</td>\n",
       "      <td>[]</td>\n",
       "      <td>None</td>\n",
       "      <td>[]</td>\n",
       "      <td>[]</td>\n",
       "      <td>[]</td>\n",
       "    </tr>\n",
       "    <tr>\n",
       "      <th>1927</th>\n",
       "      <td>none</td>\n",
       "      <td>Personal_experience</td>\n",
       "      <td>N/A</td>\n",
       "      <td>N/A</td>\n",
       "      <td>YES</td>\n",
       "      <td>[]</td>\n",
       "      <td>Other</td>\n",
       "      <td>Other</td>\n",
       "      <td>Other</td>\n",
       "      <td>None</td>\n",
       "      <td>None</td>\n",
       "      <td>[]</td>\n",
       "      <td>[]</td>\n",
       "      <td>[]</td>\n",
       "      <td>[]</td>\n",
       "      <td>[]</td>\n",
       "      <td>[]</td>\n",
       "      <td>[]</td>\n",
       "      <td>None</td>\n",
       "      <td>[]</td>\n",
       "      <td>[]</td>\n",
       "      <td>[]</td>\n",
       "    </tr>\n",
       "    <tr>\n",
       "      <th>1928</th>\n",
       "      <td>anxiety</td>\n",
       "      <td>Personal_experience</td>\n",
       "      <td>NO</td>\n",
       "      <td>NO</td>\n",
       "      <td>NO</td>\n",
       "      <td>[]</td>\n",
       "      <td>Online_connections</td>\n",
       "      <td>None</td>\n",
       "      <td>Home</td>\n",
       "      <td>Recurrent</td>\n",
       "      <td>Days</td>\n",
       "      <td>[]</td>\n",
       "      <td>[]</td>\n",
       "      <td>[]</td>\n",
       "      <td>[]</td>\n",
       "      <td>[]</td>\n",
       "      <td>[]</td>\n",
       "      <td>[]</td>\n",
       "      <td>None</td>\n",
       "      <td>[]</td>\n",
       "      <td>[]</td>\n",
       "      <td>[]</td>\n",
       "    </tr>\n",
       "    <tr>\n",
       "      <th>1929</th>\n",
       "      <td>anxiety</td>\n",
       "      <td>Personal_experience</td>\n",
       "      <td>NO</td>\n",
       "      <td>NO</td>\n",
       "      <td>NO</td>\n",
       "      <td>[]</td>\n",
       "      <td>Other</td>\n",
       "      <td>Other</td>\n",
       "      <td>Other</td>\n",
       "      <td>Recurrent</td>\n",
       "      <td>None</td>\n",
       "      <td>[]</td>\n",
       "      <td>[]</td>\n",
       "      <td>[Change in lifestyle, Routine, New hobbies, Re...</td>\n",
       "      <td>[]</td>\n",
       "      <td>[]</td>\n",
       "      <td>[]</td>\n",
       "      <td>[Stoked]</td>\n",
       "      <td>None</td>\n",
       "      <td>[]</td>\n",
       "      <td>[]</td>\n",
       "      <td>[]</td>\n",
       "    </tr>\n",
       "  </tbody>\n",
       "</table>\n",
       "<p>1930 rows × 22 columns</p>\n",
       "</div>"
      ],
      "text/plain": [
       "     anxiety_or_panic         type_of_post profesionally_diagnosed  \\\n",
       "0                none  Personal_experience                     N/A   \n",
       "1        panic_attack  Personal_experience                      NO   \n",
       "2        panic_attack  Personal_experience                     N/A   \n",
       "3        panic_attack  Personal_experience                      NO   \n",
       "4        panic_attack  Personal_experience                      NO   \n",
       "...               ...                  ...                     ...   \n",
       "1925             none  Personal_experience                     N/A   \n",
       "1926             none  Personal_experience                     N/A   \n",
       "1927             none  Personal_experience                     N/A   \n",
       "1928          anxiety  Personal_experience                      NO   \n",
       "1929          anxiety  Personal_experience                      NO   \n",
       "\n",
       "     profesionally_treated taking_medication other_medical_conditions  \\\n",
       "0                      N/A               N/A                       []   \n",
       "1                       NO                NO                       []   \n",
       "2                      N/A               N/A                       []   \n",
       "3                       NO                NO                       []   \n",
       "4                       NO                NO                       []   \n",
       "...                    ...               ...                      ...   \n",
       "1925                   N/A                NO                       []   \n",
       "1926                   N/A               N/A                       []   \n",
       "1927                   N/A               YES                       []   \n",
       "1928                    NO                NO                       []   \n",
       "1929                    NO                NO                       []   \n",
       "\n",
       "     relationship_context            trigger       location event_frequency  \\\n",
       "0                   Other              Other          Other            None   \n",
       "1              Classmates           Bullying         School       Recurrent   \n",
       "2                   Other              Other  Public_spaces       Recurrent   \n",
       "3       Romantic_partners  Darkness_and_deer        Driving       Recurrent   \n",
       "4                   Other              Other          Other       Recurrent   \n",
       "...                   ...                ...            ...             ...   \n",
       "1925                  N/A                N/A            N/A            None   \n",
       "1926                Other              Other          Other            None   \n",
       "1927                Other              Other          Other            None   \n",
       "1928   Online_connections               None           Home       Recurrent   \n",
       "1929                Other              Other          Other       Recurrent   \n",
       "\n",
       "     duration_time_scale                                          stressors  \\\n",
       "0                   None                                                 []   \n",
       "1                Minutes  [Being late for school, Locking of the locker ...   \n",
       "2                Minutes  [Feeling threatened or unsafe, Worrying too much]   \n",
       "3                Minutes                                   [Darkness, Deer]   \n",
       "4                Seconds                                                 []   \n",
       "...                  ...                                                ...   \n",
       "1925                None                                                 []   \n",
       "1926                None                                                 []   \n",
       "1927                None                                                 []   \n",
       "1928                Days                                                 []   \n",
       "1929                None                                                 []   \n",
       "\n",
       "                            perceived_signs_of_distress  \\\n",
       "0                                                    []   \n",
       "1     [Running late, Feeling trapped, Hyperventilati...   \n",
       "2     [Feeling out of breath, Dizziness, Tingling in...   \n",
       "3     [Rapid heartbeat, Difficulty breathing, Tight ...   \n",
       "4                                                    []   \n",
       "...                                                 ...   \n",
       "1925                                                 []   \n",
       "1926                                                 []   \n",
       "1927                                                 []   \n",
       "1928                                                 []   \n",
       "1929                                                 []   \n",
       "\n",
       "                                      coping_mechanisms  \\\n",
       "0                                                    []   \n",
       "1     [Trying to tune out the bullying, Making a gam...   \n",
       "2                [Calming breathing, Clearing the mind]   \n",
       "3           [Pulling over, Calling mom, Talking to mom]   \n",
       "4                                                    []   \n",
       "...                                                 ...   \n",
       "1925  [taking gaba, l-theanine, and magnesium combin...   \n",
       "1926     [cbt, exposure therapy, mindfulness practices]   \n",
       "1927                                                 []   \n",
       "1928                                                 []   \n",
       "1929  [Change in lifestyle, Routine, New hobbies, Re...   \n",
       "\n",
       "                  social_environment  \\\n",
       "0                                 []   \n",
       "1     [Picking on me, Feeling alone]   \n",
       "2                                 []   \n",
       "3                                 []   \n",
       "4                                 []   \n",
       "...                              ...   \n",
       "1925                              []   \n",
       "1926                              []   \n",
       "1927                              []   \n",
       "1928                              []   \n",
       "1929                              []   \n",
       "\n",
       "                                      physical_symptoms  \\\n",
       "0                                                    []   \n",
       "1     [Hyperventilation, Tears, Knees buckling, Worl...   \n",
       "2     [Increased heart rate, Chest tightness, Trembl...   \n",
       "3     [Rapid heartbeat, Difficulty breathing, Tight ...   \n",
       "4     [increased heart rate, sweating, trembling, di...   \n",
       "...                                                 ...   \n",
       "1925                                                 []   \n",
       "1926                                                 []   \n",
       "1927                                                 []   \n",
       "1928                                                 []   \n",
       "1929                                                 []   \n",
       "\n",
       "                                     cognitive_symptoms  \\\n",
       "0                                                    []   \n",
       "1     [Feeling trapped, Losing control, Feeling like...   \n",
       "2     [Worrying about dying, Irrational fears, Worry...   \n",
       "3     [Fear of hitting a deer, Fear of dying, Fear o...   \n",
       "4     [losing consciousness, confusion, disorientation]   \n",
       "...                                                 ...   \n",
       "1925                                                 []   \n",
       "1926                                                 []   \n",
       "1927                                                 []   \n",
       "1928                                                 []   \n",
       "1929                                                 []   \n",
       "\n",
       "                                    emotional_wellbeing intensity  \\\n",
       "0                                                    []      None   \n",
       "1     [Feeling hurt, Feeling trapped, Feeling out of...    Strong   \n",
       "2                   [Exhaustion, Confusion, Sleepiness]    Strong   \n",
       "3                               [Terror, Agony, Relief]    Strong   \n",
       "4                         [anxiety, helplessness, fear]    Strong   \n",
       "...                                                 ...       ...   \n",
       "1925               [calm, able to handle things better]      None   \n",
       "1926                                                 []      None   \n",
       "1927                                                 []      None   \n",
       "1928                                                 []      None   \n",
       "1929                                           [Stoked]      None   \n",
       "\n",
       "                duration                        negative_behavioral_changes  \\\n",
       "0                     []                                                 []   \n",
       "1         [Over an hour]  [Avoiding the locker room, Staying in the bath...   \n",
       "2     [Minutes, Seconds]                                         [Sleeping]   \n",
       "3           [10 minutes]                                                 []   \n",
       "4              [Seconds]                                                 []   \n",
       "...                  ...                                                ...   \n",
       "1925                  []                                                 []   \n",
       "1926                  []                                                 []   \n",
       "1927                  []                                                 []   \n",
       "1928                  []                                                 []   \n",
       "1929                  []                                                 []   \n",
       "\n",
       "                           impact_on_daily_life  \n",
       "0                                            []  \n",
       "1              [Missed class, Feeling terrible]  \n",
       "2            [Feeling off for a few days after]  \n",
       "3     [Interrupted driving, Emotional distress]  \n",
       "4                                            []  \n",
       "...                                         ...  \n",
       "1925                                         []  \n",
       "1926                                         []  \n",
       "1927                                         []  \n",
       "1928                                         []  \n",
       "1929                                         []  \n",
       "\n",
       "[1930 rows x 22 columns]"
      ]
     },
     "execution_count": 204,
     "metadata": {},
     "output_type": "execute_result"
    }
   ],
   "source": [
    "dfx = pd.DataFrame.from_records( dfx.gpt35_response.map(lambda v: json.loads(v)) )\n",
    "dfx"
   ]
  },
  {
   "cell_type": "code",
   "execution_count": 206,
   "metadata": {},
   "outputs": [
    {
     "data": {
      "text/plain": [
       "Index(['anxiety_or_panic', 'type_of_post', 'profesionally_diagnosed',\n",
       "       'profesionally_treated', 'taking_medication',\n",
       "       'other_medical_conditions', 'relationship_context', 'trigger',\n",
       "       'location', 'event_frequency', 'duration_time_scale', 'stressors',\n",
       "       'perceived_signs_of_distress', 'coping_mechanisms',\n",
       "       'social_environment', 'physical_symptoms', 'cognitive_symptoms',\n",
       "       'emotional_wellbeing', 'intensity', 'duration',\n",
       "       'negative_behavioral_changes', 'impact_on_daily_life'],\n",
       "      dtype='object')"
      ]
     },
     "execution_count": 206,
     "metadata": {},
     "output_type": "execute_result"
    }
   ],
   "source": [
    "dfx.columns"
   ]
  },
  {
   "cell_type": "code",
   "execution_count": 212,
   "metadata": {},
   "outputs": [
    {
     "data": {
      "text/plain": [
       "negative_behavioral_changes\n",
       "[]                                                                                                                                        1710\n",
       "[avoidance of certain situations or activities]                                                                                             10\n",
       "[avoidance behaviors]                                                                                                                        5\n",
       "[None]                                                                                                                                       3\n",
       "[Avoidance of certain situations]                                                                                                            2\n",
       "[Avoidance of social situations]                                                                                                             2\n",
       "[Avoiding social situations]                                                                                                                 2\n",
       "[doing the same thing over and over without making any headway]                                                                              1\n",
       "[Difficulty speaking in public]                                                                                                              1\n",
       "[difficulty doing daily tasks, difficulty socializing]                                                                                       1\n",
       "[reducing interactions with other people, avoiding talking to people]                                                                        1\n",
       "[avoid certain situations or activities, become excessively dependent on certain things, trouble making decisions or completing tasks]       1\n",
       "[Avoiding answering questions]                                                                                                               1\n",
       "[not writing about anxiety anymore for fear of judgment, not feeling like opening up to others]                                              1\n",
       "[Cutting oneself]                                                                                                                            1\n",
       "[Procrastination]                                                                                                                            1\n",
       "[avoidance or isolation, restlessness, irritability, inability to relax or sit still]                                                        1\n",
       "[avoidance of social interaction]                                                                                                            1\n",
       "[avoiding situations or activities that can provoke anxiety]                                                                                 1\n",
       "[avoidance behaviors, substance abuse, nail biting, fidgeting, teeth grinding]                                                               1\n",
       "Name: count, dtype: int64"
      ]
     },
     "execution_count": 212,
     "metadata": {},
     "output_type": "execute_result"
    }
   ],
   "source": [
    "dfx.negative_behavioral_changes.value_counts()[:20]"
   ]
  },
  {
   "cell_type": "code",
   "execution_count": 211,
   "metadata": {},
   "outputs": [
    {
     "name": "stdout",
     "output_type": "stream",
     "text": [
      "============= anxiety_or_panic ==================\n"
     ]
    },
    {
     "data": {
      "text/plain": [
       "anxiety_or_panic\n",
       "anxiety         925\n",
       "none            506\n",
       "panic_attack    492\n",
       "both              1\n",
       "Name: count, dtype: int64"
      ]
     },
     "metadata": {},
     "output_type": "display_data"
    },
    {
     "name": "stdout",
     "output_type": "stream",
     "text": [
      "============= type_of_post ==================\n"
     ]
    },
    {
     "data": {
      "text/plain": [
       "type_of_post\n",
       "Personal_experience          1024\n",
       "Giving_information            477\n",
       "Tips_and_strategies           183\n",
       "Support_and_encouragement     150\n",
       "Other                          59\n",
       "Question_and_discussion        17\n",
       "Advocacy_and_awareness         14\n",
       "Name: count, dtype: int64"
      ]
     },
     "metadata": {},
     "output_type": "display_data"
    },
    {
     "name": "stdout",
     "output_type": "stream",
     "text": [
      "============= profesionally_diagnosed ==================\n"
     ]
    },
    {
     "data": {
      "text/plain": [
       "profesionally_diagnosed\n",
       "N/A    1076\n",
       "NO      765\n",
       "YES      83\n",
       "Name: count, dtype: int64"
      ]
     },
     "metadata": {},
     "output_type": "display_data"
    },
    {
     "name": "stdout",
     "output_type": "stream",
     "text": [
      "============= profesionally_treated ==================\n"
     ]
    },
    {
     "data": {
      "text/plain": [
       "profesionally_treated\n",
       "N/A    1083\n",
       "NO      744\n",
       "YES      97\n",
       "Name: count, dtype: int64"
      ]
     },
     "metadata": {},
     "output_type": "display_data"
    },
    {
     "name": "stdout",
     "output_type": "stream",
     "text": [
      "============= taking_medication ==================\n"
     ]
    },
    {
     "data": {
      "text/plain": [
       "taking_medication\n",
       "N/A    1055\n",
       "NO      738\n",
       "YES     131\n",
       "Name: count, dtype: int64"
      ]
     },
     "metadata": {},
     "output_type": "display_data"
    },
    {
     "name": "stdout",
     "output_type": "stream",
     "text": [
      "============= other_medical_conditions ==================\n"
     ]
    },
    {
     "data": {
      "text/plain": [
       "other_medical_conditions\n",
       "[]                                1859\n",
       "[depression]                         4\n",
       "[asthma]                             3\n",
       "[severe depression]                  2\n",
       "[anemia]                             2\n",
       "[None]                               2\n",
       "[migraines]                          2\n",
       "[depression, bipolar disorder]       1\n",
       "[sinus infection]                    1\n",
       "[COPD]                               1\n",
       "Name: count, dtype: int64"
      ]
     },
     "metadata": {},
     "output_type": "display_data"
    },
    {
     "name": "stdout",
     "output_type": "stream",
     "text": [
      "============= relationship_context ==================\n"
     ]
    },
    {
     "data": {
      "text/plain": [
       "relationship_context\n",
       "Other                1174\n",
       "N/A                   291\n",
       "None                  173\n",
       "Family                 87\n",
       "Friends                53\n",
       "Co-workers             36\n",
       "Classmates             30\n",
       "Work                   24\n",
       "Romantic_partners      22\n",
       "School                 14\n",
       "Name: count, dtype: int64"
      ]
     },
     "metadata": {},
     "output_type": "display_data"
    },
    {
     "name": "stdout",
     "output_type": "stream",
     "text": [
      "============= trigger ==================\n"
     ]
    },
    {
     "data": {
      "text/plain": [
       "trigger\n",
       "Other                   1116\n",
       "N/A                      272\n",
       "None                     219\n",
       "Social_event              72\n",
       "Unknown                   40\n",
       "Traumatic_experience      26\n",
       "Argument_or_conflict      24\n",
       "Health_concern            23\n",
       "Upcoming_tests            17\n",
       "Life_transition           13\n",
       "Name: count, dtype: int64"
      ]
     },
     "metadata": {},
     "output_type": "display_data"
    },
    {
     "name": "stdout",
     "output_type": "stream",
     "text": [
      "============= location ==================\n"
     ]
    },
    {
     "data": {
      "text/plain": [
       "location\n",
       "Other            1125\n",
       "N/A               288\n",
       "None              158\n",
       "Home              146\n",
       "School             51\n",
       "Work               46\n",
       "Public_spaces      41\n",
       "Unknown            11\n",
       "Hospital            8\n",
       "Car                 7\n",
       "Name: count, dtype: int64"
      ]
     },
     "metadata": {},
     "output_type": "display_data"
    },
    {
     "name": "stdout",
     "output_type": "stream",
     "text": [
      "============= event_frequency ==================\n"
     ]
    },
    {
     "data": {
      "text/plain": [
       "event_frequency\n",
       "None          1058\n",
       "Recurrent      739\n",
       "N/A             93\n",
       "First_time      31\n",
       "Few_times        2\n",
       "Occasional       1\n",
       "Name: count, dtype: int64"
      ]
     },
     "metadata": {},
     "output_type": "display_data"
    },
    {
     "name": "stdout",
     "output_type": "stream",
     "text": [
      "============= duration_time_scale ==================\n"
     ]
    },
    {
     "data": {
      "text/plain": [
       "duration_time_scale\n",
       "None       1315\n",
       "Minutes     386\n",
       "N/A          93\n",
       "Days         37\n",
       "Hours        35\n",
       "Months       33\n",
       "Years        18\n",
       "Weeks         6\n",
       "Seconds       1\n",
       "Name: count, dtype: int64"
      ]
     },
     "metadata": {},
     "output_type": "display_data"
    }
   ],
   "source": [
    "for c in ['anxiety_or_panic', 'type_of_post', 'profesionally_diagnosed',\n",
    "       'profesionally_treated', 'taking_medication',\n",
    "       'other_medical_conditions', 'relationship_context', 'trigger',\n",
    "       'location', 'event_frequency', 'duration_time_scale']:\n",
    "    \n",
    "    print(f\"============= {c} ==================\")\n",
    "\n",
    "    displayAll(dfx[c].value_counts()[:10])a"
   ]
  }
 ],
 "metadata": {
  "kernelspec": {
   "display_name": "Python 3",
   "language": "python",
   "name": "python3"
  },
  "language_info": {
   "codemirror_mode": {
    "name": "ipython",
    "version": 3
   },
   "file_extension": ".py",
   "mimetype": "text/x-python",
   "name": "python",
   "nbconvert_exporter": "python",
   "pygments_lexer": "ipython3",
   "version": "3.10.13"
  },
  "pycharm": {
   "stem_cell": {
    "cell_type": "raw",
    "metadata": {
     "collapsed": false
    },
    "source": []
   }
  },
  "toc": {
   "base_numbering": 1,
   "nav_menu": {},
   "number_sections": true,
   "sideBar": true,
   "skip_h1_title": false,
   "title_cell": "Table of Contents",
   "title_sidebar": "Contents",
   "toc_cell": false,
   "toc_position": {},
   "toc_section_display": true,
   "toc_window_display": false
  },
  "varInspector": {
   "cols": {
    "lenName": 16,
    "lenType": 16,
    "lenVar": 40
   },
   "kernels_config": {
    "python": {
     "delete_cmd_postfix": "",
     "delete_cmd_prefix": "del ",
     "library": "var_list.py",
     "varRefreshCmd": "print(var_dic_list())"
    },
    "r": {
     "delete_cmd_postfix": ") ",
     "delete_cmd_prefix": "rm(",
     "library": "var_list.r",
     "varRefreshCmd": "cat(var_dic_list()) "
    }
   },
   "types_to_exclude": [
    "module",
    "function",
    "builtin_function_or_method",
    "instance",
    "_Feature"
   ],
   "window_display": false
  }
 },
 "nbformat": 4,
 "nbformat_minor": 2
}
